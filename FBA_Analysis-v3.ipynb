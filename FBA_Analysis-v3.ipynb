{
 "cells": [
  {
   "cell_type": "code",
   "execution_count": 1,
   "metadata": {},
   "outputs": [],
   "source": [
    "import cobra\n",
    "import numpy as np\n",
    "import pandas as pd"
   ]
  },
  {
   "cell_type": "code",
   "execution_count": 2,
   "metadata": {},
   "outputs": [],
   "source": [
    "def set_minimal_media(model,ions=[],auto_ions=True,ignore =[]):\n",
    "    ''' set media to minimal (M9) FBA (no carbon source) by default it provides a predeterimined set of ions (\n",
    "    auto_ions =True), you can specify which metabolites not to change for example if you have calibrated the \n",
    "    vmaxes or want anaerobic conditions'''\n",
    "    if auto_ions == True:\n",
    "        ions = ions + ['ca2_e', 'cl_e','cobalt2_e','cu2_e','fe2_e','fe3_e','h_e','h2o_e','k_e','mg2_e','mn2_e',\n",
    "                       'mobd_e','na1_e','nh4_e','ni2_e',\n",
    "                            'o2_e','pi_e','so4_e','zn2_e',\n",
    "                            'tungs_e','sel_e','slnt_e','cbl1_e']\n",
    "    exch = [x for x in model.reactions  if len(x.metabolites) == 1 and next(iter(x.metabolites.values())) == -1 and next(iter(x.metabolites.keys())).compartment == 'e']\n",
    "    #If compartments are not assigned to the model \n",
    "    if len(exch) == 0:\n",
    "        exch = [x for x in model.reactions  if len(x.metabolites) == 1 and next(iter(x.metabolites.values())) == -1 and next(iter(x.metabolites.keys())).id[-2:] == '_e']\n",
    "\n",
    "    # .. media\n",
    "    for l in exch:\n",
    "        if next(iter(l.metabolites.keys())).id in ions:\n",
    "            model.reactions.get_by_id(l.id).lower_bound = -1000\n",
    "        elif next(iter(l.metabolites.keys())).id not in ignore:\n",
    "            model.reactions.get_by_id(l.id).lower_bound = -0\n",
    "        else:\n",
    "            pass"
   ]
  },
  {
   "cell_type": "markdown",
   "metadata": {},
   "source": [
    "### Create Models\n",
    "\n",
    "Ok let's simplify this. I'm going to load the models and create 2 versions\n",
    "\n",
    "one on glucose only\n",
    "one on citrate only\n",
    "\n",
    "I'm  also not going to add any side reaction as the side reactions activity is already covered by OAADC.\n",
    "\n",
    "h_c + oaa_c ⇌ co2_c + pyr_c\n",
    "\n",
    "NB this covers the side reaction of  both maeaA and maeaB:\n",
    "\n",
    "https://www.uniprot.org/uniprot/P26616\n",
    "https://www.uniprot.org/uniprot/P76558"
   ]
  },
  {
   "cell_type": "code",
   "execution_count": 3,
   "metadata": {},
   "outputs": [
    {
     "name": "stdout",
     "output_type": "stream",
     "text": [
      "Academic license - for non-commercial use only\n",
      "Read LP format model from file /tmp/tmppk8co6dw.lp\n",
      "Reading time = 0.01 seconds\n",
      ": 1951 rows, 5496 columns, 21258 nonzeros\n",
      "Read LP format model from file /tmp/tmpkultztum.lp\n",
      "Reading time = 0.01 seconds\n",
      ": 1951 rows, 5496 columns, 21258 nonzeros\n",
      "Read LP format model from file /tmp/tmpgvr4aw21.lp\n",
      "Reading time = 0.01 seconds\n",
      ": 1951 rows, 5496 columns, 21258 nonzeros\n"
     ]
    }
   ],
   "source": [
    "'''load the base model for REL606 and create 2 versions of the model\n",
    "a glucose only one and a citrate only one'''\n",
    "base_model = cobra.io.read_sbml_model('iECB_1328.xml.gz')\n",
    "set_minimal_media(base_model)\n",
    "glucose_only = base_model.copy()\n",
    "citrate_only = base_model.copy()\n",
    "both = base_model.copy()\n",
    "glucose_only.reactions.EX_glc__D_e.lower_bound=-10.0\n",
    "citrate_only.reactions.EX_cit_e.lower_bound = -10.\n",
    "both.reactions.EX_glc__D_e.lower_bound=-10.0\n",
    "both.reactions.EX_cit_e.lower_bound=-10.0"
   ]
  },
  {
   "cell_type": "markdown",
   "metadata": {},
   "source": [
    "# We'll perform pFBA on all three models. Lets  then see what happens to the main fluxes of interests"
   ]
  },
  {
   "cell_type": "code",
   "execution_count": 4,
   "metadata": {},
   "outputs": [],
   "source": [
    "glc = cobra.flux_analysis.pfba(glucose_only)\n",
    "cit = cobra.flux_analysis.pfba(citrate_only)\n",
    "bt = cobra.flux_analysis.pfba(both)"
   ]
  },
  {
   "cell_type": "code",
   "execution_count": 5,
   "metadata": {},
   "outputs": [
    {
     "name": "stdout",
     "output_type": "stream",
     "text": [
      "Growth\n",
      "0.9824784386660051\n",
      "0.7183799682334098\n",
      "MaeA\n",
      "0.0\n",
      "4.354100850130253\n",
      "MaeB\n",
      "0.0\n",
      "0.0\n",
      "MDH\n",
      "2.675387722200581\n",
      "4.012592471901773\n"
     ]
    }
   ],
   "source": [
    "# First lets get the biomass flux\n",
    "print('Growth')\n",
    "print(glc.get_primal_by_id('BIOMASS_Ec_iJO1366_core_53p95M'))\n",
    "print(cit.get_primal_by_id('BIOMASS_Ec_iJO1366_core_53p95M'))\n",
    "print('MaeA')\n",
    "#MaeA activity on citrate but not on glucose\n",
    "print(glc.get_primal_by_id('ME1'))\n",
    "print(cit.get_primal_by_id('ME1'))\n",
    "print('MaeB')\n",
    "#MaeB activity on neither\n",
    "print(glc.get_primal_by_id('ME2'))\n",
    "print(cit.get_primal_by_id('ME2'))\n",
    "print('MDH')\n",
    "# MDH activity on both\n",
    "print(glc.get_primal_by_id('MDH'))\n",
    "print(cit.get_primal_by_id('MDH'))\n"
   ]
  },
  {
   "cell_type": "markdown",
   "metadata": {},
   "source": [
    "### Lets repeat this but this time knocking out MaeA main activity"
   ]
  },
  {
   "cell_type": "code",
   "execution_count": 6,
   "metadata": {},
   "outputs": [],
   "source": [
    "glucose_only.reactions.ME1.upper_bound=0.0\n",
    "citrate_only.reactions.ME1.upper_bound=0.0\n",
    "glc2 = cobra.flux_analysis.pfba(glucose_only)\n",
    "cit2 = cobra.flux_analysis.pfba(citrate_only)"
   ]
  },
  {
   "cell_type": "code",
   "execution_count": 7,
   "metadata": {},
   "outputs": [
    {
     "name": "stdout",
     "output_type": "stream",
     "text": [
      "Growth\n",
      "0.9824784386660044\n",
      "0.7183799682334069\n",
      "MaeA\n",
      "0.0\n",
      "0.0\n",
      "MaeB\n",
      "0.0\n",
      "4.354100850130364\n",
      "MDH\n",
      "2.675387722200487\n",
      "4.012752670635938\n"
     ]
    }
   ],
   "source": [
    "# biomas flux is the same\n",
    "print('Growth')\n",
    "print(glc2.get_primal_by_id('BIOMASS_Ec_iJO1366_core_53p95M'))\n",
    "print(cit2.get_primal_by_id('BIOMASS_Ec_iJO1366_core_53p95M'))\n",
    "print('MaeA')\n",
    "#obviously no more meaA activity as we knocked it out\n",
    "print(glc2.get_primal_by_id('ME1'))\n",
    "print(cit2.get_primal_by_id('ME1'))\n",
    "print('MaeB')\n",
    "#MaeB activity replaces meaA \n",
    "print(glc2.get_primal_by_id('ME2'))\n",
    "print(cit2.get_primal_by_id('ME2'))\n",
    "print('MDH')\n",
    "# MDH activity on both\n",
    "print(glc2.get_primal_by_id('MDH'))\n",
    "print(cit2.get_primal_by_id('MDH'))\n"
   ]
  },
  {
   "cell_type": "markdown",
   "metadata": {},
   "source": [
    "### What happen if we also knock out ME2"
   ]
  },
  {
   "cell_type": "code",
   "execution_count": 8,
   "metadata": {},
   "outputs": [],
   "source": [
    "glucose_only.reactions.ME2.upper_bound=0.0\n",
    "citrate_only.reactions.ME2.upper_bound=0.0\n",
    "glc3 = cobra.flux_analysis.pfba(glucose_only)\n",
    "cit3 = cobra.flux_analysis.pfba(citrate_only)"
   ]
  },
  {
   "cell_type": "code",
   "execution_count": null,
   "metadata": {},
   "outputs": [],
   "source": [
    "# First lets get the biomass flux\n",
    "print('Growth')\n",
    "print(glc3.get_primal_by_id('BIOMASS_Ec_iJO1366_core_53p95M'))\n",
    "print(cit3.get_primal_by_id('BIOMASS_Ec_iJO1366_core_53p95M'))\n",
    "print('MaeA')\n",
    "##obviously no more meaA activity as we already knocked it out\n",
    "print(glc3.get_primal_by_id('ME1'))\n",
    "print(cit3.get_primal_by_id('ME1'))\n",
    "print('MaeB')\n",
    "#similarly no more meaB activity as we knocked it out\n",
    "print(glc3.get_primal_by_id('ME2'))\n",
    "print(cit3.get_primal_by_id('ME2'))\n",
    "print('MDH')\n",
    "# MDH activity on citrate goes up to replace MaeA\n",
    "print(glc3.get_primal_by_id('MDH'))\n",
    "print(cit3.get_primal_by_id('MDH'))\n",
    "# The extra oxaloacetate is then converted to pyruvate \n",
    "# NB  MDH + OAADC is stoichiometrically equivalent to ME1. Both differes from ME2 which is NADP dependent rather than NAD \n",
    "print(glc3.get_primal_by_id('OAADC'))\n",
    "print(cit3.get_primal_by_id('OAADC'))"
   ]
  },
  {
   "cell_type": "markdown",
   "metadata": {},
   "source": [
    "### What happen if we force MDH activity to it's original level. i.e you only allow as much MDH activity  as is optimal when ME1 or ME2 are active. "
   ]
  },
  {
   "cell_type": "code",
   "execution_count": 9,
   "metadata": {},
   "outputs": [],
   "source": [
    "citrate_only.reactions.MDH.upper_bound = 4.012752670635938\n",
    "glucose_only.reactions.MDH.upper_bound = 4.012752670635938\n",
    "glc4 = cobra.flux_analysis.pfba(glucose_only)\n",
    "cit4 = cobra.flux_analysis.pfba(citrate_only)"
   ]
  },
  {
   "cell_type": "code",
   "execution_count": 10,
   "metadata": {},
   "outputs": [
    {
     "name": "stdout",
     "output_type": "stream",
     "text": [
      "Growth\n",
      "0.9824784386660055\n",
      "0.7039804057371246\n",
      "MaeA\n",
      "0.0\n",
      "0.0\n",
      "MaeB\n",
      "0.0\n",
      "0.0\n",
      "MDH\n",
      "2.675606814890528\n",
      "4.012752670635938\n"
     ]
    }
   ],
   "source": [
    "# Now we see a weak growth cost(it's weak because there are still other slightly less optimal ways to use the exces malate (see next chunk)\n",
    "print('Growth')\n",
    "print(glc4.get_primal_by_id('BIOMASS_Ec_iJO1366_core_53p95M'))\n",
    "print(cit4.get_primal_by_id('BIOMASS_Ec_iJO1366_core_53p95M'))\n",
    "print('MaeA')\n",
    "#MaeA activity on citrate but not on glucose\n",
    "print(glc4.get_primal_by_id('ME1'))\n",
    "print(cit4.get_primal_by_id('ME1'))\n",
    "print('MaeB')\n",
    "#MaeB activity on either\n",
    "print(glc4.get_primal_by_id('ME2'))\n",
    "print(cit4.get_primal_by_id('ME2'))\n",
    "print('MDH')\n",
    "# MDH activity on both\n",
    "print(glc4.get_primal_by_id('MDH'))\n",
    "print(cit4.get_primal_by_id('MDH'))"
   ]
  },
  {
   "cell_type": "markdown",
   "metadata": {},
   "source": [
    "### Here are a bunch of other malate consuming reactions that increase in flux and thus buffer the loss of ME1 (targets for alternative pathways)"
   ]
  },
  {
   "cell_type": "code",
   "execution_count": 11,
   "metadata": {},
   "outputs": [],
   "source": [
    "glucose_only.reactions.MDH2.upper_bound=0.0\n",
    "glucose_only.reactions.MDH3.upper_bound=0.0\n",
    "glucose_only.reactions.DMALRED.upper_bound=1.5702995887617277\n",
    "glucose_only.reactions.MOX.upper_bound = 0.001168085828346487\n",
    "citrate_only.reactions.MDH3.upper_bound=0.0\n",
    "citrate_only.reactions.DMALRED.upper_bound=1.5702995887617277\n",
    "citrate_only.reactions.MOX.upper_bound = 0.001168085828346487\n",
    "glc4 = cobra.flux_analysis.pfba(glucose_only)\n",
    "cit4 = cobra.flux_analysis.pfba(citrate_only)"
   ]
  },
  {
   "cell_type": "code",
   "execution_count": 12,
   "metadata": {},
   "outputs": [
    {
     "name": "stdout",
     "output_type": "stream",
     "text": [
      "Growth\n",
      "0.9824782205471678\n",
      "0.7039804057371277\n"
     ]
    }
   ],
   "source": [
    "# You can see the drop in growth now if you knock them or force them to their base level (i.e level one ME1 is active)\n",
    "print('Growth')\n",
    "print(glc4.get_primal_by_id('BIOMASS_Ec_iJO1366_core_53p95M'))\n",
    "print(cit4.get_primal_by_id('BIOMASS_Ec_iJO1366_core_53p95M'))"
   ]
  },
  {
   "cell_type": "markdown",
   "metadata": {},
   "source": [
    "### Finally  to really prove that the first three ways of handling malate are truuly equivalent lets quickly do FVA"
   ]
  },
  {
   "cell_type": "code",
   "execution_count": 13,
   "metadata": {},
   "outputs": [
    {
     "name": "stdout",
     "output_type": "stream",
     "text": [
      "Read LP format model from file /tmp/tmpoc6r3akj.lp\n",
      "Reading time = 0.01 seconds\n",
      ": 1951 rows, 5496 columns, 21258 nonzeros\n",
      "Read LP format model from file /tmp/tmp8msihqa_.lp\n",
      "Reading time = 0.01 seconds\n",
      ": 1951 rows, 5496 columns, 21258 nonzeros\n"
     ]
    }
   ],
   "source": [
    "#Reset everything\n",
    "glucose_only = base_model.copy()\n",
    "citrate_only = base_model.copy()\n",
    "glucose_only.reactions.EX_glc__D_e.lower_bound = -10.0\n",
    "citrate_only.reactions.EX_cit_e.lower_bound=-10.0"
   ]
  },
  {
   "cell_type": "code",
   "execution_count": 14,
   "metadata": {},
   "outputs": [
    {
     "data": {
      "text/html": [
       "<div>\n",
       "<style scoped>\n",
       "    .dataframe tbody tr th:only-of-type {\n",
       "        vertical-align: middle;\n",
       "    }\n",
       "\n",
       "    .dataframe tbody tr th {\n",
       "        vertical-align: top;\n",
       "    }\n",
       "\n",
       "    .dataframe thead th {\n",
       "        text-align: right;\n",
       "    }\n",
       "</style>\n",
       "<table border=\"1\" class=\"dataframe\">\n",
       "  <thead>\n",
       "    <tr style=\"text-align: right;\">\n",
       "      <th></th>\n",
       "      <th>minimum</th>\n",
       "      <th>maximum</th>\n",
       "    </tr>\n",
       "  </thead>\n",
       "  <tbody>\n",
       "    <tr>\n",
       "      <td>ME1</td>\n",
       "      <td>0.000000</td>\n",
       "      <td>0.000000e+00</td>\n",
       "    </tr>\n",
       "    <tr>\n",
       "      <td>ME2</td>\n",
       "      <td>0.000000</td>\n",
       "      <td>1.089795e-12</td>\n",
       "    </tr>\n",
       "    <tr>\n",
       "      <td>MDH</td>\n",
       "      <td>2.675388</td>\n",
       "      <td>4.823197e+00</td>\n",
       "    </tr>\n",
       "  </tbody>\n",
       "</table>\n",
       "</div>"
      ],
      "text/plain": [
       "      minimum       maximum\n",
       "ME1  0.000000  0.000000e+00\n",
       "ME2  0.000000  1.089795e-12\n",
       "MDH  2.675388  4.823197e+00"
      ]
     },
     "execution_count": 14,
     "metadata": {},
     "output_type": "execute_result"
    }
   ],
   "source": [
    "#We never expect any activity on Glucose\n",
    "ME_reactions = [glucose_only.reactions.ME1, glucose_only.reactions.ME2,glucose_only.reactions.MDH]\n",
    "cobra.flux_analysis.flux_variability_analysis(glucose_only, reaction_list=ME_reactions, loopless=False)"
   ]
  },
  {
   "cell_type": "code",
   "execution_count": 15,
   "metadata": {
    "scrolled": true
   },
   "outputs": [
    {
     "data": {
      "text/html": [
       "<div>\n",
       "<style scoped>\n",
       "    .dataframe tbody tr th:only-of-type {\n",
       "        vertical-align: middle;\n",
       "    }\n",
       "\n",
       "    .dataframe tbody tr th {\n",
       "        vertical-align: top;\n",
       "    }\n",
       "\n",
       "    .dataframe thead th {\n",
       "        text-align: right;\n",
       "    }\n",
       "</style>\n",
       "<table border=\"1\" class=\"dataframe\">\n",
       "  <thead>\n",
       "    <tr style=\"text-align: right;\">\n",
       "      <th></th>\n",
       "      <th>minimum</th>\n",
       "      <th>maximum</th>\n",
       "    </tr>\n",
       "  </thead>\n",
       "  <tbody>\n",
       "    <tr>\n",
       "      <td>ME1</td>\n",
       "      <td>0.000000</td>\n",
       "      <td>4.354101</td>\n",
       "    </tr>\n",
       "    <tr>\n",
       "      <td>ME2</td>\n",
       "      <td>0.000000</td>\n",
       "      <td>4.354101</td>\n",
       "    </tr>\n",
       "    <tr>\n",
       "      <td>MDH</td>\n",
       "      <td>4.012592</td>\n",
       "      <td>10.336974</td>\n",
       "    </tr>\n",
       "  </tbody>\n",
       "</table>\n",
       "</div>"
      ],
      "text/plain": [
       "      minimum    maximum\n",
       "ME1  0.000000   4.354101\n",
       "ME2  0.000000   4.354101\n",
       "MDH  4.012592  10.336974"
      ]
     },
     "execution_count": 15,
     "metadata": {},
     "output_type": "execute_result"
    }
   ],
   "source": [
    "# But we can expect activity on any of these reactions in glucose\n",
    "cobra.flux_analysis.flux_variability_analysis(citrate_only, reaction_list=ME_reactions, loopless=False)"
   ]
  }
 ],
 "metadata": {
  "kernelspec": {
   "display_name": "Python 3",
   "language": "python",
   "name": "python3"
  },
  "language_info": {
   "codemirror_mode": {
    "name": "ipython",
    "version": 3
   },
   "file_extension": ".py",
   "mimetype": "text/x-python",
   "name": "python",
   "nbconvert_exporter": "python",
   "pygments_lexer": "ipython3",
   "version": "3.7.3"
  }
 },
 "nbformat": 4,
 "nbformat_minor": 2
}
