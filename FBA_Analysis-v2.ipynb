{
 "cells": [
  {
   "cell_type": "code",
   "execution_count": 1,
   "metadata": {},
   "outputs": [],
   "source": [
    "import cobra\n",
    "from cobra.medium import minimal_medium\n",
    "from cobra.flux_analysis import (\n",
    "    single_gene_deletion, single_reaction_deletion, double_gene_deletion,\n",
    "    double_reaction_deletion)\n",
    "\n",
    "import numpy as np\n",
    "import pandas as pd"
   ]
  },
  {
   "cell_type": "code",
   "execution_count": 2,
   "metadata": {},
   "outputs": [],
   "source": [
    "def set_minimal_media(model,ions=[],auto_ions=True,ignore =[]):\n",
    "    ''' set media to minimal (M9) FBA (no carbon source) by default it provides a predeterimined set of ions (\n",
    "    auto_ions =True), you can specify which metabolites not to change for example if you have calibrated the \n",
    "    vmaxes or want anaerobic conditions'''\n",
    "    if auto_ions == True:\n",
    "        ions = ions + ['ca2_e', 'cl_e','cobalt2_e','cu2_e','fe2_e','fe3_e','h_e','h2o_e','k_e','mg2_e','mn2_e',\n",
    "                       'mobd_e','na1_e','nh4_e','ni2_e',\n",
    "                            'o2_e','pi_e','so4_e','zn2_e',\n",
    "                            'tungs_e','sel_e','slnt_e','cbl1_e']\n",
    "    exch = [x for x in model.reactions  if len(x.metabolites) == 1 and next(iter(x.metabolites.values())) == -1 and next(iter(x.metabolites.keys())).compartment == 'e']\n",
    "    #If compartments are not assigned to the model \n",
    "    if len(exch) == 0:\n",
    "        exch = [x for x in model.reactions  if len(x.metabolites) == 1 and next(iter(x.metabolites.values())) == -1 and next(iter(x.metabolites.keys())).id[-2:] == '_e']\n",
    "\n",
    "    # .. media\n",
    "    for l in exch:\n",
    "        if next(iter(l.metabolites.keys())).id in ions:\n",
    "            model.reactions.get_by_id(l.id).lower_bound = -1000\n",
    "        elif next(iter(l.metabolites.keys())).id not in ignore:\n",
    "            model.reactions.get_by_id(l.id).lower_bound = -0\n",
    "        else:\n",
    "            pass"
   ]
  },
  {
   "cell_type": "markdown",
   "metadata": {},
   "source": [
    "### The Old version  -ion limited"
   ]
  },
  {
   "cell_type": "code",
   "execution_count": 3,
   "metadata": {},
   "outputs": [
    {
     "name": "stdout",
     "output_type": "stream",
     "text": [
      "{'EX_ca2_e': 0.005113800273256523, 'EX_cl_e': 0.005113800273256523, 'EX_cobalt2_e': 2.4561960966649965e-05, 'EX_cu2_e': 0.000696577213014193, 'EX_fe2_e': 0.015779586200559713, 'EX_glc__D_e': 10.0, 'EX_k_e': 0.19177291387853226, 'EX_mg2_e': 0.008523000455427539, 'EX_mn2_e': 0.0006788926011182051, 'EX_mobd_e': 0.00012673971858791382, 'EX_nh4_e': 10.611576699826303, 'EX_ni2_e': 0.0003173405356891175, 'EX_o2_e': 17.57432917781992, 'EX_pi_e': 0.9477291587688313, 'EX_so4_e': 0.24779088701595114, 'EX_zn2_e': 0.0003350251475851055}\n"
     ]
    }
   ],
   "source": [
    "'''load the base model for REL606.'''\n",
    "base_model = cobra.io.read_sbml_model('../metabolic-modeling/iECB_1328.xml.gz')\n",
    "max_growth = base_model.slim_optimize()\n",
    "base_model.medium = minimal_medium(base_model,max_growth)\n",
    "\n",
    "''' set glucose to 10.0. This is to set relative molarity of citrate and glucose in the media properly,\n",
    "so that growth yields of Cit- on DM25 and Cit+ on DM0 and DM25 are \"apples to apples\". '''\n",
    "citminus_medium = base_model.medium\n",
    "citminus_medium['EX_glc__D_e'] = 10.0\n",
    "base_model.medium = citminus_medium\n",
    "print(base_model.medium)"
   ]
  },
  {
   "cell_type": "markdown",
   "metadata": {},
   "source": [
    "### The New version  -ions unlimited"
   ]
  },
  {
   "cell_type": "code",
   "execution_count": 4,
   "metadata": {},
   "outputs": [
    {
     "name": "stdout",
     "output_type": "stream",
     "text": [
      "{'EX_ca2_e': 1000, 'EX_cbl1_e': 1000, 'EX_cl_e': 1000, 'EX_cobalt2_e': 1000, 'EX_cu2_e': 1000, 'EX_fe2_e': 1000, 'EX_fe3_e': 1000, 'EX_glc__D_e': 10.0, 'EX_h_e': 1000, 'EX_h2o_e': 1000, 'EX_k_e': 1000, 'EX_mg2_e': 1000, 'EX_mn2_e': 1000, 'EX_mobd_e': 1000, 'EX_na1_e': 1000, 'EX_nh4_e': 1000, 'EX_ni2_e': 1000, 'EX_o2_e': 1000, 'EX_pi_e': 1000, 'EX_sel_e': 1000, 'EX_slnt_e': 1000, 'EX_so4_e': 1000, 'EX_tungs_e': 1000, 'EX_zn2_e': 1000}\n"
     ]
    }
   ],
   "source": [
    "'''load the base model for REL606.'''\n",
    "base_model = cobra.io.read_sbml_model('../metabolic-modeling/iECB_1328.xml.gz')\n",
    "base_model.reactions.ATPM.lower_bound = 0.0\n",
    "set_minimal_media(base_model)\n",
    "''' set glucose to 10.0. This is to set relative molarity of citrate and glucose in the media properly,\n",
    "so that growth yields of Cit- on DM25 and Cit+ on DM0 and DM25 are \"apples to apples\". '''\n",
    "citminus_medium = base_model.medium\n",
    "citminus_medium['EX_glc__D_e'] = 10.0\n",
    "base_model.medium = citminus_medium\n",
    "print(base_model.medium)"
   ]
  },
  {
   "cell_type": "code",
   "execution_count": 5,
   "metadata": {},
   "outputs": [
    {
     "data": {
      "text/plain": [
       "'h_c + oaa_c --> co2_c + pyr_c'"
      ]
     },
     "execution_count": 5,
     "metadata": {},
     "output_type": "execute_result"
    }
   ],
   "source": [
    "''' add this reaction to maeA: nad[c] + oaa[c] ->pyr[c] + nadh[c].\n",
    "    This reaction is the difference between base_model and maeA_model.'''\n",
    "\n",
    "maeA_side_reaction = cobra.Reaction('MAEA')\n",
    "maeA_side_reaction.name = 'maeA_side_rxn '\n",
    "maeA_side_reaction.subsystem = 'Anaplerotic Reactions'\n",
    "maeA_side_reaction.lower_bound = 0.  # This is the default\n",
    "maeA_side_reaction.upper_bound = 1000.  # This is the default\n",
    "\n",
    "maeA_model = base_model.copy()\n",
    "maeA_model.add_reaction(maeA_side_reaction)\n",
    "\n",
    "''' \n",
    "cite: \n",
    "https://www.uniprot.org/uniprot/C3TAB2\n",
    "https://en.wikipedia.org/wiki/Malate_dehydrogenase_(oxaloacetate-decarboxylating)\n",
    "https://enzyme.expasy.org/EC/1.1.1.38\n",
    "'''\n",
    "\n",
    "''' I saw tons of flux through maeA's OAADC side reaction when I set its side rxn as:\n",
    "maeA_side_reaction.add_metabolites({\n",
    "    'oaa_c': -1.0,\n",
    "    ###'h_c': -1.0,\n",
    "    'pyr_c': 1.0,\n",
    "    'co2_e': 1.0 \n",
    "    ####'co2_c': 1.0,\n",
    "})\n",
    "\n",
    "BUT this is incorrect!! First of all co2 should be produced into the cell (co2_c),\n",
    "and second of all, there's a missing proton! When I fix this, then I don't see anymore\n",
    "flux through the side activity of maeA.\n",
    "\n",
    "'''\n",
    "\n",
    "maeA_side_reaction.add_metabolites({\n",
    "    'oaa_c': -1.0,\n",
    "    'h_c': -1.0,\n",
    "    'pyr_c': 1.0,\n",
    "    'co2_c': 1.0\n",
    "})\n",
    "\n",
    "## try Erik's modelled reaction. Note lack of carbon balance!\n",
    "'''maeA_side_reaction.add_metabolites({\n",
    "    'oaa_c': -1.0,\n",
    "    'nad_c': -1.0,\n",
    "    'pyr_c': 1.0,\n",
    "    'nadh_c': 1.0\n",
    "})'''\n",
    "\n",
    "## Try carbon-balanced but still incorrect reaction\n",
    "'''\n",
    "maeA_side_reaction.add_metabolites({\n",
    "    'oaa_c': -1.0,\n",
    "    'nad_c': -1.0,\n",
    "    'pyr_c': 1.0,\n",
    "    'nadh_c': 1.0,\n",
    "    'co2_c' : 1.0\n",
    "})\n",
    "'''\n",
    "\n",
    "\n",
    "maeA_side_reaction.reaction"
   ]
  },
  {
   "cell_type": "code",
   "execution_count": 6,
   "metadata": {},
   "outputs": [
    {
     "data": {
      "text/plain": [
       "{'EX_ca2_e': 1000,\n",
       " 'EX_cbl1_e': 1000,\n",
       " 'EX_cl_e': 1000,\n",
       " 'EX_cobalt2_e': 1000,\n",
       " 'EX_cu2_e': 1000,\n",
       " 'EX_fe2_e': 1000,\n",
       " 'EX_fe3_e': 1000,\n",
       " 'EX_glc__D_e': 10.0,\n",
       " 'EX_h_e': 1000,\n",
       " 'EX_h2o_e': 1000,\n",
       " 'EX_k_e': 1000,\n",
       " 'EX_mg2_e': 1000,\n",
       " 'EX_mn2_e': 1000,\n",
       " 'EX_mobd_e': 1000,\n",
       " 'EX_na1_e': 1000,\n",
       " 'EX_nh4_e': 1000,\n",
       " 'EX_ni2_e': 1000,\n",
       " 'EX_o2_e': 1000,\n",
       " 'EX_pi_e': 1000,\n",
       " 'EX_sel_e': 1000,\n",
       " 'EX_slnt_e': 1000,\n",
       " 'EX_so4_e': 1000,\n",
       " 'EX_tungs_e': 1000,\n",
       " 'EX_zn2_e': 1000}"
      ]
     },
     "execution_count": 6,
     "metadata": {},
     "output_type": "execute_result"
    }
   ],
   "source": [
    "''' TODO: USE CITROBACTER AS A CONTROL\n",
    "    PROBLEM: KBase and BiGG database IDs are not compatible!\n",
    "    Have to figure out how to do the mapping.. so skip this for now. \n",
    "    load the curated Citrobacter model (Cuepas et al. 2016)\n",
    "    use this model as a positive control to compare flux distribution.'''\n",
    "citrobacter_model = cobra.io.read_sbml_model('../metabolic-modeling/C.sedlakii_MAP_gapfill.sbml')\n",
    "citro_max_growth = citrobacter_model.slim_optimize()\n",
    "''' give citrobacter the same media as base'''\n",
    "base_model.medium\n",
    "#citrobacter_model.medium = minimal_medium(base_model, max_growth)"
   ]
  },
  {
   "cell_type": "code",
   "execution_count": 7,
   "metadata": {},
   "outputs": [],
   "source": [
    "''' NOTE: This code uses BiGG model IDs (BiGG namespace).'''\n",
    "def generate_models(basemodel, KO_OAADC=False):\n",
    "    \n",
    "    if KO_OAADC:\n",
    "        basemodel.reactions.OAADC.knock_out()\n",
    "    \n",
    "    \n",
    "    ''' Cit- model growing on glucose (no citrate flux)'''\n",
    "    glucose_model = basemodel.copy()\n",
    "    ''' Cit+ model on DM0 with citrate flux'''\n",
    "    DM0citrate_model = basemodel.copy()\n",
    "    ## set glucose to zero, and citrate to 100.0.\n",
    "    DM0 = DM0citrate_model.medium\n",
    "    DM0['EX_glc__D_e'] = 0.0\n",
    "    DM0['EX_cit_e'] = 100.0\n",
    "    DM0citrate_model.medium = DM0\n",
    "\n",
    "    assert 'EX_cit_e' in DM0citrate_model.medium\n",
    "    assert 'EX_glc__D_e' not in DM0citrate_model.medium\n",
    "    assert 'EX_glc__D_e' in glucose_model.medium\n",
    "    assert 'EX_cit_e' not in glucose_model.medium\n",
    "\n",
    "    ''' Cit+ model on DM25 with citrate flux'''\n",
    "    DM25citrate_model = DM0citrate_model.copy()\n",
    "    DM25 = DM25citrate_model.medium\n",
    "    DM25['EX_glc__D_e'] = 10.0\n",
    "    DM25['EX_cit_e'] = 100.0\n",
    "    DM25citrate_model.medium = DM25\n",
    "\n",
    "    ''' now make the fermentation (no O2 influx) models.'''\n",
    "    glucose_fermentation_model = glucose_model.copy()\n",
    "    noO2_media = glucose_fermentation_model.medium\n",
    "    noO2_media['EX_o2_e'] = 0.0\n",
    "    glucose_fermentation_model.medium = noO2_media\n",
    "    \n",
    "    DM0citrate_fermentation_model = DM0citrate_model.copy()\n",
    "    DM0_noO2_media = DM0citrate_fermentation_model.medium\n",
    "    DM0_noO2_media['EX_o2_e'] = 0.0\n",
    "    DM0citrate_fermentation_model.medium = DM0_noO2_media\n",
    "    \n",
    "    DM25citrate_fermentation_model = DM25citrate_model.copy()\n",
    "    DM25_noO2_media = DM25citrate_fermentation_model.medium\n",
    "    DM25_noO2_media['EX_o2_e'] = 0.0\n",
    "    DM25citrate_fermentation_model.medium = DM25_noO2_media\n",
    "    \n",
    "    \n",
    "    return (glucose_model, DM0citrate_model, DM25citrate_model,glucose_fermentation_model, DM0citrate_fermentation_model, DM25citrate_fermentation_model)"
   ]
  },
  {
   "cell_type": "code",
   "execution_count": 8,
   "metadata": {},
   "outputs": [],
   "source": [
    "old_cit_minus_model, old_DM0_cit_plus_model, old_DM25_cit_plus_model,old_cit_minus_ferment_model, old_DM0_cit_plus_ferment_model, old_DM25_cit_plus_ferment_model = generate_models(base_model)\n",
    "new_cit_minus_model, new_DM0_cit_plus_model, new_DM25_cit_plus_model,new_cit_minus_ferment_model, new_DM0_cit_plus_ferment_model, new_DM25_cit_plus_ferment_model = generate_models(maeA_model)"
   ]
  },
  {
   "cell_type": "code",
   "execution_count": 9,
   "metadata": {},
   "outputs": [
    {
     "data": {
      "text/plain": [
       "' See what happens if we knockout OAADC'"
      ]
     },
     "execution_count": 9,
     "metadata": {},
     "output_type": "execute_result"
    }
   ],
   "source": [
    "''' See what happens if we knockout OAADC'''\n",
    "##old_cit_minus_model, old_DM0_cit_plus_model, old_DM25_cit_plus_model,old_cit_minus_ferment_model, old_DM0_cit_plus_ferment_model, old_DM25_cit_plus_ferment_model = generate_models(base_model,KO_OAADC=True)\n",
    "##new_cit_minus_model, new_DM0_cit_plus_model, new_DM25_cit_plus_model,new_cit_minus_ferment_model, new_DM0_cit_plus_ferment_model, new_DM25_cit_plus_ferment_model = generate_models(maeA_model, KO_OAADC=True)"
   ]
  },
  {
   "cell_type": "code",
   "execution_count": 10,
   "metadata": {},
   "outputs": [],
   "source": [
    "old_cit_minus_solution = old_cit_minus_model.optimize()\n",
    "old_DM0_cit_plus_solution = old_DM0_cit_plus_model.optimize()\n",
    "old_DM25_cit_plus_solution = old_DM25_cit_plus_model.optimize()\n",
    "\n",
    "new_cit_minus_solution = new_cit_minus_model.optimize()\n",
    "new_DM0_cit_plus_solution = new_DM0_cit_plus_model.optimize()\n",
    "new_DM25_cit_plus_solution = new_DM25_cit_plus_model.optimize()"
   ]
  },
  {
   "cell_type": "code",
   "execution_count": 11,
   "metadata": {},
   "outputs": [],
   "source": [
    "old_cit_minus_ferment_solution = old_cit_minus_ferment_model.optimize()\n",
    "old_DM0_cit_plus_ferment_solution = old_DM0_cit_plus_ferment_model.optimize()\n",
    "old_DM25_cit_plus_ferment_solution = old_DM25_cit_plus_ferment_model.optimize()\n",
    "\n",
    "new_cit_minus_ferment_solution = new_cit_minus_ferment_model.optimize()\n",
    "new_DM0_cit_plus_ferment_solution = new_DM0_cit_plus_ferment_model.optimize()\n",
    "new_DM25_cit_plus_ferment_solution = new_DM25_cit_plus_ferment_model.optimize()"
   ]
  },
  {
   "cell_type": "code",
   "execution_count": 12,
   "metadata": {},
   "outputs": [
    {
     "name": "stdout",
     "output_type": "stream",
     "text": [
      "0.2763716323074969\n",
      "1.7702604102188033\n",
      "2.1463709469315244\n"
     ]
    }
   ],
   "source": [
    "'''fermentation solutions work, after Jean's modifications to the media (so that ions are not limiting)'''\n",
    "print(new_cit_minus_ferment_solution.objective_value)\n",
    "print(new_DM0_cit_plus_ferment_solution.objective_value)\n",
    "print(new_DM25_cit_plus_ferment_solution.objective_value)"
   ]
  },
  {
   "cell_type": "code",
   "execution_count": 13,
   "metadata": {},
   "outputs": [
    {
     "name": "stdout",
     "output_type": "stream",
     "text": [
      "0.9955449663493416\n",
      "7.311755401866751\n",
      "8.365993776414319\n"
     ]
    }
   ],
   "source": [
    "print(new_cit_minus_solution.objective_value)\n",
    "print(new_DM0_cit_plus_solution.objective_value)\n",
    "print(new_DM25_cit_plus_solution.objective_value)"
   ]
  },
  {
   "cell_type": "code",
   "execution_count": 14,
   "metadata": {},
   "outputs": [
    {
     "name": "stdout",
     "output_type": "stream",
     "text": [
      "0.0\n",
      "0.0\n",
      "2.174054434253979\n"
     ]
    }
   ],
   "source": [
    "''' after Jean's modifications, we see predicted flux through Citrate Lyase in DM0 but not DM25.'''\n",
    "print(new_cit_minus_solution['CITL'])\n",
    "print(new_DM25_cit_plus_solution['CITL'])\n",
    "print(new_DM0_cit_plus_solution['CITL'])"
   ]
  },
  {
   "cell_type": "code",
   "execution_count": 15,
   "metadata": {},
   "outputs": [
    {
     "name": "stdout",
     "output_type": "stream",
     "text": [
      "0.0\n",
      "0.0\n",
      "0.0\n"
     ]
    }
   ],
   "source": [
    "''' This is the canonical rxn catalyzed by MaeA'''\n",
    "print(old_cit_minus_solution['ME1'])\n",
    "print(old_DM25_cit_plus_solution['ME1'])\n",
    "print(old_DM0_cit_plus_solution['ME1'])"
   ]
  },
  {
   "cell_type": "code",
   "execution_count": 16,
   "metadata": {},
   "outputs": [
    {
     "name": "stdout",
     "output_type": "stream",
     "text": [
      "0.0\n",
      "8.256612716886996\n",
      "42.53537760946885\n"
     ]
    }
   ],
   "source": [
    "print(old_cit_minus_solution['ME2'])\n",
    "print(old_DM25_cit_plus_solution['ME2'])\n",
    "print(old_DM0_cit_plus_solution['ME2'])"
   ]
  },
  {
   "cell_type": "code",
   "execution_count": 17,
   "metadata": {},
   "outputs": [
    {
     "name": "stdout",
     "output_type": "stream",
     "text": [
      "0.0\n",
      "0.0\n",
      "0.0\n"
     ]
    }
   ],
   "source": [
    "''' This is the canonical rxn catalyzed by MaeA'''\n",
    "print(new_cit_minus_solution['ME1'])\n",
    "print(new_DM25_cit_plus_solution['ME1'])\n",
    "print(new_DM0_cit_plus_solution['ME1'])"
   ]
  },
  {
   "cell_type": "code",
   "execution_count": 18,
   "metadata": {},
   "outputs": [
    {
     "name": "stdout",
     "output_type": "stream",
     "text": [
      "0.0\n",
      "8.256612716886996\n",
      "42.53537760946885\n"
     ]
    }
   ],
   "source": [
    "print(old_cit_minus_solution['ME2'])\n",
    "print(old_DM25_cit_plus_solution['ME2'])\n",
    "print(old_DM0_cit_plus_solution['ME2'])"
   ]
  },
  {
   "cell_type": "code",
   "execution_count": 19,
   "metadata": {},
   "outputs": [
    {
     "data": {
      "text/html": [
       "\n",
       "        <table>\n",
       "            <tr>\n",
       "                <td><strong>Reaction identifier</strong></td><td>OAADC</td>\n",
       "            </tr><tr>\n",
       "                <td><strong>Name</strong></td><td>Oxaloacetate decarboxylase</td>\n",
       "            </tr><tr>\n",
       "                <td><strong>Memory address</strong></td>\n",
       "                <td>0x012a84d860</td>\n",
       "            </tr><tr>\n",
       "                <td><strong>Stoichiometry</strong></td>\n",
       "                <td>\n",
       "                    <p style='text-align:right'>h_c + oaa_c --> co2_c + pyr_c</p>\n",
       "                    <p style='text-align:right'>H+ + Oxaloacetate --> CO2 CO2 + Pyruvate</p>\n",
       "                </td>\n",
       "            </tr><tr>\n",
       "                <td><strong>GPR</strong></td><td>ECB_01821</td>\n",
       "            </tr><tr>\n",
       "                <td><strong>Lower bound</strong></td><td>0.0</td>\n",
       "            </tr><tr>\n",
       "                <td><strong>Upper bound</strong></td><td>1000.0</td>\n",
       "            </tr>\n",
       "        </table>\n",
       "        "
      ],
      "text/plain": [
       "<Reaction OAADC at 0x12a84d860>"
      ]
     },
     "execution_count": 19,
     "metadata": {},
     "output_type": "execute_result"
    }
   ],
   "source": [
    "old_DM25_cit_plus_model.reactions.OAADC"
   ]
  },
  {
   "cell_type": "code",
   "execution_count": 20,
   "metadata": {},
   "outputs": [
    {
     "data": {
      "text/plain": [
       "35.536463034082495"
      ]
     },
     "execution_count": 20,
     "metadata": {},
     "output_type": "execute_result"
    }
   ],
   "source": [
    "old_DM25_cit_plus_model.reactions.OAADC.x"
   ]
  },
  {
   "cell_type": "code",
   "execution_count": 21,
   "metadata": {},
   "outputs": [
    {
     "name": "stdout",
     "output_type": "stream",
     "text": [
      "0.0\n",
      "0.0\n",
      "0.0\n"
     ]
    }
   ],
   "source": [
    "print(new_cit_minus_solution['MAEA'])\n",
    "print(new_DM25_cit_plus_solution['MAEA'])\n",
    "print(new_DM0_cit_plus_solution['MAEA'])"
   ]
  },
  {
   "cell_type": "code",
   "execution_count": 22,
   "metadata": {},
   "outputs": [
    {
     "name": "stdout",
     "output_type": "stream",
     "text": [
      "0.0\n",
      "35.536463034082495\n",
      "0.0\n"
     ]
    }
   ],
   "source": [
    "print(old_cit_minus_solution['OAADC'])\n",
    "print(old_DM25_cit_plus_solution['OAADC'])\n",
    "print(old_DM0_cit_plus_solution['OAADC'])"
   ]
  },
  {
   "cell_type": "code",
   "execution_count": 23,
   "metadata": {},
   "outputs": [
    {
     "name": "stdout",
     "output_type": "stream",
     "text": [
      "0.0\n",
      "35.536463034082495\n",
      "0.0\n"
     ]
    }
   ],
   "source": [
    "print(new_cit_minus_solution['OAADC'])\n",
    "print(new_DM25_cit_plus_solution['OAADC'])\n",
    "print(new_DM0_cit_plus_solution['OAADC'])"
   ]
  },
  {
   "cell_type": "code",
   "execution_count": 24,
   "metadata": {},
   "outputs": [
    {
     "name": "stdout",
     "output_type": "stream",
     "text": [
      "PRODUCING REACTIONS -- Pyruvate (pyr_c)\n",
      "---------------------------------------\n",
      "%      FLUX  RXN ID      REACTION\n",
      "---  ------  ----------  --------------------------------------------------\n",
      "89%  10      GLCptspp    glc__D_p + pep_c --> g6p_c + pyr_c\n",
      "6%    0.689  PYK         adp_c + h_c + pep_c --> atp_c + pyr_c\n",
      "4%    0.421  VPAMTr_...  3mob_c + ala__L_c <=> pyr_c + val__L_c\n",
      "1%    0.153  CYSTL       cyst__L_c + h2o_c --> hcys__L_c + nh4_c + pyr_c\n",
      "\n",
      "CONSUMING REACTIONS -- Pyruvate (pyr_c)\n",
      "---------------------------------------\n",
      "%      FLUX  RXN ID      REACTION\n",
      "---  ------  ----------  --------------------------------------------------\n",
      "69%   7.75   PDH         coa_c + nad_c + pyr_c --> accoa_c + co2_c + nadh_c\n",
      "15%   1.74   ACLS        h_c + 2.0 pyr_c --> alac__S_c + co2_c\n",
      "9%    1      ALATA_L     akg_c + ala__L_c <=> glu__L_c + pyr_c\n",
      "3%    0.369  DHDPS       aspsa_c + pyr_c --> 23dhdp_c + 2.0 h2o_c + h_c\n",
      "3%    0.289  ACHBS       2obut_c + h_c + pyr_c --> 2ahbut_c + co2_c\n",
      "1%    0.108  POR5        coa_c + 2.0 flxso_c + pyr_c <=> accoa_c + co2_c...\n",
      "None\n",
      "************************\n",
      "PRODUCING REACTIONS -- Pyruvate (pyr_c)\n",
      "---------------------------------------\n",
      "%      FLUX  RXN ID    REACTION\n",
      "---  ------  --------  --------------------------------------------------\n",
      "64%  35.5    OAADC     h_c + oaa_c --> co2_c + pyr_c\n",
      "18%  10      GLCptspp  glc__D_p + pep_c --> g6p_c + pyr_c\n",
      "15%   8.26   ME2       mal__L_c + nadp_c --> co2_c + nadph_c + pyr_c\n",
      "2%    1.29   CYSTL     cyst__L_c + h2o_c --> hcys__L_c + nh4_c + pyr_c\n",
      "1%    0.476  ANS       chor_c + gln__L_c --> anth_c + glu__L_c + h_c +...\n",
      "\n",
      "CONSUMING REACTIONS -- Pyruvate (pyr_c)\n",
      "---------------------------------------\n",
      "%      FLUX  RXN ID    REACTION\n",
      "---  ------  --------  --------------------------------------------------\n",
      "52%  29.1    PDH       coa_c + nad_c + pyr_c --> accoa_c + co2_c + nadh_c\n",
      "26%  14.6    ACLS      h_c + 2.0 pyr_c --> alac__S_c + co2_c\n",
      "9%    4.86   ALATA_L   akg_c + ala__L_c <=> glu__L_c + pyr_c\n",
      "6%    3.1    DHDPS     aspsa_c + pyr_c --> 23dhdp_c + 2.0 h2o_c + h_c\n",
      "4%    2.43   ACHBS     2obut_c + h_c + pyr_c --> 2ahbut_c + co2_c\n",
      "2%    0.91   POR5      coa_c + 2.0 flxso_c + pyr_c <=> accoa_c + co2_c...\n",
      "1%    0.476  TRPAS2    h2o_c + trp__L_c <=> indole_c + nh4_c + pyr_c\n",
      "None\n",
      "************************\n",
      "PRODUCING REACTIONS -- Pyruvate (pyr_c)\n",
      "---------------------------------------\n",
      "%      FLUX  RXN ID      REACTION\n",
      "---  ------  ----------  --------------------------------------------------\n",
      "91%  42.5    ME2         mal__L_c + nadp_c --> co2_c + nadph_c + pyr_c\n",
      "7%    3.09   VPAMTr_...  3mob_c + ala__L_c <=> pyr_c + val__L_c\n",
      "2%    1.13   CYSTL       cyst__L_c + h2o_c --> hcys__L_c + nh4_c + pyr_c\n",
      "\n",
      "CONSUMING REACTIONS -- Pyruvate (pyr_c)\n",
      "---------------------------------------\n",
      "%      FLUX  RXN ID      REACTION\n",
      "---  ------  ----------  --------------------------------------------------\n",
      "45%  21      PDH         coa_c + nad_c + pyr_c --> accoa_c + co2_c + nadh_c\n",
      "27%  12.8    ACLS        h_c + 2.0 pyr_c --> alac__S_c + co2_c\n",
      "16%   7.34   ALATA_L     akg_c + ala__L_c <=> glu__L_c + pyr_c\n",
      "6%    2.71   DHDPS       aspsa_c + pyr_c --> 23dhdp_c + 2.0 h2o_c + h_c\n",
      "5%    2.12   ACHBS       2obut_c + h_c + pyr_c --> 2ahbut_c + co2_c\n",
      "2%    0.799  PFL         coa_c + pyr_c --> accoa_c + for_c\n",
      "None\n"
     ]
    }
   ],
   "source": [
    "''' look at pyruvate in the old models'''\n",
    "print(old_cit_minus_model.metabolites.pyr_c.summary())\n",
    "print('************************')\n",
    "print(old_DM25_cit_plus_model.metabolites.pyr_c.summary())\n",
    "print('************************')\n",
    "print(old_DM0_cit_plus_model.metabolites.pyr_c.summary())"
   ]
  },
  {
   "cell_type": "code",
   "execution_count": 25,
   "metadata": {},
   "outputs": [
    {
     "name": "stdout",
     "output_type": "stream",
     "text": [
      "PRODUCING REACTIONS -- Pyruvate (pyr_c)\n",
      "---------------------------------------\n",
      "%      FLUX  RXN ID      REACTION\n",
      "---  ------  ----------  --------------------------------------------------\n",
      "89%  10      GLCptspp    glc__D_p + pep_c --> g6p_c + pyr_c\n",
      "6%    0.689  PYK         adp_c + h_c + pep_c --> atp_c + pyr_c\n",
      "4%    0.421  VPAMTr_...  3mob_c + ala__L_c <=> pyr_c + val__L_c\n",
      "1%    0.153  CYSTL       cyst__L_c + h2o_c --> hcys__L_c + nh4_c + pyr_c\n",
      "\n",
      "CONSUMING REACTIONS -- Pyruvate (pyr_c)\n",
      "---------------------------------------\n",
      "%      FLUX  RXN ID      REACTION\n",
      "---  ------  ----------  --------------------------------------------------\n",
      "69%   7.75   PDH         coa_c + nad_c + pyr_c --> accoa_c + co2_c + nadh_c\n",
      "15%   1.74   ACLS        h_c + 2.0 pyr_c --> alac__S_c + co2_c\n",
      "9%    1      ALATA_L     akg_c + ala__L_c <=> glu__L_c + pyr_c\n",
      "3%    0.369  DHDPS       aspsa_c + pyr_c --> 23dhdp_c + 2.0 h2o_c + h_c\n",
      "3%    0.289  ACHBS       2obut_c + h_c + pyr_c --> 2ahbut_c + co2_c\n",
      "1%    0.108  POR5        coa_c + 2.0 flxso_c + pyr_c <=> accoa_c + co2_c...\n",
      "None\n",
      "************************\n",
      "PRODUCING REACTIONS -- Pyruvate (pyr_c)\n",
      "---------------------------------------\n",
      "%      FLUX  RXN ID    REACTION\n",
      "---  ------  --------  --------------------------------------------------\n",
      "64%  35.5    OAADC     h_c + oaa_c --> co2_c + pyr_c\n",
      "18%  10      GLCptspp  glc__D_p + pep_c --> g6p_c + pyr_c\n",
      "15%   8.26   ME2       mal__L_c + nadp_c --> co2_c + nadph_c + pyr_c\n",
      "2%    1.29   CYSTL     cyst__L_c + h2o_c --> hcys__L_c + nh4_c + pyr_c\n",
      "1%    0.476  ANS       chor_c + gln__L_c --> anth_c + glu__L_c + h_c +...\n",
      "\n",
      "CONSUMING REACTIONS -- Pyruvate (pyr_c)\n",
      "---------------------------------------\n",
      "%      FLUX  RXN ID    REACTION\n",
      "---  ------  --------  --------------------------------------------------\n",
      "52%  29.1    PDH       coa_c + nad_c + pyr_c --> accoa_c + co2_c + nadh_c\n",
      "26%  14.6    ACLS      h_c + 2.0 pyr_c --> alac__S_c + co2_c\n",
      "9%    4.86   ALATA_L   akg_c + ala__L_c <=> glu__L_c + pyr_c\n",
      "6%    3.1    DHDPS     aspsa_c + pyr_c --> 23dhdp_c + 2.0 h2o_c + h_c\n",
      "4%    2.43   ACHBS     2obut_c + h_c + pyr_c --> 2ahbut_c + co2_c\n",
      "2%    0.91   POR5      coa_c + 2.0 flxso_c + pyr_c <=> accoa_c + co2_c...\n",
      "1%    0.476  TRPAS2    h2o_c + trp__L_c <=> indole_c + nh4_c + pyr_c\n",
      "None\n",
      "************************\n",
      "PRODUCING REACTIONS -- Pyruvate (pyr_c)\n",
      "---------------------------------------\n",
      "%      FLUX  RXN ID      REACTION\n",
      "---  ------  ----------  --------------------------------------------------\n",
      "91%  42.5    ME2         mal__L_c + nadp_c --> co2_c + nadph_c + pyr_c\n",
      "7%    3.09   VPAMTr_...  3mob_c + ala__L_c <=> pyr_c + val__L_c\n",
      "2%    1.13   CYSTL       cyst__L_c + h2o_c --> hcys__L_c + nh4_c + pyr_c\n",
      "\n",
      "CONSUMING REACTIONS -- Pyruvate (pyr_c)\n",
      "---------------------------------------\n",
      "%      FLUX  RXN ID      REACTION\n",
      "---  ------  ----------  --------------------------------------------------\n",
      "45%  21      PDH         coa_c + nad_c + pyr_c --> accoa_c + co2_c + nadh_c\n",
      "27%  12.8    ACLS        h_c + 2.0 pyr_c --> alac__S_c + co2_c\n",
      "16%   7.34   ALATA_L     akg_c + ala__L_c <=> glu__L_c + pyr_c\n",
      "6%    2.71   DHDPS       aspsa_c + pyr_c --> 23dhdp_c + 2.0 h2o_c + h_c\n",
      "5%    2.12   ACHBS       2obut_c + h_c + pyr_c --> 2ahbut_c + co2_c\n",
      "2%    0.799  PFL         coa_c + pyr_c --> accoa_c + for_c\n",
      "None\n"
     ]
    }
   ],
   "source": [
    "''' look at pyruvate in the models'''\n",
    "print(new_cit_minus_model.metabolites.pyr_c.summary())\n",
    "print('************************')\n",
    "print(new_DM25_cit_plus_model.metabolites.pyr_c.summary())\n",
    "print('************************')\n",
    "print(new_DM0_cit_plus_model.metabolites.pyr_c.summary())"
   ]
  },
  {
   "cell_type": "code",
   "execution_count": 26,
   "metadata": {},
   "outputs": [],
   "source": [
    "''' let us look for reactions which increase flux in response to higher glucose input,\n",
    "    but decrease flux in response to higher citrate input, or vice-versa.\n",
    "    These would be candidate reactions for antagonistic pleiotropy.'''\n",
    "\n",
    "## increment glucose or citrate influx from 10.0 to 11.0.\n",
    "## note that result is somewhat sensitive to +/- epsilon: MAEA is pleiotropic for -e but not +e.\n",
    "epsilon = 0.01\n",
    "\n",
    "glucose_model_dx = new_cit_minus_model.copy()\n",
    "citrate_model_dy = new_DM0_cit_plus_model.copy()\n",
    "DM25_dx = new_cit_minus_model.medium\n",
    "DM0_dy = new_DM0_cit_plus_model.medium\n",
    "DM25_dx['EX_glc__D_e'] = DM25_dx['EX_glc__D_e'] - epsilon\n",
    "DM0_dy['EX_cit_e'] = DM0_dy['EX_cit_e'] - epsilon\n",
    "glucose_model_dx.medium = DM25_dx\n",
    "citrate_model_dy.medium = DM0_dy\n",
    "glucose_dx_solution = glucose_model_dx.optimize()\n",
    "citrate_dy_solution = citrate_model_dy.optimize()\n",
    "\n",
    "citrate_solution = new_DM0_cit_plus_model.optimize()\n",
    "glucose_solution = new_cit_minus_model.optimize()\n",
    "\n",
    "dCdy = citrate_dy_solution.fluxes - citrate_solution.fluxes\n",
    "dGdx = glucose_dx_solution.fluxes - glucose_solution.fluxes\n",
    "\n",
    "flux_derivative = pd.DataFrame({'dCdy':dCdy,'dGdx':dGdx})\n",
    "flux_derivative['vec_norm'] = np.sqrt(np.square(flux_derivative).sum(axis=1))\n",
    "flux_derivative['product'] = flux_derivative['dCdy']*flux_derivative['dGdx']"
   ]
  },
  {
   "cell_type": "code",
   "execution_count": 27,
   "metadata": {},
   "outputs": [],
   "source": [
    "flux_derivative2 = flux_derivative[flux_derivative['vec_norm'] > epsilon]"
   ]
  },
  {
   "cell_type": "code",
   "execution_count": 28,
   "metadata": {},
   "outputs": [
    {
     "name": "stdout",
     "output_type": "stream",
     "text": [
      "0.69909948573457\n"
     ]
    },
    {
     "data": {
      "text/html": [
       "<div>\n",
       "<style scoped>\n",
       "    .dataframe tbody tr th:only-of-type {\n",
       "        vertical-align: middle;\n",
       "    }\n",
       "\n",
       "    .dataframe tbody tr th {\n",
       "        vertical-align: top;\n",
       "    }\n",
       "\n",
       "    .dataframe thead th {\n",
       "        text-align: right;\n",
       "    }\n",
       "</style>\n",
       "<table border=\"1\" class=\"dataframe\">\n",
       "  <thead>\n",
       "    <tr style=\"text-align: right;\">\n",
       "      <th></th>\n",
       "      <th>dCdy</th>\n",
       "      <th>dGdx</th>\n",
       "      <th>vec_norm</th>\n",
       "      <th>product</th>\n",
       "    </tr>\n",
       "  </thead>\n",
       "  <tbody>\n",
       "    <tr>\n",
       "      <th>EX_cit_e</th>\n",
       "      <td>0.01</td>\n",
       "      <td>0.00</td>\n",
       "      <td>0.01</td>\n",
       "      <td>0.0</td>\n",
       "    </tr>\n",
       "    <tr>\n",
       "      <th>CITtex</th>\n",
       "      <td>-0.01</td>\n",
       "      <td>0.00</td>\n",
       "      <td>0.01</td>\n",
       "      <td>-0.0</td>\n",
       "    </tr>\n",
       "    <tr>\n",
       "      <th>TARTRt7pp</th>\n",
       "      <td>0.01</td>\n",
       "      <td>0.00</td>\n",
       "      <td>0.01</td>\n",
       "      <td>0.0</td>\n",
       "    </tr>\n",
       "    <tr>\n",
       "      <th>TARTRtpp</th>\n",
       "      <td>-0.01</td>\n",
       "      <td>0.00</td>\n",
       "      <td>0.01</td>\n",
       "      <td>-0.0</td>\n",
       "    </tr>\n",
       "    <tr>\n",
       "      <th>GLUDy</th>\n",
       "      <td>0.01</td>\n",
       "      <td>0.01</td>\n",
       "      <td>0.01</td>\n",
       "      <td>0.0</td>\n",
       "    </tr>\n",
       "    <tr>\n",
       "      <th>FUM</th>\n",
       "      <td>-0.01</td>\n",
       "      <td>-0.00</td>\n",
       "      <td>0.01</td>\n",
       "      <td>0.0</td>\n",
       "    </tr>\n",
       "    <tr>\n",
       "      <th>ICDHyr</th>\n",
       "      <td>-0.01</td>\n",
       "      <td>-0.00</td>\n",
       "      <td>0.01</td>\n",
       "      <td>0.0</td>\n",
       "    </tr>\n",
       "    <tr>\n",
       "      <th>ACONTa</th>\n",
       "      <td>-0.01</td>\n",
       "      <td>-0.00</td>\n",
       "      <td>0.01</td>\n",
       "      <td>0.0</td>\n",
       "    </tr>\n",
       "    <tr>\n",
       "      <th>ACONTb</th>\n",
       "      <td>-0.01</td>\n",
       "      <td>-0.00</td>\n",
       "      <td>0.01</td>\n",
       "      <td>0.0</td>\n",
       "    </tr>\n",
       "    <tr>\n",
       "      <th>NH4tpp</th>\n",
       "      <td>-0.01</td>\n",
       "      <td>-0.01</td>\n",
       "      <td>0.01</td>\n",
       "      <td>0.0</td>\n",
       "    </tr>\n",
       "    <tr>\n",
       "      <th>NH4tex</th>\n",
       "      <td>-0.01</td>\n",
       "      <td>-0.01</td>\n",
       "      <td>0.01</td>\n",
       "      <td>0.0</td>\n",
       "    </tr>\n",
       "    <tr>\n",
       "      <th>EX_nh4_e</th>\n",
       "      <td>0.01</td>\n",
       "      <td>0.01</td>\n",
       "      <td>0.01</td>\n",
       "      <td>0.0</td>\n",
       "    </tr>\n",
       "    <tr>\n",
       "      <th>ENO</th>\n",
       "      <td>0.00</td>\n",
       "      <td>-0.01</td>\n",
       "      <td>0.01</td>\n",
       "      <td>-0.0</td>\n",
       "    </tr>\n",
       "    <tr>\n",
       "      <th>PGM</th>\n",
       "      <td>-0.00</td>\n",
       "      <td>0.01</td>\n",
       "      <td>0.01</td>\n",
       "      <td>-0.0</td>\n",
       "    </tr>\n",
       "    <tr>\n",
       "      <th>GAPD</th>\n",
       "      <td>0.00</td>\n",
       "      <td>-0.02</td>\n",
       "      <td>0.02</td>\n",
       "      <td>-0.0</td>\n",
       "    </tr>\n",
       "    <tr>\n",
       "      <th>PGK</th>\n",
       "      <td>-0.00</td>\n",
       "      <td>0.02</td>\n",
       "      <td>0.02</td>\n",
       "      <td>-0.0</td>\n",
       "    </tr>\n",
       "    <tr>\n",
       "      <th>EX_o2_e</th>\n",
       "      <td>0.01</td>\n",
       "      <td>0.02</td>\n",
       "      <td>0.02</td>\n",
       "      <td>0.0</td>\n",
       "    </tr>\n",
       "    <tr>\n",
       "      <th>O2tex</th>\n",
       "      <td>-0.01</td>\n",
       "      <td>-0.02</td>\n",
       "      <td>0.02</td>\n",
       "      <td>0.0</td>\n",
       "    </tr>\n",
       "    <tr>\n",
       "      <th>O2tpp</th>\n",
       "      <td>-0.01</td>\n",
       "      <td>-0.02</td>\n",
       "      <td>0.02</td>\n",
       "      <td>0.0</td>\n",
       "    </tr>\n",
       "    <tr>\n",
       "      <th>EX_h_e</th>\n",
       "      <td>0.02</td>\n",
       "      <td>-0.01</td>\n",
       "      <td>0.03</td>\n",
       "      <td>-0.0</td>\n",
       "    </tr>\n",
       "    <tr>\n",
       "      <th>Htex</th>\n",
       "      <td>-0.02</td>\n",
       "      <td>0.01</td>\n",
       "      <td>0.03</td>\n",
       "      <td>-0.0</td>\n",
       "    </tr>\n",
       "    <tr>\n",
       "      <th>NADH16pp</th>\n",
       "      <td>-0.02</td>\n",
       "      <td>-0.03</td>\n",
       "      <td>0.03</td>\n",
       "      <td>0.0</td>\n",
       "    </tr>\n",
       "    <tr>\n",
       "      <th>CO2tex</th>\n",
       "      <td>0.03</td>\n",
       "      <td>0.02</td>\n",
       "      <td>0.04</td>\n",
       "      <td>0.0</td>\n",
       "    </tr>\n",
       "    <tr>\n",
       "      <th>EX_co2_e</th>\n",
       "      <td>-0.03</td>\n",
       "      <td>-0.02</td>\n",
       "      <td>0.04</td>\n",
       "      <td>0.0</td>\n",
       "    </tr>\n",
       "    <tr>\n",
       "      <th>CO2tpp</th>\n",
       "      <td>0.03</td>\n",
       "      <td>0.02</td>\n",
       "      <td>0.04</td>\n",
       "      <td>0.0</td>\n",
       "    </tr>\n",
       "    <tr>\n",
       "      <th>CYTBO3_4pp</th>\n",
       "      <td>-0.03</td>\n",
       "      <td>-0.03</td>\n",
       "      <td>0.04</td>\n",
       "      <td>0.0</td>\n",
       "    </tr>\n",
       "    <tr>\n",
       "      <th>H2Otpp</th>\n",
       "      <td>0.03</td>\n",
       "      <td>0.05</td>\n",
       "      <td>0.05</td>\n",
       "      <td>0.0</td>\n",
       "    </tr>\n",
       "    <tr>\n",
       "      <th>EX_h2o_e</th>\n",
       "      <td>-0.03</td>\n",
       "      <td>-0.05</td>\n",
       "      <td>0.05</td>\n",
       "      <td>0.0</td>\n",
       "    </tr>\n",
       "    <tr>\n",
       "      <th>H2Otex</th>\n",
       "      <td>0.03</td>\n",
       "      <td>0.05</td>\n",
       "      <td>0.05</td>\n",
       "      <td>0.0</td>\n",
       "    </tr>\n",
       "    <tr>\n",
       "      <th>ATPS4rpp</th>\n",
       "      <td>-0.05</td>\n",
       "      <td>-0.05</td>\n",
       "      <td>0.07</td>\n",
       "      <td>0.0</td>\n",
       "    </tr>\n",
       "  </tbody>\n",
       "</table>\n",
       "</div>"
      ],
      "text/plain": [
       "            dCdy  dGdx  vec_norm  product\n",
       "EX_cit_e    0.01  0.00      0.01      0.0\n",
       "CITtex     -0.01  0.00      0.01     -0.0\n",
       "TARTRt7pp   0.01  0.00      0.01      0.0\n",
       "TARTRtpp   -0.01  0.00      0.01     -0.0\n",
       "GLUDy       0.01  0.01      0.01      0.0\n",
       "FUM        -0.01 -0.00      0.01      0.0\n",
       "ICDHyr     -0.01 -0.00      0.01      0.0\n",
       "ACONTa     -0.01 -0.00      0.01      0.0\n",
       "ACONTb     -0.01 -0.00      0.01      0.0\n",
       "NH4tpp     -0.01 -0.01      0.01      0.0\n",
       "NH4tex     -0.01 -0.01      0.01      0.0\n",
       "EX_nh4_e    0.01  0.01      0.01      0.0\n",
       "ENO         0.00 -0.01      0.01     -0.0\n",
       "PGM        -0.00  0.01      0.01     -0.0\n",
       "GAPD        0.00 -0.02      0.02     -0.0\n",
       "PGK        -0.00  0.02      0.02     -0.0\n",
       "EX_o2_e     0.01  0.02      0.02      0.0\n",
       "O2tex      -0.01 -0.02      0.02      0.0\n",
       "O2tpp      -0.01 -0.02      0.02      0.0\n",
       "EX_h_e      0.02 -0.01      0.03     -0.0\n",
       "Htex       -0.02  0.01      0.03     -0.0\n",
       "NADH16pp   -0.02 -0.03      0.03      0.0\n",
       "CO2tex      0.03  0.02      0.04      0.0\n",
       "EX_co2_e   -0.03 -0.02      0.04      0.0\n",
       "CO2tpp      0.03  0.02      0.04      0.0\n",
       "CYTBO3_4pp -0.03 -0.03      0.04      0.0\n",
       "H2Otpp      0.03  0.05      0.05      0.0\n",
       "EX_h2o_e   -0.03 -0.05      0.05      0.0\n",
       "H2Otex      0.03  0.05      0.05      0.0\n",
       "ATPS4rpp   -0.05 -0.05      0.07      0.0"
      ]
     },
     "execution_count": 28,
     "metadata": {},
     "output_type": "execute_result"
    }
   ],
   "source": [
    "''' this result shows no tradeoff between glucose and citrate, neglecting the costs of gene expression.\n",
    "    what if I fix oxaloacetate decarboxylation at some value? Perhaps some tradeoff. But gene regulation could\n",
    "    alleviate the tradeoff.'''\n",
    "\n",
    "''' my initial thinking/result was that maeA flux is sensitive to changes in glucose and citrate.\n",
    "    But this finding does not seem to hold up-- this idea is cool so I keep the code, but \"result\"\n",
    "    will not be presented.'''\n",
    "\n",
    "dGdx_norm = np.sqrt(np.square(flux_derivative['dGdx']).sum())\n",
    "dCdy_norm = np.sqrt(np.square(flux_derivative['dCdy']).sum())\n",
    "theta = np.arccos(flux_derivative2['dCdy'].dot(flux_derivative2['dGdx'])/(dGdx_norm*dCdy_norm))\n",
    "print(theta)\n",
    "flux_derivative2.sort_values('vec_norm').round(2)"
   ]
  },
  {
   "cell_type": "code",
   "execution_count": 29,
   "metadata": {},
   "outputs": [
    {
     "name": "stdout",
     "output_type": "stream",
     "text": [
      "PRODUCING REACTIONS -- Acetyl-CoA (accoa_c)\n",
      "-------------------------------------------\n",
      "%      FLUX  RXN ID    REACTION\n",
      "---  ------  --------  --------------------------------------------------\n",
      "92%  7.75    PDH       coa_c + nad_c + pyr_c --> accoa_c + co2_c + nadh_c\n",
      "7%   0.58    PTAr      accoa_c + pi_c <=> actp_c + coa_c\n",
      "1%   0.108   POR5      coa_c + 2.0 flxso_c + pyr_c <=> accoa_c + co2_c...\n",
      "\n",
      "CONSUMING REACTIONS -- Acetyl-CoA (accoa_c)\n",
      "-------------------------------------------\n",
      "%      FLUX  RXN ID    REACTION\n",
      "---  ------  --------  --------------------------------------------------\n",
      "54%  4.6     CS        accoa_c + h2o_c + oaa_c --> cit_c + coa_c + h_c\n",
      "8%   0.709   ACACT1r   2.0 accoa_c <=> aacoa_c + coa_c\n",
      "5%   0.449   IPPS      3mob_c + accoa_c + h2o_c --> 3c3hmp_c + coa_c +...\n",
      "4%   0.354   ACACT3r   accoa_c + hxcoa_c <=> 3oocoa_c + coa_c\n",
      "4%   0.354   ACACT4r   accoa_c + occoa_c <=> 3odcoa_c + coa_c\n",
      "4%   0.354   ACACT5r   accoa_c + dcacoa_c <=> 3oddcoa_c + coa_c\n",
      "4%   0.354   ACACT2r   accoa_c + btcoa_c <=> 3ohcoa_c + coa_c\n",
      "3%   0.294   ACGS      accoa_c + glu__L_c --> acglu_c + coa_c + h_c\n",
      "3%   0.277   ACACT6r   accoa_c + ddcacoa_c <=> 3otdcoa_c + coa_c\n",
      "3%   0.277   ACACT7r   accoa_c + tdcoa_c <=> 3ohdcoa_c + coa_c\n",
      "3%   0.247   SERAT     accoa_c + ser__L_c <=> acser_c + coa_c\n",
      "1%   0.0941  G1PACT    accoa_c + gam1p_c --> acgam1p_c + coa_c + h_c\n",
      "None\n",
      "************************\n",
      "PRODUCING REACTIONS -- Acetyl-CoA (accoa_c)\n",
      "-------------------------------------------\n",
      "%      FLUX  RXN ID    REACTION\n",
      "---  ------  --------  --------------------------------------------------\n",
      "83%  29.1    PDH       coa_c + nad_c + pyr_c --> accoa_c + co2_c + nadh_c\n",
      "14%   4.87   ACS       ac_c + atp_c + coa_c --> accoa_c + amp_c + ppi_c\n",
      "3%    0.91   POR5      coa_c + 2.0 flxso_c + pyr_c <=> accoa_c + co2_c...\n",
      "\n",
      "CONSUMING REACTIONS -- Acetyl-CoA (accoa_c)\n",
      "-------------------------------------------\n",
      "%      FLUX  RXN ID    REACTION\n",
      "---  ------  --------  --------------------------------------------------\n",
      "17%   5.95   ACACT1r   2.0 accoa_c <=> aacoa_c + coa_c\n",
      "11%   3.77   IPPS      3mob_c + accoa_c + h2o_c --> 3c3hmp_c + coa_c +...\n",
      "9%    2.98   ACACT4r   accoa_c + occoa_c <=> 3odcoa_c + coa_c\n",
      "9%    2.98   ACACT5r   accoa_c + dcacoa_c <=> 3oddcoa_c + coa_c\n",
      "9%    2.98   ACACT2r   accoa_c + btcoa_c <=> 3ohcoa_c + coa_c\n",
      "9%    2.98   ACACT3r   accoa_c + hxcoa_c <=> 3oocoa_c + coa_c\n",
      "8%    2.64   CS        accoa_c + h2o_c + oaa_c --> cit_c + coa_c + h_c\n",
      "7%    2.47   ACGS      accoa_c + glu__L_c --> acglu_c + coa_c + h_c\n",
      "7%    2.33   ACACT7r   accoa_c + tdcoa_c <=> 3ohdcoa_c + coa_c\n",
      "7%    2.33   ACACT6r   accoa_c + ddcacoa_c <=> 3otdcoa_c + coa_c\n",
      "6%    2.07   SERAT     accoa_c + ser__L_c <=> acser_c + coa_c\n",
      "2%    0.79   G1PACT    accoa_c + gam1p_c --> acgam1p_c + coa_c + h_c\n",
      "2%    0.651  ACCOAC    accoa_c + atp_c + hco3_c --> adp_c + h_c + malc...\n",
      "None\n",
      "************************\n",
      "PRODUCING REACTIONS -- Acetyl-CoA (accoa_c)\n",
      "-------------------------------------------\n",
      "%      FLUX  RXN ID    REACTION\n",
      "---  ------  --------  --------------------------------------------------\n",
      "74%  21      PDH       coa_c + nad_c + pyr_c --> accoa_c + co2_c + nadh_c\n",
      "23%   6.43   ACS       ac_c + atp_c + coa_c --> accoa_c + amp_c + ppi_c\n",
      "3%    0.799  PFL       coa_c + pyr_c --> accoa_c + for_c\n",
      "\n",
      "CONSUMING REACTIONS -- Acetyl-CoA (accoa_c)\n",
      "-------------------------------------------\n",
      "%      FLUX  RXN ID    REACTION\n",
      "---  ------  --------  --------------------------------------------------\n",
      "18%   5.2    ACACT1r   2.0 accoa_c <=> aacoa_c + coa_c\n",
      "12%   3.29   IPPS      3mob_c + accoa_c + h2o_c --> 3c3hmp_c + coa_c +...\n",
      "9%    2.6    ACACT4r   accoa_c + occoa_c <=> 3odcoa_c + coa_c\n",
      "9%    2.6    ACACT5r   accoa_c + dcacoa_c <=> 3oddcoa_c + coa_c\n",
      "9%    2.6    ACACT3r   accoa_c + hxcoa_c <=> 3oocoa_c + coa_c\n",
      "9%    2.6    ACACT2r   accoa_c + btcoa_c <=> 3ohcoa_c + coa_c\n",
      "8%    2.16   ACGS      accoa_c + glu__L_c --> acglu_c + coa_c + h_c\n",
      "7%    2.03   ACACT7r   accoa_c + tdcoa_c <=> 3ohdcoa_c + coa_c\n",
      "7%    2.03   ACACT6r   accoa_c + ddcacoa_c <=> 3otdcoa_c + coa_c\n",
      "6%    1.81   SERAT     accoa_c + ser__L_c <=> acser_c + coa_c\n",
      "2%    0.691  G1PACT    accoa_c + gam1p_c --> acgam1p_c + coa_c + h_c\n",
      "2%    0.569  ACCOAC    accoa_c + atp_c + hco3_c --> adp_c + h_c + malc...\n",
      "None\n"
     ]
    }
   ],
   "source": [
    "''' look at acetyl-CoA in the old models'''\n",
    "print(old_cit_minus_model.metabolites.accoa_c.summary())\n",
    "print('************************')\n",
    "print(old_DM25_cit_plus_model.metabolites.accoa_c.summary())\n",
    "print('************************')\n",
    "print(old_DM0_cit_plus_model.metabolites.accoa_c.summary())"
   ]
  },
  {
   "cell_type": "code",
   "execution_count": 30,
   "metadata": {},
   "outputs": [
    {
     "name": "stdout",
     "output_type": "stream",
     "text": [
      "PRODUCING REACTIONS -- Acetyl-CoA (accoa_c)\n",
      "-------------------------------------------\n",
      "%      FLUX  RXN ID    REACTION\n",
      "---  ------  --------  --------------------------------------------------\n",
      "92%  7.75    PDH       coa_c + nad_c + pyr_c --> accoa_c + co2_c + nadh_c\n",
      "7%   0.58    PTAr      accoa_c + pi_c <=> actp_c + coa_c\n",
      "1%   0.108   POR5      coa_c + 2.0 flxso_c + pyr_c <=> accoa_c + co2_c...\n",
      "\n",
      "CONSUMING REACTIONS -- Acetyl-CoA (accoa_c)\n",
      "-------------------------------------------\n",
      "%      FLUX  RXN ID    REACTION\n",
      "---  ------  --------  --------------------------------------------------\n",
      "54%  4.6     CS        accoa_c + h2o_c + oaa_c --> cit_c + coa_c + h_c\n",
      "8%   0.709   ACACT1r   2.0 accoa_c <=> aacoa_c + coa_c\n",
      "5%   0.449   IPPS      3mob_c + accoa_c + h2o_c --> 3c3hmp_c + coa_c +...\n",
      "4%   0.354   ACACT3r   accoa_c + hxcoa_c <=> 3oocoa_c + coa_c\n",
      "4%   0.354   ACACT4r   accoa_c + occoa_c <=> 3odcoa_c + coa_c\n",
      "4%   0.354   ACACT5r   accoa_c + dcacoa_c <=> 3oddcoa_c + coa_c\n",
      "4%   0.354   ACACT2r   accoa_c + btcoa_c <=> 3ohcoa_c + coa_c\n",
      "3%   0.294   ACGS      accoa_c + glu__L_c --> acglu_c + coa_c + h_c\n",
      "3%   0.277   ACACT6r   accoa_c + ddcacoa_c <=> 3otdcoa_c + coa_c\n",
      "3%   0.277   ACACT7r   accoa_c + tdcoa_c <=> 3ohdcoa_c + coa_c\n",
      "3%   0.247   SERAT     accoa_c + ser__L_c <=> acser_c + coa_c\n",
      "1%   0.0941  G1PACT    accoa_c + gam1p_c --> acgam1p_c + coa_c + h_c\n",
      "None\n",
      "************************\n",
      "PRODUCING REACTIONS -- Acetyl-CoA (accoa_c)\n",
      "-------------------------------------------\n",
      "%      FLUX  RXN ID    REACTION\n",
      "---  ------  --------  --------------------------------------------------\n",
      "83%  29.1    PDH       coa_c + nad_c + pyr_c --> accoa_c + co2_c + nadh_c\n",
      "14%   4.87   ACS       ac_c + atp_c + coa_c --> accoa_c + amp_c + ppi_c\n",
      "3%    0.91   POR5      coa_c + 2.0 flxso_c + pyr_c <=> accoa_c + co2_c...\n",
      "\n",
      "CONSUMING REACTIONS -- Acetyl-CoA (accoa_c)\n",
      "-------------------------------------------\n",
      "%      FLUX  RXN ID    REACTION\n",
      "---  ------  --------  --------------------------------------------------\n",
      "17%   5.95   ACACT1r   2.0 accoa_c <=> aacoa_c + coa_c\n",
      "11%   3.77   IPPS      3mob_c + accoa_c + h2o_c --> 3c3hmp_c + coa_c +...\n",
      "9%    2.98   ACACT4r   accoa_c + occoa_c <=> 3odcoa_c + coa_c\n",
      "9%    2.98   ACACT5r   accoa_c + dcacoa_c <=> 3oddcoa_c + coa_c\n",
      "9%    2.98   ACACT2r   accoa_c + btcoa_c <=> 3ohcoa_c + coa_c\n",
      "9%    2.98   ACACT3r   accoa_c + hxcoa_c <=> 3oocoa_c + coa_c\n",
      "8%    2.64   CS        accoa_c + h2o_c + oaa_c --> cit_c + coa_c + h_c\n",
      "7%    2.47   ACGS      accoa_c + glu__L_c --> acglu_c + coa_c + h_c\n",
      "7%    2.33   ACACT7r   accoa_c + tdcoa_c <=> 3ohdcoa_c + coa_c\n",
      "7%    2.33   ACACT6r   accoa_c + ddcacoa_c <=> 3otdcoa_c + coa_c\n",
      "6%    2.07   SERAT     accoa_c + ser__L_c <=> acser_c + coa_c\n",
      "2%    0.79   G1PACT    accoa_c + gam1p_c --> acgam1p_c + coa_c + h_c\n",
      "2%    0.651  ACCOAC    accoa_c + atp_c + hco3_c --> adp_c + h_c + malc...\n",
      "None\n",
      "************************\n",
      "PRODUCING REACTIONS -- Acetyl-CoA (accoa_c)\n",
      "-------------------------------------------\n",
      "%      FLUX  RXN ID    REACTION\n",
      "---  ------  --------  --------------------------------------------------\n",
      "74%  21      PDH       coa_c + nad_c + pyr_c --> accoa_c + co2_c + nadh_c\n",
      "23%   6.43   ACS       ac_c + atp_c + coa_c --> accoa_c + amp_c + ppi_c\n",
      "3%    0.799  PFL       coa_c + pyr_c --> accoa_c + for_c\n",
      "\n",
      "CONSUMING REACTIONS -- Acetyl-CoA (accoa_c)\n",
      "-------------------------------------------\n",
      "%      FLUX  RXN ID    REACTION\n",
      "---  ------  --------  --------------------------------------------------\n",
      "18%   5.2    ACACT1r   2.0 accoa_c <=> aacoa_c + coa_c\n",
      "12%   3.29   IPPS      3mob_c + accoa_c + h2o_c --> 3c3hmp_c + coa_c +...\n",
      "9%    2.6    ACACT4r   accoa_c + occoa_c <=> 3odcoa_c + coa_c\n",
      "9%    2.6    ACACT5r   accoa_c + dcacoa_c <=> 3oddcoa_c + coa_c\n",
      "9%    2.6    ACACT3r   accoa_c + hxcoa_c <=> 3oocoa_c + coa_c\n",
      "9%    2.6    ACACT2r   accoa_c + btcoa_c <=> 3ohcoa_c + coa_c\n",
      "8%    2.16   ACGS      accoa_c + glu__L_c --> acglu_c + coa_c + h_c\n",
      "7%    2.03   ACACT7r   accoa_c + tdcoa_c <=> 3ohdcoa_c + coa_c\n",
      "7%    2.03   ACACT6r   accoa_c + ddcacoa_c <=> 3otdcoa_c + coa_c\n",
      "6%    1.81   SERAT     accoa_c + ser__L_c <=> acser_c + coa_c\n",
      "2%    0.691  G1PACT    accoa_c + gam1p_c --> acgam1p_c + coa_c + h_c\n",
      "2%    0.569  ACCOAC    accoa_c + atp_c + hco3_c --> adp_c + h_c + malc...\n",
      "None\n"
     ]
    }
   ],
   "source": [
    "''' look at acetyl-CoA in the models'''\n",
    "print(new_cit_minus_model.metabolites.accoa_c.summary())\n",
    "print('************************')\n",
    "print(new_DM25_cit_plus_model.metabolites.accoa_c.summary())\n",
    "print('************************')\n",
    "print(new_DM0_cit_plus_model.metabolites.accoa_c.summary())"
   ]
  },
  {
   "cell_type": "code",
   "execution_count": null,
   "metadata": {},
   "outputs": [],
   "source": []
  }
 ],
 "metadata": {
  "kernelspec": {
   "display_name": "Python 3",
   "language": "python",
   "name": "python3"
  },
  "language_info": {
   "codemirror_mode": {
    "name": "ipython",
    "version": 3
   },
   "file_extension": ".py",
   "mimetype": "text/x-python",
   "name": "python",
   "nbconvert_exporter": "python",
   "pygments_lexer": "ipython3",
   "version": "3.6.7"
  }
 },
 "nbformat": 4,
 "nbformat_minor": 2
}
