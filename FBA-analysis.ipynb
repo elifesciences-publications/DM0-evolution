{
 "cells": [
  {
   "cell_type": "code",
   "execution_count": 1,
   "metadata": {},
   "outputs": [],
   "source": [
    "import cobra\n",
    "from cobra.medium import minimal_medium\n",
    "from cobra.flux_analysis import (\n",
    "    single_gene_deletion, single_reaction_deletion, double_gene_deletion,\n",
    "    double_reaction_deletion)\n",
    "\n",
    "import numpy as np\n",
    "import pandas as pd"
   ]
  },
  {
   "cell_type": "code",
   "execution_count": 2,
   "metadata": {},
   "outputs": [],
   "source": [
    "'''load the base model for REL606.'''\n",
    "base_model = cobra.io.read_sbml_model('../metabolic-modeling/iECB_1328.xml.gz')\n",
    "max_growth = base_model.slim_optimize()\n",
    "base_model.medium = minimal_medium(base_model, max_growth)\n",
    "\n",
    "''' set glucose to 1.0. This is to set relative molarity of citrate and glucose in the media properly,\n",
    "so that growth yields of Cit- on DM25 and Cit+ on DM0 and DM25 are \"apples to apples\". '''\n",
    "citminus_medium = base_model.medium\n",
    "citminus_medium['EX_glc__D_e'] = 1.0\n",
    "base_model.medium = citminus_medium"
   ]
  },
  {
   "cell_type": "code",
   "execution_count": 3,
   "metadata": {},
   "outputs": [
    {
     "data": {
      "text/plain": [
       "'oaa_c --> co2_e + pyr_c'"
      ]
     },
     "execution_count": 3,
     "metadata": {},
     "output_type": "execute_result"
    }
   ],
   "source": [
    "''' add this reaction to maeA: nad[c] + oaa[c] ->pyr[c] + nadh[c].\n",
    "    This reaction is the difference between base_model and maeA_model.'''\n",
    "\n",
    "maeA_side_reaction = cobra.Reaction('MAEA')\n",
    "maeA_side_reaction.name = 'maeA_side_rxn '\n",
    "maeA_side_reaction.subsystem = 'Anaplerotic Reactions'\n",
    "maeA_side_reaction.lower_bound = 0.  # This is the default\n",
    "maeA_side_reaction.upper_bound = 1000.  # This is the default\n",
    "\n",
    "maeA_model = base_model.copy()\n",
    "maeA_model.add_reaction(maeA_side_reaction)\n",
    "\n",
    "''' \n",
    "cite: \n",
    "https://www.uniprot.org/uniprot/C3TAB2\n",
    "https://en.wikipedia.org/wiki/Malate_dehydrogenase_(oxaloacetate-decarboxylating)\n",
    "https://enzyme.expasy.org/EC/1.1.1.38\n",
    "'''\n",
    "\n",
    "maeA_side_reaction.add_metabolites({\n",
    "    'oaa_c': -1.0,\n",
    "    'pyr_c': 1.0,\n",
    "    'co2_e': 1.0,\n",
    "})\n",
    "\n",
    "maeA_side_reaction.reaction"
   ]
  },
  {
   "cell_type": "code",
   "execution_count": 4,
   "metadata": {},
   "outputs": [
    {
     "data": {
      "text/plain": [
       "{'EX_ca2_e': 0.005113800273256523,\n",
       " 'EX_cl_e': 0.005113800273256523,\n",
       " 'EX_cobalt2_e': 2.4561960966649965e-05,\n",
       " 'EX_cu2_e': 0.000696577213014193,\n",
       " 'EX_fe2_e': 0.015779586200559713,\n",
       " 'EX_glc__D_e': 1.0,\n",
       " 'EX_k_e': 0.19177291387853226,\n",
       " 'EX_mg2_e': 0.008523000455427539,\n",
       " 'EX_mn2_e': 0.0006788926011182051,\n",
       " 'EX_mobd_e': 0.00012673971858791382,\n",
       " 'EX_nh4_e': 10.611576699826303,\n",
       " 'EX_ni2_e': 0.0003173405356891175,\n",
       " 'EX_o2_e': 17.57432917781992,\n",
       " 'EX_pi_e': 0.9477291587688313,\n",
       " 'EX_so4_e': 0.24779088701595114,\n",
       " 'EX_zn2_e': 0.0003350251475851055}"
      ]
     },
     "execution_count": 4,
     "metadata": {},
     "output_type": "execute_result"
    }
   ],
   "source": [
    "''' TODO: USE CITROBACTER AS A CONTROL\n",
    "    PROBLEM: KBase and BiGG database IDs are not compatible!\n",
    "    Have to figure out how to do the mapping.. so skip this for now. \n",
    "    load the curated Citrobacter model (Cuepas et al. 2016)\n",
    "    use this model as a positive control to compare flux distribution.'''\n",
    "citrobacter_model = cobra.io.read_sbml_model('../metabolic-modeling/C.sedlakii_MAP_gapfill.sbml')\n",
    "citro_max_growth = citrobacter_model.slim_optimize()\n",
    "''' give citrobacter the same media as base'''\n",
    "base_model.medium\n",
    "#citrobacter_model.medium = minimal_medium(base_model, max_growth)"
   ]
  },
  {
   "cell_type": "code",
   "execution_count": 5,
   "metadata": {},
   "outputs": [],
   "source": [
    "''' NOTE: This code uses BiGG model IDs (BiGG namespace).'''\n",
    "def generate_models(basemodel):\n",
    "    ''' Cit- model growing on glucose (no citrate flux)'''\n",
    "    glucose_model = basemodel.copy()\n",
    "    ''' Cit+ model on DM0 with citrate flux'''\n",
    "    DM0citrate_model = basemodel.copy()\n",
    "    ## set glucose to zero, and citrate to 10.0.\n",
    "    DM0 = DM0citrate_model.medium\n",
    "    DM0['EX_glc__D_e'] = 0.0\n",
    "    DM0['EX_cit_e'] = 10.0\n",
    "    DM0citrate_model.medium = DM0\n",
    "\n",
    "    assert 'EX_cit_e' in DM0citrate_model.medium\n",
    "    assert 'EX_glc__D_e' not in DM0citrate_model.medium\n",
    "    assert 'EX_glc__D_e' in glucose_model.medium\n",
    "    assert 'EX_cit_e' not in glucose_model.medium\n",
    "\n",
    "    ''' Cit+ model on DM25 with citrate flux'''\n",
    "    DM25citrate_model = DM0citrate_model.copy()\n",
    "    DM25 = DM25citrate_model.medium\n",
    "    DM25['EX_glc__D_e'] = 1.0\n",
    "    DM25['EX_cit_e'] = 10.0\n",
    "    DM25citrate_model.medium = DM25\n",
    "\n",
    "    ''' now make the fermentation (no O2 influx) models.'''\n",
    "    glucose_fermentation_model = glucose_model.copy()\n",
    "    noO2_media = glucose_fermentation_model.medium\n",
    "    noO2_media['EX_o2_e'] = 0.0\n",
    "    glucose_fermentation_model.medium = noO2_media\n",
    "    \n",
    "    DM0citrate_fermentation_model = DM0citrate_model.copy()\n",
    "    DM0_noO2_media = DM0citrate_fermentation_model.medium\n",
    "    DM0_noO2_media['EX_o2_e'] = 0.0\n",
    "    DM0citrate_fermentation_model.medium = DM0_noO2_media\n",
    "    \n",
    "    DM25citrate_fermentation_model = DM25citrate_model.copy()\n",
    "    DM25_noO2_media = DM25citrate_fermentation_model.medium\n",
    "    DM25_noO2_media['EX_o2_e'] = 0.0\n",
    "    DM25citrate_fermentation_model.medium = DM25_noO2_media\n",
    "    \n",
    "    \n",
    "    return (glucose_model, DM0citrate_model, DM25citrate_model,glucose_fermentation_model, DM0citrate_fermentation_model, DM25citrate_fermentation_model)"
   ]
  },
  {
   "cell_type": "code",
   "execution_count": 6,
   "metadata": {},
   "outputs": [],
   "source": [
    "old_cit_minus_model, old_DM0_cit_plus_model, old_DM25_cit_plus_model,old_cit_minus_ferment_model, old_DM0_cit_plus_ferment_model, old_DM25_cit_plus_ferment_model = generate_models(base_model)\n",
    "\n",
    "new_cit_minus_model, new_DM0_cit_plus_model, new_DM25_cit_plus_model,new_cit_minus_ferment_model, new_DM0_cit_plus_ferment_model, new_DM25_cit_plus_ferment_model = generate_models(maeA_model)"
   ]
  },
  {
   "cell_type": "code",
   "execution_count": 7,
   "metadata": {},
   "outputs": [],
   "source": [
    "old_cit_minus_solution = old_cit_minus_model.optimize()\n",
    "old_DM0_cit_plus_solution = old_DM0_cit_plus_model.optimize()\n",
    "old_DM25_cit_plus_solution = old_DM25_cit_plus_model.optimize()\n",
    "\n",
    "new_cit_minus_solution = new_cit_minus_model.optimize()\n",
    "new_DM0_cit_plus_solution = new_DM0_cit_plus_model.optimize()\n",
    "new_DM25_cit_plus_solution = new_DM25_cit_plus_model.optimize()"
   ]
  },
  {
   "cell_type": "code",
   "execution_count": 8,
   "metadata": {},
   "outputs": [
    {
     "name": "stderr",
     "output_type": "stream",
     "text": [
      "cobra/util/solver.py:416 \u001b[1;31mUserWarning\u001b[0m: solver status is 'infeasible'\n"
     ]
    }
   ],
   "source": [
    "old_cit_minus_ferment_solution = old_cit_minus_ferment_model.optimize()\n",
    "old_DM0_cit_plus_ferment_solution = old_DM0_cit_plus_ferment_model.optimize()\n",
    "old_DM25_cit_plus_ferment_solution = old_DM25_cit_plus_ferment_model.optimize()\n",
    "\n",
    "new_cit_minus_ferment_solution = new_cit_minus_ferment_model.optimize()\n",
    "new_DM0_cit_plus_ferment_solution = new_DM0_cit_plus_ferment_model.optimize()\n",
    "new_DM25_cit_plus_ferment_solution = new_DM25_cit_plus_ferment_model.optimize()"
   ]
  },
  {
   "cell_type": "code",
   "execution_count": 9,
   "metadata": {},
   "outputs": [
    {
     "name": "stdout",
     "output_type": "stream",
     "text": [
      "0.0\n",
      "0.0\n",
      "7.550017039170328e-30\n"
     ]
    }
   ],
   "source": [
    "''' all fermentation solutions are dead.'''\n",
    "print(new_cit_minus_ferment_solution.objective_value)\n",
    "print(new_DM0_cit_plus_ferment_solution.objective_value)\n",
    "print(new_DM25_cit_plus_ferment_solution.objective_value)"
   ]
  },
  {
   "cell_type": "code",
   "execution_count": 10,
   "metadata": {},
   "outputs": [
    {
     "name": "stdout",
     "output_type": "stream",
     "text": [
      "0.08648808133366338\n",
      "0.5774694918498211\n",
      "0.6877045311129086\n"
     ]
    }
   ],
   "source": [
    "print(new_cit_minus_solution.objective_value)\n",
    "print(new_DM0_cit_plus_solution.objective_value)\n",
    "print(new_DM25_cit_plus_solution.objective_value)"
   ]
  },
  {
   "cell_type": "code",
   "execution_count": 11,
   "metadata": {},
   "outputs": [
    {
     "name": "stdout",
     "output_type": "stream",
     "text": [
      "0.0\n",
      "0.0\n",
      "0.0\n"
     ]
    }
   ],
   "source": [
    "''' no predicted flux through Citrate Lyase.'''\n",
    "print(new_cit_minus_solution['CITL'])\n",
    "print(new_DM25_cit_plus_solution['CITL'])\n",
    "print(new_DM0_cit_plus_solution['CITL'])"
   ]
  },
  {
   "cell_type": "code",
   "execution_count": 12,
   "metadata": {},
   "outputs": [
    {
     "name": "stdout",
     "output_type": "stream",
     "text": [
      "0.0\n",
      "0.0\n",
      "0.0\n"
     ]
    }
   ],
   "source": [
    "''' This is the canonical rxn catalyzed by MaeA'''\n",
    "print(old_cit_minus_solution['ME1'])\n",
    "print(old_DM25_cit_plus_solution['ME1'])\n",
    "print(old_DM0_cit_plus_solution['ME1'])"
   ]
  },
  {
   "cell_type": "code",
   "execution_count": 13,
   "metadata": {},
   "outputs": [
    {
     "name": "stdout",
     "output_type": "stream",
     "text": [
      "0.0\n",
      "6.791459892307894\n",
      "6.187856834140581\n"
     ]
    }
   ],
   "source": [
    "print(old_cit_minus_solution['ME2'])\n",
    "print(old_DM25_cit_plus_solution['ME2'])\n",
    "print(old_DM0_cit_plus_solution['ME2'])"
   ]
  },
  {
   "cell_type": "code",
   "execution_count": 14,
   "metadata": {},
   "outputs": [
    {
     "name": "stdout",
     "output_type": "stream",
     "text": [
      "0.0\n",
      "0.0\n",
      "0.0\n"
     ]
    }
   ],
   "source": [
    "''' This is the canonical rxn catalyzed by MaeA'''\n",
    "print(new_cit_minus_solution['ME1'])\n",
    "print(new_DM25_cit_plus_solution['ME1'])\n",
    "print(new_DM0_cit_plus_solution['ME1'])"
   ]
  },
  {
   "cell_type": "code",
   "execution_count": 15,
   "metadata": {},
   "outputs": [
    {
     "name": "stdout",
     "output_type": "stream",
     "text": [
      "0.0\n",
      "6.791459892307894\n",
      "6.187856834140581\n"
     ]
    }
   ],
   "source": [
    "print(old_cit_minus_solution['ME2'])\n",
    "print(old_DM25_cit_plus_solution['ME2'])\n",
    "print(old_DM0_cit_plus_solution['ME2'])"
   ]
  },
  {
   "cell_type": "code",
   "execution_count": 16,
   "metadata": {},
   "outputs": [
    {
     "name": "stdout",
     "output_type": "stream",
     "text": [
      "0.0\n",
      "16.223185320804287\n",
      "19.600451438519187\n"
     ]
    }
   ],
   "source": [
    "print(new_cit_minus_solution['MAEA'])\n",
    "print(new_DM25_cit_plus_solution['MAEA'])\n",
    "print(new_DM0_cit_plus_solution['MAEA'])"
   ]
  },
  {
   "cell_type": "code",
   "execution_count": 17,
   "metadata": {},
   "outputs": [
    {
     "name": "stdout",
     "output_type": "stream",
     "text": [
      "PRODUCING REACTIONS -- Pyruvate (pyr_c)\n",
      "---------------------------------------\n",
      "%      FLUX  RXN ID    REACTION\n",
      "---  ------  --------  --------------------------------------------------\n",
      "80%  1       GLCptspp  glc__D_p + pep_c --> g6p_c + pyr_c\n",
      "19%  0.244   PYK       adp_c + h_c + pep_c --> atp_c + pyr_c\n",
      "1%   0.0133  CYSTL     cyst__L_c + h2o_c --> hcys__L_c + nh4_c + pyr_c\n",
      "\n",
      "CONSUMING REACTIONS -- Pyruvate (pyr_c)\n",
      "---------------------------------------\n",
      "%      FLUX  RXN ID    REACTION\n",
      "---  ------  --------  --------------------------------------------------\n",
      "79%  0.989   PDH       coa_c + nad_c + pyr_c --> accoa_c + co2_c + nadh_c\n",
      "12%  0.151   ACLS      h_c + 2.0 pyr_c --> alac__S_c + co2_c\n",
      "4%   0.0503  ALATA_L   akg_c + ala__L_c <=> glu__L_c + pyr_c\n",
      "3%   0.0321  DHDPS     aspsa_c + pyr_c --> 23dhdp_c + 2.0 h2o_c + h_c\n",
      "2%   0.0251  ACHBS     2obut_c + h_c + pyr_c --> 2ahbut_c + co2_c\n",
      "None\n",
      "************************\n",
      "PRODUCING REACTIONS -- Pyruvate (pyr_c)\n",
      "---------------------------------------\n",
      "%      FLUX  RXN ID      REACTION\n",
      "---  ------  ----------  --------------------------------------------------\n",
      "74%  19.4    POR5        coa_c + 2.0 flxso_c + pyr_c <=> accoa_c + co2_c...\n",
      "26%   6.79   ME2         mal__L_c + nadp_c --> co2_c + nadph_c + pyr_c\n",
      "\n",
      "CONSUMING REACTIONS -- Pyruvate (pyr_c)\n",
      "---------------------------------------\n",
      "%      FLUX  RXN ID      REACTION\n",
      "---  ------  ----------  --------------------------------------------------\n",
      "94%  24.5    PFL         coa_c + pyr_c --> accoa_c + for_c\n",
      "4%    1.04   ACLS        h_c + 2.0 pyr_c --> alac__S_c + co2_c\n",
      "1%    0.347  VPAMTr_...  3mob_c + ala__L_c <=> pyr_c + val__L_c\n",
      "None\n",
      "************************\n",
      "PRODUCING REACTIONS -- Pyruvate (pyr_c)\n",
      "---------------------------------------\n",
      "%      FLUX  RXN ID    REACTION\n",
      "---  ------  --------  --------------------------------------------------\n",
      "77%  20.8    POR5      coa_c + 2.0 flxso_c + pyr_c <=> accoa_c + co2_c...\n",
      "23%   6.19   ME2       mal__L_c + nadp_c --> co2_c + nadph_c + pyr_c\n",
      "\n",
      "CONSUMING REACTIONS -- Pyruvate (pyr_c)\n",
      "---------------------------------------\n",
      "%      FLUX  RXN ID    REACTION\n",
      "---  ------  --------  --------------------------------------------------\n",
      "95%  25.6    PFL       coa_c + pyr_c --> accoa_c + for_c\n",
      "3%    0.842  ACLS      h_c + 2.0 pyr_c --> alac__S_c + co2_c\n",
      "2%    0.484  ALATA_L   akg_c + ala__L_c <=> glu__L_c + pyr_c\n",
      "None\n"
     ]
    }
   ],
   "source": [
    "''' look at pyruvate in the old models'''\n",
    "print(old_cit_minus_model.metabolites.pyr_c.summary())\n",
    "print('************************')\n",
    "print(old_DM25_cit_plus_model.metabolites.pyr_c.summary())\n",
    "print('************************')\n",
    "print(old_DM0_cit_plus_model.metabolites.pyr_c.summary())"
   ]
  },
  {
   "cell_type": "code",
   "execution_count": 18,
   "metadata": {},
   "outputs": [
    {
     "name": "stdout",
     "output_type": "stream",
     "text": [
      "PRODUCING REACTIONS -- Pyruvate (pyr_c)\n",
      "---------------------------------------\n",
      "%      FLUX  RXN ID    REACTION\n",
      "---  ------  --------  --------------------------------------------------\n",
      "80%  1       GLCptspp  glc__D_p + pep_c --> g6p_c + pyr_c\n",
      "19%  0.244   PYK       adp_c + h_c + pep_c --> atp_c + pyr_c\n",
      "1%   0.0133  CYSTL     cyst__L_c + h2o_c --> hcys__L_c + nh4_c + pyr_c\n",
      "\n",
      "CONSUMING REACTIONS -- Pyruvate (pyr_c)\n",
      "---------------------------------------\n",
      "%      FLUX  RXN ID    REACTION\n",
      "---  ------  --------  --------------------------------------------------\n",
      "79%  0.989   PDH       coa_c + nad_c + pyr_c --> accoa_c + co2_c + nadh_c\n",
      "12%  0.151   ACLS      h_c + 2.0 pyr_c --> alac__S_c + co2_c\n",
      "4%   0.0503  ALATA_L   akg_c + ala__L_c <=> glu__L_c + pyr_c\n",
      "3%   0.0321  DHDPS     aspsa_c + pyr_c --> 23dhdp_c + 2.0 h2o_c + h_c\n",
      "2%   0.0251  ACHBS     2obut_c + h_c + pyr_c --> 2ahbut_c + co2_c\n",
      "None\n",
      "************************\n",
      "PRODUCING REACTIONS -- Pyruvate (pyr_c)\n",
      "---------------------------------------\n",
      "%       FLUX  RXN ID      REACTION\n",
      "----  ------  ----------  --------------------------------------------------\n",
      "100%  16.2    MAEA        oaa_c --> co2_e + pyr_c\n",
      "\n",
      "CONSUMING REACTIONS -- Pyruvate (pyr_c)\n",
      "---------------------------------------\n",
      "%       FLUX  RXN ID      REACTION\n",
      "----  ------  ----------  --------------------------------------------------\n",
      "46%    7.53   PFL         coa_c + pyr_c --> accoa_c + for_c\n",
      "30%    4.89   PDH         coa_c + nad_c + pyr_c --> accoa_c + co2_c + nadh_c\n",
      "11%    1.77   PPS         atp_c + h2o_c + pyr_c --> amp_c + 2.0 h_c + pep...\n",
      "7%     1.2    ACLS        h_c + 2.0 pyr_c --> alac__S_c + co2_c\n",
      "2%     0.4    VPAMTr_...  3mob_c + ala__L_c <=> pyr_c + val__L_c\n",
      "2%     0.255  DHDPS       aspsa_c + pyr_c --> 23dhdp_c + 2.0 h2o_c + h_c\n",
      "1%     0.2    ACHBS       2obut_c + h_c + pyr_c --> 2ahbut_c + co2_c\n",
      "None\n",
      "************************\n",
      "PRODUCING REACTIONS -- Pyruvate (pyr_c)\n",
      "---------------------------------------\n",
      "%      FLUX  RXN ID      REACTION\n",
      "---  ------  ----------  --------------------------------------------------\n",
      "99%  19.6    MAEA        oaa_c --> co2_e + pyr_c\n",
      "1%    0.244  VPAMTr_...  3mob_c + ala__L_c <=> pyr_c + val__L_c\n",
      "\n",
      "CONSUMING REACTIONS -- Pyruvate (pyr_c)\n",
      "---------------------------------------\n",
      "%      FLUX  RXN ID      REACTION\n",
      "---  ------  ----------  --------------------------------------------------\n",
      "50%   9.91   PDH         coa_c + nad_c + pyr_c --> accoa_c + co2_c + nadh_c\n",
      "26%   5.16   PFL         coa_c + pyr_c --> accoa_c + for_c\n",
      "14%   2.83   PPS         atp_c + h2o_c + pyr_c --> amp_c + 2.0 h_c + pep...\n",
      "5%    1.01   ACLS        h_c + 2.0 pyr_c --> alac__S_c + co2_c\n",
      "3%    0.58   ALATA_L     akg_c + ala__L_c <=> glu__L_c + pyr_c\n",
      "1%    0.214  DHDPS       aspsa_c + pyr_c --> 23dhdp_c + 2.0 h2o_c + h_c\n",
      "None\n"
     ]
    }
   ],
   "source": [
    "''' look at pyruvate in the models'''\n",
    "print(new_cit_minus_model.metabolites.pyr_c.summary())\n",
    "print('************************')\n",
    "print(new_DM25_cit_plus_model.metabolites.pyr_c.summary())\n",
    "print('************************')\n",
    "print(new_DM0_cit_plus_model.metabolites.pyr_c.summary())"
   ]
  },
  {
   "cell_type": "code",
   "execution_count": 19,
   "metadata": {},
   "outputs": [],
   "source": [
    "''' let us look for reactions which increase flux in response to higher glucose input,\n",
    "    but decrease flux in response to higher citrate input, or vice-versa.\n",
    "    These would be candidate reactions for antagonistic pleiotropy.'''\n",
    "\n",
    "## increment glucose or citrate influx from 10.0 to 11.0.\n",
    "## note that result is somewhat sensitive to +/- epsilon: MAEA is pleiotropic for -e but not +e.\n",
    "epsilon = 0.01\n",
    "\n",
    "glucose_model_dx = new_cit_minus_model.copy()\n",
    "citrate_model_dy = new_DM0_cit_plus_model.copy()\n",
    "DM25_dx = new_cit_minus_model.medium\n",
    "DM0_dy = new_DM0_cit_plus_model.medium\n",
    "DM25_dx['EX_glc__D_e'] = DM25_dx['EX_glc__D_e'] - epsilon\n",
    "DM0_dy['EX_cit_e'] = DM0_dy['EX_cit_e'] - epsilon\n",
    "glucose_model_dx.medium = DM25_dx\n",
    "citrate_model_dy.medium = DM0_dy\n",
    "glucose_dx_solution = glucose_model_dx.optimize()\n",
    "citrate_dy_solution = citrate_model_dy.optimize()\n",
    "\n",
    "citrate_solution = new_DM0_cit_plus_model.optimize()\n",
    "glucose_solution = new_cit_minus_model.optimize()\n",
    "\n",
    "dCdy = citrate_dy_solution.fluxes - citrate_solution.fluxes\n",
    "dGdx = glucose_dx_solution.fluxes - glucose_solution.fluxes\n",
    "\n",
    "flux_derivative = pd.DataFrame({'dCdy':dCdy,'dGdx':dGdx})\n",
    "flux_derivative['vec_norm'] = np.sqrt(np.square(flux_derivative).sum(axis=1))\n",
    "flux_derivative['product'] = flux_derivative['dCdy']*flux_derivative['dGdx']"
   ]
  },
  {
   "cell_type": "code",
   "execution_count": 20,
   "metadata": {},
   "outputs": [],
   "source": [
    "flux_derivative2 = flux_derivative[flux_derivative['vec_norm'] > epsilon]"
   ]
  },
  {
   "cell_type": "code",
   "execution_count": 21,
   "metadata": {},
   "outputs": [
    {
     "name": "stdout",
     "output_type": "stream",
     "text": [
      "1.5273503961756658\n"
     ]
    },
    {
     "data": {
      "text/html": [
       "<div>\n",
       "<style scoped>\n",
       "    .dataframe tbody tr th:only-of-type {\n",
       "        vertical-align: middle;\n",
       "    }\n",
       "\n",
       "    .dataframe tbody tr th {\n",
       "        vertical-align: top;\n",
       "    }\n",
       "\n",
       "    .dataframe thead th {\n",
       "        text-align: right;\n",
       "    }\n",
       "</style>\n",
       "<table border=\"1\" class=\"dataframe\">\n",
       "  <thead>\n",
       "    <tr style=\"text-align: right;\">\n",
       "      <th></th>\n",
       "      <th>dCdy</th>\n",
       "      <th>dGdx</th>\n",
       "      <th>vec_norm</th>\n",
       "      <th>product</th>\n",
       "    </tr>\n",
       "  </thead>\n",
       "  <tbody>\n",
       "    <tr>\n",
       "      <th>EX_glc__D_e</th>\n",
       "      <td>0.00</td>\n",
       "      <td>0.01</td>\n",
       "      <td>0.01</td>\n",
       "      <td>0.00</td>\n",
       "    </tr>\n",
       "    <tr>\n",
       "      <th>GLCtex_copy1</th>\n",
       "      <td>0.00</td>\n",
       "      <td>-0.01</td>\n",
       "      <td>0.01</td>\n",
       "      <td>-0.00</td>\n",
       "    </tr>\n",
       "    <tr>\n",
       "      <th>GLCptspp</th>\n",
       "      <td>0.00</td>\n",
       "      <td>-0.01</td>\n",
       "      <td>0.01</td>\n",
       "      <td>-0.00</td>\n",
       "    </tr>\n",
       "    <tr>\n",
       "      <th>ICL</th>\n",
       "      <td>-0.01</td>\n",
       "      <td>0.00</td>\n",
       "      <td>0.01</td>\n",
       "      <td>-0.00</td>\n",
       "    </tr>\n",
       "    <tr>\n",
       "      <th>MALS</th>\n",
       "      <td>-0.01</td>\n",
       "      <td>-0.00</td>\n",
       "      <td>0.01</td>\n",
       "      <td>0.00</td>\n",
       "    </tr>\n",
       "    <tr>\n",
       "      <th>PDH</th>\n",
       "      <td>-0.01</td>\n",
       "      <td>-0.01</td>\n",
       "      <td>0.01</td>\n",
       "      <td>0.00</td>\n",
       "    </tr>\n",
       "    <tr>\n",
       "      <th>EX_nh4_e</th>\n",
       "      <td>0.01</td>\n",
       "      <td>0.01</td>\n",
       "      <td>0.01</td>\n",
       "      <td>0.00</td>\n",
       "    </tr>\n",
       "    <tr>\n",
       "      <th>NH4tpp</th>\n",
       "      <td>-0.01</td>\n",
       "      <td>-0.01</td>\n",
       "      <td>0.01</td>\n",
       "      <td>0.00</td>\n",
       "    </tr>\n",
       "    <tr>\n",
       "      <th>NH4tex</th>\n",
       "      <td>-0.01</td>\n",
       "      <td>-0.01</td>\n",
       "      <td>0.01</td>\n",
       "      <td>0.00</td>\n",
       "    </tr>\n",
       "    <tr>\n",
       "      <th>FUM</th>\n",
       "      <td>-0.01</td>\n",
       "      <td>-0.00</td>\n",
       "      <td>0.01</td>\n",
       "      <td>0.00</td>\n",
       "    </tr>\n",
       "    <tr>\n",
       "      <th>ACONTa</th>\n",
       "      <td>-0.01</td>\n",
       "      <td>-0.00</td>\n",
       "      <td>0.01</td>\n",
       "      <td>0.00</td>\n",
       "    </tr>\n",
       "    <tr>\n",
       "      <th>ACONTb</th>\n",
       "      <td>-0.01</td>\n",
       "      <td>-0.00</td>\n",
       "      <td>0.01</td>\n",
       "      <td>0.00</td>\n",
       "    </tr>\n",
       "    <tr>\n",
       "      <th>PGM</th>\n",
       "      <td>-0.00</td>\n",
       "      <td>0.01</td>\n",
       "      <td>0.01</td>\n",
       "      <td>-0.00</td>\n",
       "    </tr>\n",
       "    <tr>\n",
       "      <th>ENO</th>\n",
       "      <td>0.00</td>\n",
       "      <td>-0.01</td>\n",
       "      <td>0.01</td>\n",
       "      <td>-0.00</td>\n",
       "    </tr>\n",
       "    <tr>\n",
       "      <th>PGK</th>\n",
       "      <td>-0.00</td>\n",
       "      <td>0.02</td>\n",
       "      <td>0.02</td>\n",
       "      <td>-0.00</td>\n",
       "    </tr>\n",
       "    <tr>\n",
       "      <th>GAPD</th>\n",
       "      <td>0.00</td>\n",
       "      <td>-0.02</td>\n",
       "      <td>0.02</td>\n",
       "      <td>-0.00</td>\n",
       "    </tr>\n",
       "    <tr>\n",
       "      <th>MAEA</th>\n",
       "      <td>-0.02</td>\n",
       "      <td>0.00</td>\n",
       "      <td>0.02</td>\n",
       "      <td>-0.00</td>\n",
       "    </tr>\n",
       "    <tr>\n",
       "      <th>MDH</th>\n",
       "      <td>-0.02</td>\n",
       "      <td>-0.00</td>\n",
       "      <td>0.02</td>\n",
       "      <td>0.00</td>\n",
       "    </tr>\n",
       "    <tr>\n",
       "      <th>CO2tpp</th>\n",
       "      <td>0.01</td>\n",
       "      <td>0.02</td>\n",
       "      <td>0.02</td>\n",
       "      <td>0.00</td>\n",
       "    </tr>\n",
       "    <tr>\n",
       "      <th>CO2tex</th>\n",
       "      <td>0.01</td>\n",
       "      <td>0.02</td>\n",
       "      <td>0.02</td>\n",
       "      <td>0.00</td>\n",
       "    </tr>\n",
       "    <tr>\n",
       "      <th>EX_o2_e</th>\n",
       "      <td>0.02</td>\n",
       "      <td>0.02</td>\n",
       "      <td>0.02</td>\n",
       "      <td>0.00</td>\n",
       "    </tr>\n",
       "    <tr>\n",
       "      <th>O2tex</th>\n",
       "      <td>-0.02</td>\n",
       "      <td>-0.02</td>\n",
       "      <td>0.02</td>\n",
       "      <td>0.00</td>\n",
       "    </tr>\n",
       "    <tr>\n",
       "      <th>O2tpp</th>\n",
       "      <td>-0.02</td>\n",
       "      <td>-0.02</td>\n",
       "      <td>0.02</td>\n",
       "      <td>0.00</td>\n",
       "    </tr>\n",
       "    <tr>\n",
       "      <th>EX_co2_e</th>\n",
       "      <td>-0.03</td>\n",
       "      <td>-0.02</td>\n",
       "      <td>0.04</td>\n",
       "      <td>0.00</td>\n",
       "    </tr>\n",
       "    <tr>\n",
       "      <th>NADH16pp</th>\n",
       "      <td>-0.02</td>\n",
       "      <td>-0.03</td>\n",
       "      <td>0.04</td>\n",
       "      <td>0.00</td>\n",
       "    </tr>\n",
       "    <tr>\n",
       "      <th>CYTBO3_4pp</th>\n",
       "      <td>-0.03</td>\n",
       "      <td>-0.03</td>\n",
       "      <td>0.05</td>\n",
       "      <td>0.00</td>\n",
       "    </tr>\n",
       "    <tr>\n",
       "      <th>H2Otex</th>\n",
       "      <td>0.03</td>\n",
       "      <td>0.05</td>\n",
       "      <td>0.05</td>\n",
       "      <td>0.00</td>\n",
       "    </tr>\n",
       "    <tr>\n",
       "      <th>EX_h2o_e</th>\n",
       "      <td>-0.03</td>\n",
       "      <td>-0.05</td>\n",
       "      <td>0.05</td>\n",
       "      <td>0.00</td>\n",
       "    </tr>\n",
       "    <tr>\n",
       "      <th>H2Otpp</th>\n",
       "      <td>0.03</td>\n",
       "      <td>0.05</td>\n",
       "      <td>0.05</td>\n",
       "      <td>0.00</td>\n",
       "    </tr>\n",
       "    <tr>\n",
       "      <th>ATPS4rpp</th>\n",
       "      <td>-0.05</td>\n",
       "      <td>-0.05</td>\n",
       "      <td>0.07</td>\n",
       "      <td>0.00</td>\n",
       "    </tr>\n",
       "    <tr>\n",
       "      <th>SUCDi</th>\n",
       "      <td>0.18</td>\n",
       "      <td>-0.00</td>\n",
       "      <td>0.18</td>\n",
       "      <td>-0.00</td>\n",
       "    </tr>\n",
       "    <tr>\n",
       "      <th>DHORDfum</th>\n",
       "      <td>0.19</td>\n",
       "      <td>0.00</td>\n",
       "      <td>0.19</td>\n",
       "      <td>0.00</td>\n",
       "    </tr>\n",
       "    <tr>\n",
       "      <th>DHORD2</th>\n",
       "      <td>-0.19</td>\n",
       "      <td>-0.00</td>\n",
       "      <td>0.19</td>\n",
       "      <td>0.00</td>\n",
       "    </tr>\n",
       "    <tr>\n",
       "      <th>SUCOAS</th>\n",
       "      <td>0.30</td>\n",
       "      <td>0.00</td>\n",
       "      <td>0.30</td>\n",
       "      <td>0.00</td>\n",
       "    </tr>\n",
       "    <tr>\n",
       "      <th>ACCOAL</th>\n",
       "      <td>-0.30</td>\n",
       "      <td>0.00</td>\n",
       "      <td>0.30</td>\n",
       "      <td>-0.00</td>\n",
       "    </tr>\n",
       "    <tr>\n",
       "      <th>PPCSCT</th>\n",
       "      <td>-0.30</td>\n",
       "      <td>0.00</td>\n",
       "      <td>0.30</td>\n",
       "      <td>-0.00</td>\n",
       "    </tr>\n",
       "    <tr>\n",
       "      <th>VALTA</th>\n",
       "      <td>-0.58</td>\n",
       "      <td>0.00</td>\n",
       "      <td>0.58</td>\n",
       "      <td>-0.00</td>\n",
       "    </tr>\n",
       "    <tr>\n",
       "      <th>VPAMTr_copy1</th>\n",
       "      <td>-0.58</td>\n",
       "      <td>0.00</td>\n",
       "      <td>0.58</td>\n",
       "      <td>-0.00</td>\n",
       "    </tr>\n",
       "    <tr>\n",
       "      <th>ALATA_L</th>\n",
       "      <td>0.58</td>\n",
       "      <td>0.00</td>\n",
       "      <td>0.58</td>\n",
       "      <td>0.00</td>\n",
       "    </tr>\n",
       "    <tr>\n",
       "      <th>NDPK1</th>\n",
       "      <td>4.68</td>\n",
       "      <td>-0.00</td>\n",
       "      <td>4.68</td>\n",
       "      <td>-0.00</td>\n",
       "    </tr>\n",
       "    <tr>\n",
       "      <th>ADK3</th>\n",
       "      <td>4.68</td>\n",
       "      <td>0.00</td>\n",
       "      <td>4.68</td>\n",
       "      <td>0.00</td>\n",
       "    </tr>\n",
       "    <tr>\n",
       "      <th>PRPPS</th>\n",
       "      <td>4.68</td>\n",
       "      <td>0.00</td>\n",
       "      <td>4.68</td>\n",
       "      <td>0.01</td>\n",
       "    </tr>\n",
       "    <tr>\n",
       "      <th>R15BPK</th>\n",
       "      <td>-4.68</td>\n",
       "      <td>-0.00</td>\n",
       "      <td>4.68</td>\n",
       "      <td>0.01</td>\n",
       "    </tr>\n",
       "    <tr>\n",
       "      <th>R1PK</th>\n",
       "      <td>-4.68</td>\n",
       "      <td>-0.00</td>\n",
       "      <td>4.68</td>\n",
       "      <td>0.01</td>\n",
       "    </tr>\n",
       "    <tr>\n",
       "      <th>PPM</th>\n",
       "      <td>4.68</td>\n",
       "      <td>0.00</td>\n",
       "      <td>4.68</td>\n",
       "      <td>0.01</td>\n",
       "    </tr>\n",
       "  </tbody>\n",
       "</table>\n",
       "</div>"
      ],
      "text/plain": [
       "              dCdy  dGdx  vec_norm  product\n",
       "EX_glc__D_e   0.00  0.01      0.01     0.00\n",
       "GLCtex_copy1  0.00 -0.01      0.01    -0.00\n",
       "GLCptspp      0.00 -0.01      0.01    -0.00\n",
       "ICL          -0.01  0.00      0.01    -0.00\n",
       "MALS         -0.01 -0.00      0.01     0.00\n",
       "PDH          -0.01 -0.01      0.01     0.00\n",
       "EX_nh4_e      0.01  0.01      0.01     0.00\n",
       "NH4tpp       -0.01 -0.01      0.01     0.00\n",
       "NH4tex       -0.01 -0.01      0.01     0.00\n",
       "FUM          -0.01 -0.00      0.01     0.00\n",
       "ACONTa       -0.01 -0.00      0.01     0.00\n",
       "ACONTb       -0.01 -0.00      0.01     0.00\n",
       "PGM          -0.00  0.01      0.01    -0.00\n",
       "ENO           0.00 -0.01      0.01    -0.00\n",
       "PGK          -0.00  0.02      0.02    -0.00\n",
       "GAPD          0.00 -0.02      0.02    -0.00\n",
       "MAEA         -0.02  0.00      0.02    -0.00\n",
       "MDH          -0.02 -0.00      0.02     0.00\n",
       "CO2tpp        0.01  0.02      0.02     0.00\n",
       "CO2tex        0.01  0.02      0.02     0.00\n",
       "EX_o2_e       0.02  0.02      0.02     0.00\n",
       "O2tex        -0.02 -0.02      0.02     0.00\n",
       "O2tpp        -0.02 -0.02      0.02     0.00\n",
       "EX_co2_e     -0.03 -0.02      0.04     0.00\n",
       "NADH16pp     -0.02 -0.03      0.04     0.00\n",
       "CYTBO3_4pp   -0.03 -0.03      0.05     0.00\n",
       "H2Otex        0.03  0.05      0.05     0.00\n",
       "EX_h2o_e     -0.03 -0.05      0.05     0.00\n",
       "H2Otpp        0.03  0.05      0.05     0.00\n",
       "ATPS4rpp     -0.05 -0.05      0.07     0.00\n",
       "SUCDi         0.18 -0.00      0.18    -0.00\n",
       "DHORDfum      0.19  0.00      0.19     0.00\n",
       "DHORD2       -0.19 -0.00      0.19     0.00\n",
       "SUCOAS        0.30  0.00      0.30     0.00\n",
       "ACCOAL       -0.30  0.00      0.30    -0.00\n",
       "PPCSCT       -0.30  0.00      0.30    -0.00\n",
       "VALTA        -0.58  0.00      0.58    -0.00\n",
       "VPAMTr_copy1 -0.58  0.00      0.58    -0.00\n",
       "ALATA_L       0.58  0.00      0.58     0.00\n",
       "NDPK1         4.68 -0.00      4.68    -0.00\n",
       "ADK3          4.68  0.00      4.68     0.00\n",
       "PRPPS         4.68  0.00      4.68     0.01\n",
       "R15BPK       -4.68 -0.00      4.68     0.01\n",
       "R1PK         -4.68 -0.00      4.68     0.01\n",
       "PPM           4.68  0.00      4.68     0.01"
      ]
     },
     "execution_count": 21,
     "metadata": {},
     "output_type": "execute_result"
    }
   ],
   "source": [
    "''' this result shows no tradeoff between glucose and citrate, neglecting the costs of gene expression.\n",
    "    what if I fix oxaloacetate decarboxylation at some value? Perhaps some tradeoff. But gene regulation could\n",
    "    alleviate the tradeoff.'''\n",
    "\n",
    "''' my initial thinking/result was that maeA flux is sensitive to changes in glucose and citrate.\n",
    "    But this finding does not seem to hold up-- this idea is cool so I keep the code, but \"result\"\n",
    "    will not be presented.'''\n",
    "\n",
    "dGdx_norm = np.sqrt(np.square(flux_derivative['dGdx']).sum())\n",
    "dCdy_norm = np.sqrt(np.square(flux_derivative['dCdy']).sum())\n",
    "theta = np.arccos(flux_derivative2['dCdy'].dot(flux_derivative2['dGdx'])/(dGdx_norm*dCdy_norm))\n",
    "print(theta)\n",
    "flux_derivative2.sort_values('vec_norm').round(2)"
   ]
  },
  {
   "cell_type": "code",
   "execution_count": 22,
   "metadata": {},
   "outputs": [
    {
     "name": "stdout",
     "output_type": "stream",
     "text": [
      "PRODUCING REACTIONS -- Acetyl-CoA (accoa_c)\n",
      "-------------------------------------------\n",
      "%      FLUX  RXN ID    REACTION\n",
      "---  ------  --------  --------------------------------------------------\n",
      "95%  0.989   PDH       coa_c + nad_c + pyr_c --> accoa_c + co2_c + nadh_c\n",
      "5%   0.0504  ACS       ac_c + atp_c + coa_c --> accoa_c + amp_c + ppi_c\n",
      "\n",
      "CONSUMING REACTIONS -- Acetyl-CoA (accoa_c)\n",
      "-------------------------------------------\n",
      "%      FLUX  RXN ID    REACTION\n",
      "---  ------  --------  --------------------------------------------------\n",
      "69%  0.715   CS        accoa_c + h2o_c + oaa_c --> cit_c + coa_c + h_c\n",
      "6%   0.0616  ACACT1r   2.0 accoa_c <=> aacoa_c + coa_c\n",
      "4%   0.039   IPPS      3mob_c + accoa_c + h2o_c --> 3c3hmp_c + coa_c +...\n",
      "3%   0.0308  ACACT3r   accoa_c + hxcoa_c <=> 3oocoa_c + coa_c\n",
      "3%   0.0308  ACACT4r   accoa_c + occoa_c <=> 3odcoa_c + coa_c\n",
      "3%   0.0308  ACACT5r   accoa_c + dcacoa_c <=> 3oddcoa_c + coa_c\n",
      "3%   0.0308  ACACT2r   accoa_c + btcoa_c <=> 3ohcoa_c + coa_c\n",
      "2%   0.0256  ACGS      accoa_c + glu__L_c --> acglu_c + coa_c + h_c\n",
      "2%   0.024   ACACT6r   accoa_c + ddcacoa_c <=> 3otdcoa_c + coa_c\n",
      "2%   0.024   ACACT7r   accoa_c + tdcoa_c <=> 3ohdcoa_c + coa_c\n",
      "2%   0.0214  SERAT     accoa_c + ser__L_c <=> acser_c + coa_c\n",
      "None\n",
      "************************\n",
      "PRODUCING REACTIONS -- Acetyl-CoA (accoa_c)\n",
      "-------------------------------------------\n",
      "%      FLUX  RXN ID    REACTION\n",
      "---  ------  --------  --------------------------------------------------\n",
      "99%  24.5    PFL       coa_c + pyr_c --> accoa_c + for_c\n",
      "1%    0.348  PTAr      accoa_c + pi_c <=> actp_c + coa_c\n",
      "\n",
      "CONSUMING REACTIONS -- Acetyl-CoA (accoa_c)\n",
      "-------------------------------------------\n",
      "%      FLUX  RXN ID    REACTION\n",
      "---  ------  --------  --------------------------------------------------\n",
      "78%  19.4    POR5      coa_c + 2.0 flxso_c + pyr_c <=> accoa_c + co2_c...\n",
      "13%   3.14   CS        accoa_c + h2o_c + oaa_c --> cit_c + coa_c + h_c\n",
      "2%    0.425  ACACT1r   2.0 accoa_c <=> aacoa_c + coa_c\n",
      "1%    0.269  IPPS      3mob_c + accoa_c + h2o_c --> 3c3hmp_c + coa_c +...\n",
      "None\n",
      "************************\n",
      "PRODUCING REACTIONS -- Acetyl-CoA (accoa_c)\n",
      "-------------------------------------------\n",
      "%      FLUX  RXN ID    REACTION\n",
      "---  ------  --------  --------------------------------------------------\n",
      "99%  25.6    PFL       coa_c + pyr_c --> accoa_c + for_c\n",
      "1%    0.281  ACS       ac_c + atp_c + coa_c --> accoa_c + amp_c + ppi_c\n",
      "\n",
      "CONSUMING REACTIONS -- Acetyl-CoA (accoa_c)\n",
      "-------------------------------------------\n",
      "%      FLUX  RXN ID    REACTION\n",
      "---  ------  --------  --------------------------------------------------\n",
      "80%  20.8    POR5      coa_c + 2.0 flxso_c + pyr_c <=> accoa_c + co2_c...\n",
      "13%   3.24   CS        accoa_c + h2o_c + oaa_c --> cit_c + coa_c + h_c\n",
      "1%    0.343  ACACT1r   2.0 accoa_c <=> aacoa_c + coa_c\n",
      "None\n"
     ]
    }
   ],
   "source": [
    "''' look at acetyl-CoA in the old models'''\n",
    "print(old_cit_minus_model.metabolites.accoa_c.summary())\n",
    "print('************************')\n",
    "print(old_DM25_cit_plus_model.metabolites.accoa_c.summary())\n",
    "print('************************')\n",
    "print(old_DM0_cit_plus_model.metabolites.accoa_c.summary())"
   ]
  },
  {
   "cell_type": "code",
   "execution_count": 23,
   "metadata": {},
   "outputs": [
    {
     "name": "stdout",
     "output_type": "stream",
     "text": [
      "PRODUCING REACTIONS -- Acetyl-CoA (accoa_c)\n",
      "-------------------------------------------\n",
      "%      FLUX  RXN ID    REACTION\n",
      "---  ------  --------  --------------------------------------------------\n",
      "95%  0.989   PDH       coa_c + nad_c + pyr_c --> accoa_c + co2_c + nadh_c\n",
      "5%   0.0504  ACS       ac_c + atp_c + coa_c --> accoa_c + amp_c + ppi_c\n",
      "\n",
      "CONSUMING REACTIONS -- Acetyl-CoA (accoa_c)\n",
      "-------------------------------------------\n",
      "%      FLUX  RXN ID    REACTION\n",
      "---  ------  --------  --------------------------------------------------\n",
      "69%  0.715   CS        accoa_c + h2o_c + oaa_c --> cit_c + coa_c + h_c\n",
      "6%   0.0616  ACACT1r   2.0 accoa_c <=> aacoa_c + coa_c\n",
      "4%   0.039   IPPS      3mob_c + accoa_c + h2o_c --> 3c3hmp_c + coa_c +...\n",
      "3%   0.0308  ACACT3r   accoa_c + hxcoa_c <=> 3oocoa_c + coa_c\n",
      "3%   0.0308  ACACT4r   accoa_c + occoa_c <=> 3odcoa_c + coa_c\n",
      "3%   0.0308  ACACT5r   accoa_c + dcacoa_c <=> 3oddcoa_c + coa_c\n",
      "3%   0.0308  ACACT2r   accoa_c + btcoa_c <=> 3ohcoa_c + coa_c\n",
      "2%   0.0256  ACGS      accoa_c + glu__L_c --> acglu_c + coa_c + h_c\n",
      "2%   0.024   ACACT6r   accoa_c + ddcacoa_c <=> 3otdcoa_c + coa_c\n",
      "2%   0.024   ACACT7r   accoa_c + tdcoa_c <=> 3ohdcoa_c + coa_c\n",
      "2%   0.0214  SERAT     accoa_c + ser__L_c <=> acser_c + coa_c\n",
      "None\n",
      "************************\n",
      "PRODUCING REACTIONS -- Acetyl-CoA (accoa_c)\n",
      "-------------------------------------------\n",
      "%      FLUX  RXN ID    REACTION\n",
      "---  ------  --------  --------------------------------------------------\n",
      "59%   7.53   PFL       coa_c + pyr_c --> accoa_c + for_c\n",
      "38%   4.89   PDH       coa_c + nad_c + pyr_c --> accoa_c + co2_c + nadh_c\n",
      "3%    0.401  ACS       ac_c + atp_c + coa_c --> accoa_c + amp_c + ppi_c\n",
      "\n",
      "CONSUMING REACTIONS -- Acetyl-CoA (accoa_c)\n",
      "-------------------------------------------\n",
      "%      FLUX  RXN ID    REACTION\n",
      "---  ------  --------  --------------------------------------------------\n",
      "64%   8.26   MALS      accoa_c + glx_c + h2o_c --> coa_c + h_c + mal__L_c\n",
      "16%   1.99   CS        accoa_c + h2o_c + oaa_c --> cit_c + coa_c + h_c\n",
      "4%    0.489  ACACT1r   2.0 accoa_c <=> aacoa_c + coa_c\n",
      "2%    0.31   IPPS      3mob_c + accoa_c + h2o_c --> 3c3hmp_c + coa_c +...\n",
      "2%    0.245  ACACT2r   accoa_c + btcoa_c <=> 3ohcoa_c + coa_c\n",
      "2%    0.245  ACACT3r   accoa_c + hxcoa_c <=> 3oocoa_c + coa_c\n",
      "2%    0.245  ACACT4r   accoa_c + occoa_c <=> 3odcoa_c + coa_c\n",
      "2%    0.245  ACACT5r   accoa_c + dcacoa_c <=> 3oddcoa_c + coa_c\n",
      "2%    0.203  ACGS      accoa_c + glu__L_c --> acglu_c + coa_c + h_c\n",
      "1%    0.191  ACACT6r   accoa_c + ddcacoa_c <=> 3otdcoa_c + coa_c\n",
      "1%    0.191  ACACT7r   accoa_c + tdcoa_c <=> 3ohdcoa_c + coa_c\n",
      "1%    0.17   SERAT     accoa_c + ser__L_c <=> acser_c + coa_c\n",
      "None\n",
      "************************\n",
      "PRODUCING REACTIONS -- Acetyl-CoA (accoa_c)\n",
      "-------------------------------------------\n",
      "%      FLUX  RXN ID    REACTION\n",
      "---  ------  --------  --------------------------------------------------\n",
      "64%   9.91   PDH       coa_c + nad_c + pyr_c --> accoa_c + co2_c + nadh_c\n",
      "33%   5.16   PFL       coa_c + pyr_c --> accoa_c + for_c\n",
      "2%    0.336  ACS       ac_c + atp_c + coa_c --> accoa_c + amp_c + ppi_c\n",
      "\n",
      "CONSUMING REACTIONS -- Acetyl-CoA (accoa_c)\n",
      "-------------------------------------------\n",
      "%      FLUX  RXN ID    REACTION\n",
      "---  ------  --------  --------------------------------------------------\n",
      "73%  11.3    MALS      accoa_c + glx_c + h2o_c --> coa_c + h_c + mal__L_c\n",
      "13%   1.93   CS        accoa_c + h2o_c + oaa_c --> cit_c + coa_c + h_c\n",
      "3%    0.411  ACACT1r   2.0 accoa_c <=> aacoa_c + coa_c\n",
      "2%    0.26   IPPS      3mob_c + accoa_c + h2o_c --> 3c3hmp_c + coa_c +...\n",
      "1%    0.206  ACACT2r   accoa_c + btcoa_c <=> 3ohcoa_c + coa_c\n",
      "1%    0.206  ACACT3r   accoa_c + hxcoa_c <=> 3oocoa_c + coa_c\n",
      "1%    0.206  ACACT4r   accoa_c + occoa_c <=> 3odcoa_c + coa_c\n",
      "1%    0.206  ACACT5r   accoa_c + dcacoa_c <=> 3oddcoa_c + coa_c\n",
      "1%    0.171  ACGS      accoa_c + glu__L_c --> acglu_c + coa_c + h_c\n",
      "1%    0.161  ACACT6r   accoa_c + ddcacoa_c <=> 3otdcoa_c + coa_c\n",
      "1%    0.161  ACACT7r   accoa_c + tdcoa_c <=> 3ohdcoa_c + coa_c\n",
      "1%    0.143  SERAT     accoa_c + ser__L_c <=> acser_c + coa_c\n",
      "None\n"
     ]
    }
   ],
   "source": [
    "''' look at acetyl-CoA in the models'''\n",
    "print(new_cit_minus_model.metabolites.accoa_c.summary())\n",
    "print('************************')\n",
    "print(new_DM25_cit_plus_model.metabolites.accoa_c.summary())\n",
    "print('************************')\n",
    "print(new_DM0_cit_plus_model.metabolites.accoa_c.summary())"
   ]
  },
  {
   "cell_type": "markdown",
   "metadata": {},
   "source": [
    "## Are there any thermodynamically infeasible loops in this FBA solution? Do Loopless FBA (using the CycleFreeFlux algorithm) to see where MaeA flux goes.\n",
    "### See documentation at: https://cobrapy.readthedocs.io/en/latest/loopless.html\n"
   ]
  },
  {
   "cell_type": "code",
   "execution_count": 24,
   "metadata": {},
   "outputs": [],
   "source": [
    "%matplotlib inline\n",
    "import cobra.test\n",
    "from cobra import Reaction, Metabolite, Model\n",
    "from cobra.flux_analysis.loopless import add_loopless, loopless_solution"
   ]
  },
  {
   "cell_type": "code",
   "execution_count": 27,
   "metadata": {},
   "outputs": [],
   "source": [
    "loopless_new_cit_minus_solution = loopless_solution(new_cit_minus_model)\n",
    "loopless_new_DM0_cit_plus_solution = loopless_solution(new_DM0_cit_plus_model)\n",
    "loopless_new_DM25_cit_plus_solution = loopless_solution(new_DM25_cit_plus_model)"
   ]
  },
  {
   "cell_type": "code",
   "execution_count": 28,
   "metadata": {},
   "outputs": [],
   "source": [
    "cit_minus_comp_df = pd.DataFrame(dict(loopless=loopless_new_cit_minus_solution.fluxes, nominal=new_cit_minus_solution.fluxes))\n",
    "DM0_cit_plus_comp_df = pd.DataFrame(dict(loopless=loopless_new_DM0_cit_plus_solution.fluxes, nominal=new_DM0_cit_plus_solution.fluxes))\n",
    "DM25_cit_plus_comp_df = pd.DataFrame(dict(loopless=loopless_new_DM25_cit_plus_solution.fluxes, nominal=new_DM25_cit_plus_solution.fluxes))"
   ]
  },
  {
   "cell_type": "code",
   "execution_count": 32,
   "metadata": {},
   "outputs": [
    {
     "data": {
      "text/plain": [
       "<matplotlib.axes._subplots.AxesSubplot at 0x1322b4cf8>"
      ]
     },
     "execution_count": 32,
     "metadata": {},
     "output_type": "execute_result"
    },
    {
     "data": {
      "image/png": "[encoded data removed]",
      "text/plain": [
       "<Figure size 432x288 with 1 Axes>"
      ]
     },
     "metadata": {
      "needs_background": "light"
     },
     "output_type": "display_data"
    }
   ],
   "source": [
    "cit_minus_comp_df.plot.scatter(x='loopless', y='nominal')"
   ]
  },
  {
   "cell_type": "code",
   "execution_count": 33,
   "metadata": {},
   "outputs": [
    {
     "data": {
      "text/plain": [
       "<matplotlib.axes._subplots.AxesSubplot at 0x1323cdef0>"
      ]
     },
     "execution_count": 33,
     "metadata": {},
     "output_type": "execute_result"
    },
    {
     "data": {
      "image/png": "[encoded data removed]",
      "text/plain": [
       "<Figure size 432x288 with 1 Axes>"
      ]
     },
     "metadata": {
      "needs_background": "light"
     },
     "output_type": "display_data"
    }
   ],
   "source": [
    "DM0_cit_plus_comp_df.plot.scatter(x='loopless', y='nominal')"
   ]
  },
  {
   "cell_type": "code",
   "execution_count": 34,
   "metadata": {},
   "outputs": [
    {
     "data": {
      "text/plain": [
       "<matplotlib.axes._subplots.AxesSubplot at 0x1323fe198>"
      ]
     },
     "execution_count": 34,
     "metadata": {},
     "output_type": "execute_result"
    },
    {
     "data": {
      "image/png": "[encoded data removed]",
      "text/plain": [
       "<Figure size 432x288 with 1 Axes>"
      ]
     },
     "metadata": {
      "needs_background": "light"
     },
     "output_type": "display_data"
    }
   ],
   "source": [
    "DM25_cit_plus_comp_df.plot.scatter(x='loopless', y='nominal')"
   ]
  },
  {
   "cell_type": "code",
   "execution_count": 36,
   "metadata": {},
   "outputs": [
    {
     "name": "stdout",
     "output_type": "stream",
     "text": [
      "0.0\n",
      "0.0\n",
      "0.0\n",
      "0.08648808133366338\n",
      "0.5774694918498211\n",
      "0.6877045311129086\n"
     ]
    }
   ],
   "source": [
    "print(loopless_new_cit_minus_solution.objective_value)\n",
    "print(loopless_new_DM0_cit_plus_solution.objective_value)\n",
    "print(loopless_new_DM25_cit_plus_solution.objective_value)\n",
    "print(new_cit_minus_solution.objective_value)\n",
    "print(new_DM0_cit_plus_solution.objective_value)\n",
    "print(new_DM25_cit_plus_solution.objective_value)"
   ]
  },
  {
   "cell_type": "code",
   "execution_count": 37,
   "metadata": {},
   "outputs": [
    {
     "name": "stdout",
     "output_type": "stream",
     "text": [
      "-2.3080956289023192e-14\n",
      "16.223185320804426\n",
      "19.600451438519194\n"
     ]
    }
   ],
   "source": [
    "print(loopless_new_cit_minus_solution['MAEA'])\n",
    "print(loopless_new_DM25_cit_plus_solution['MAEA'])\n",
    "print(loopless_new_DM0_cit_plus_solution['MAEA'])"
   ]
  },
  {
   "cell_type": "code",
   "execution_count": 38,
   "metadata": {},
   "outputs": [
    {
     "name": "stdout",
     "output_type": "stream",
     "text": [
      "PRODUCING REACTIONS -- Pyruvate (pyr_c)\n",
      "---------------------------------------\n",
      "%      FLUX  RXN ID      REACTION\n",
      "---  ------  ----------  --------------------------------------------------\n",
      "77%  1       GLCptspp    glc__D_p + pep_c --> g6p_c + pyr_c\n",
      "19%  0.244   PYK         adp_c + h_c + pep_c --> atp_c + pyr_c\n",
      "3%   0.0366  VPAMTr_...  3mob_c + ala__L_c <=> pyr_c + val__L_c\n",
      "1%   0.0133  CYSTL       cyst__L_c + h2o_c --> hcys__L_c + nh4_c + pyr_c\n",
      "\n",
      "CONSUMING REACTIONS -- Pyruvate (pyr_c)\n",
      "---------------------------------------\n",
      "%      FLUX  RXN ID      REACTION\n",
      "---  ------  ----------  --------------------------------------------------\n",
      "76%  0.989   PDH         coa_c + nad_c + pyr_c --> accoa_c + co2_c + nadh_c\n",
      "12%  0.151   ACLS        h_c + 2.0 pyr_c --> alac__S_c + co2_c\n",
      "7%   0.0869  ALATA_L     akg_c + ala__L_c <=> glu__L_c + pyr_c\n",
      "2%   0.0321  DHDPS       aspsa_c + pyr_c --> 23dhdp_c + 2.0 h2o_c + h_c\n",
      "2%   0.0251  ACHBS       2obut_c + h_c + pyr_c --> 2ahbut_c + co2_c\n",
      "None\n",
      "************************\n",
      "PRODUCING REACTIONS -- Pyruvate (pyr_c)\n",
      "---------------------------------------\n",
      "%       FLUX  RXN ID      REACTION\n",
      "----  ------  ----------  --------------------------------------------------\n",
      "100%  16.2    MAEA        oaa_c --> co2_e + pyr_c\n",
      "\n",
      "CONSUMING REACTIONS -- Pyruvate (pyr_c)\n",
      "---------------------------------------\n",
      "%       FLUX  RXN ID      REACTION\n",
      "----  ------  ----------  --------------------------------------------------\n",
      "46%    7.53   PFL         coa_c + pyr_c --> accoa_c + for_c\n",
      "30%    4.89   PDH         coa_c + nad_c + pyr_c --> accoa_c + co2_c + nadh_c\n",
      "11%    1.77   PPS         atp_c + h2o_c + pyr_c --> amp_c + 2.0 h_c + pep...\n",
      "7%     1.2    ACLS        h_c + 2.0 pyr_c --> alac__S_c + co2_c\n",
      "2%     0.4    VPAMTr_...  3mob_c + ala__L_c <=> pyr_c + val__L_c\n",
      "2%     0.255  DHDPS       aspsa_c + pyr_c --> 23dhdp_c + 2.0 h2o_c + h_c\n",
      "1%     0.2    ACHBS       2obut_c + h_c + pyr_c --> 2ahbut_c + co2_c\n",
      "None\n",
      "************************\n",
      "PRODUCING REACTIONS -- Pyruvate (pyr_c)\n",
      "---------------------------------------\n",
      "%      FLUX  RXN ID      REACTION\n",
      "---  ------  ----------  --------------------------------------------------\n",
      "99%  19.6    MAEA        oaa_c --> co2_e + pyr_c\n",
      "1%    0.244  VPAMTr_...  3mob_c + ala__L_c <=> pyr_c + val__L_c\n",
      "\n",
      "CONSUMING REACTIONS -- Pyruvate (pyr_c)\n",
      "---------------------------------------\n",
      "%      FLUX  RXN ID      REACTION\n",
      "---  ------  ----------  --------------------------------------------------\n",
      "50%   9.91   PDH         coa_c + nad_c + pyr_c --> accoa_c + co2_c + nadh_c\n",
      "26%   5.16   PFL         coa_c + pyr_c --> accoa_c + for_c\n",
      "14%   2.83   PPS         atp_c + h2o_c + pyr_c --> amp_c + 2.0 h_c + pep...\n",
      "5%    1.01   ACLS        h_c + 2.0 pyr_c --> alac__S_c + co2_c\n",
      "3%    0.58   ALATA_L     akg_c + ala__L_c <=> glu__L_c + pyr_c\n",
      "1%    0.214  DHDPS       aspsa_c + pyr_c --> 23dhdp_c + 2.0 h2o_c + h_c\n",
      "None\n"
     ]
    }
   ],
   "source": [
    "''' look at pyruvate in the models, after loopless solution.'''\n",
    "print(new_cit_minus_model.metabolites.pyr_c.summary())\n",
    "print('************************')\n",
    "print(new_DM25_cit_plus_model.metabolites.pyr_c.summary())\n",
    "print('************************')\n",
    "print(new_DM0_cit_plus_model.metabolites.pyr_c.summary())"
   ]
  },
  {
   "cell_type": "code",
   "execution_count": 39,
   "metadata": {},
   "outputs": [
    {
     "name": "stdout",
     "output_type": "stream",
     "text": [
      "PRODUCING REACTIONS -- Acetyl-CoA (accoa_c)\n",
      "-------------------------------------------\n",
      "%      FLUX  RXN ID    REACTION\n",
      "---  ------  --------  --------------------------------------------------\n",
      "95%  0.989   PDH       coa_c + nad_c + pyr_c --> accoa_c + co2_c + nadh_c\n",
      "5%   0.0504  ACS       ac_c + atp_c + coa_c --> accoa_c + amp_c + ppi_c\n",
      "\n",
      "CONSUMING REACTIONS -- Acetyl-CoA (accoa_c)\n",
      "-------------------------------------------\n",
      "%      FLUX  RXN ID    REACTION\n",
      "---  ------  --------  --------------------------------------------------\n",
      "69%  0.715   CS        accoa_c + h2o_c + oaa_c --> cit_c + coa_c + h_c\n",
      "6%   0.0616  ACACT1r   2.0 accoa_c <=> aacoa_c + coa_c\n",
      "4%   0.039   IPPS      3mob_c + accoa_c + h2o_c --> 3c3hmp_c + coa_c +...\n",
      "3%   0.0308  ACACT2r   accoa_c + btcoa_c <=> 3ohcoa_c + coa_c\n",
      "3%   0.0308  ACACT3r   accoa_c + hxcoa_c <=> 3oocoa_c + coa_c\n",
      "3%   0.0308  ACACT4r   accoa_c + occoa_c <=> 3odcoa_c + coa_c\n",
      "3%   0.0308  ACACT5r   accoa_c + dcacoa_c <=> 3oddcoa_c + coa_c\n",
      "2%   0.0256  ACGS      accoa_c + glu__L_c --> acglu_c + coa_c + h_c\n",
      "2%   0.024   ACACT7r   accoa_c + tdcoa_c <=> 3ohdcoa_c + coa_c\n",
      "2%   0.024   ACACT6r   accoa_c + ddcacoa_c <=> 3otdcoa_c + coa_c\n",
      "2%   0.0214  SERAT     accoa_c + ser__L_c <=> acser_c + coa_c\n",
      "None\n",
      "************************\n",
      "PRODUCING REACTIONS -- Acetyl-CoA (accoa_c)\n",
      "-------------------------------------------\n",
      "%      FLUX  RXN ID    REACTION\n",
      "---  ------  --------  --------------------------------------------------\n",
      "59%   7.53   PFL       coa_c + pyr_c --> accoa_c + for_c\n",
      "38%   4.89   PDH       coa_c + nad_c + pyr_c --> accoa_c + co2_c + nadh_c\n",
      "3%    0.401  ACS       ac_c + atp_c + coa_c --> accoa_c + amp_c + ppi_c\n",
      "\n",
      "CONSUMING REACTIONS -- Acetyl-CoA (accoa_c)\n",
      "-------------------------------------------\n",
      "%      FLUX  RXN ID    REACTION\n",
      "---  ------  --------  --------------------------------------------------\n",
      "64%   8.26   MALS      accoa_c + glx_c + h2o_c --> coa_c + h_c + mal__L_c\n",
      "16%   1.99   CS        accoa_c + h2o_c + oaa_c --> cit_c + coa_c + h_c\n",
      "4%    0.489  ACACT1r   2.0 accoa_c <=> aacoa_c + coa_c\n",
      "2%    0.31   IPPS      3mob_c + accoa_c + h2o_c --> 3c3hmp_c + coa_c +...\n",
      "2%    0.245  ACACT3r   accoa_c + hxcoa_c <=> 3oocoa_c + coa_c\n",
      "2%    0.245  ACACT4r   accoa_c + occoa_c <=> 3odcoa_c + coa_c\n",
      "2%    0.245  ACACT5r   accoa_c + dcacoa_c <=> 3oddcoa_c + coa_c\n",
      "2%    0.245  ACACT2r   accoa_c + btcoa_c <=> 3ohcoa_c + coa_c\n",
      "2%    0.203  ACGS      accoa_c + glu__L_c --> acglu_c + coa_c + h_c\n",
      "1%    0.191  ACACT6r   accoa_c + ddcacoa_c <=> 3otdcoa_c + coa_c\n",
      "1%    0.191  ACACT7r   accoa_c + tdcoa_c <=> 3ohdcoa_c + coa_c\n",
      "1%    0.17   SERAT     accoa_c + ser__L_c <=> acser_c + coa_c\n",
      "None\n",
      "************************\n",
      "PRODUCING REACTIONS -- Acetyl-CoA (accoa_c)\n",
      "-------------------------------------------\n",
      "%      FLUX  RXN ID    REACTION\n",
      "---  ------  --------  --------------------------------------------------\n",
      "64%   9.91   PDH       coa_c + nad_c + pyr_c --> accoa_c + co2_c + nadh_c\n",
      "33%   5.16   PFL       coa_c + pyr_c --> accoa_c + for_c\n",
      "2%    0.336  ACS       ac_c + atp_c + coa_c --> accoa_c + amp_c + ppi_c\n",
      "\n",
      "CONSUMING REACTIONS -- Acetyl-CoA (accoa_c)\n",
      "-------------------------------------------\n",
      "%      FLUX  RXN ID    REACTION\n",
      "---  ------  --------  --------------------------------------------------\n",
      "73%  11.3    MALS      accoa_c + glx_c + h2o_c --> coa_c + h_c + mal__L_c\n",
      "13%   1.93   CS        accoa_c + h2o_c + oaa_c --> cit_c + coa_c + h_c\n",
      "3%    0.411  ACACT1r   2.0 accoa_c <=> aacoa_c + coa_c\n",
      "2%    0.26   IPPS      3mob_c + accoa_c + h2o_c --> 3c3hmp_c + coa_c +...\n",
      "1%    0.206  ACACT3r   accoa_c + hxcoa_c <=> 3oocoa_c + coa_c\n",
      "1%    0.206  ACACT4r   accoa_c + occoa_c <=> 3odcoa_c + coa_c\n",
      "1%    0.206  ACACT5r   accoa_c + dcacoa_c <=> 3oddcoa_c + coa_c\n",
      "1%    0.206  ACACT2r   accoa_c + btcoa_c <=> 3ohcoa_c + coa_c\n",
      "1%    0.171  ACGS      accoa_c + glu__L_c --> acglu_c + coa_c + h_c\n",
      "1%    0.161  ACACT6r   accoa_c + ddcacoa_c <=> 3otdcoa_c + coa_c\n",
      "1%    0.161  ACACT7r   accoa_c + tdcoa_c <=> 3ohdcoa_c + coa_c\n",
      "1%    0.143  SERAT     accoa_c + ser__L_c <=> acser_c + coa_c\n",
      "None\n"
     ]
    }
   ],
   "source": [
    "''' look at acetyl-CoA in the models, after loopless solution'''\n",
    "print(new_cit_minus_model.metabolites.accoa_c.summary())\n",
    "print('************************')\n",
    "print(new_DM25_cit_plus_model.metabolites.accoa_c.summary())\n",
    "print('************************')\n",
    "print(new_DM0_cit_plus_model.metabolites.accoa_c.summary())"
   ]
  },
  {
   "cell_type": "code",
   "execution_count": 40,
   "metadata": {},
   "outputs": [
    {
     "name": "stdout",
     "output_type": "stream",
     "text": [
      "PRODUCING REACTIONS -- Citrate (cit_c)\n",
      "--------------------------------------\n",
      "%       FLUX  RXN ID    REACTION\n",
      "----  ------  --------  -----------------------------------------------\n",
      "100%   0.715  CS        accoa_c + h2o_c + oaa_c --> cit_c + coa_c + h_c\n",
      "\n",
      "CONSUMING REACTIONS -- Citrate (cit_c)\n",
      "--------------------------------------\n",
      "%       FLUX  RXN ID    REACTION\n",
      "----  ------  --------  -----------------------------------------------\n",
      "100%   0.715  ACONTa    cit_c <=> acon_C_c + h2o_c\n",
      "None\n",
      "************************\n",
      "PRODUCING REACTIONS -- Citrate (cit_c)\n",
      "--------------------------------------\n",
      "%       FLUX  RXN ID    REACTION\n",
      "----  ------  --------  -----------------------------------------------\n",
      "83%    10     CITt7pp   cit_p + succ_c --> cit_c + succ_p\n",
      "17%     1.99  CS        accoa_c + h2o_c + oaa_c --> cit_c + coa_c + h_c\n",
      "\n",
      "CONSUMING REACTIONS -- Citrate (cit_c)\n",
      "--------------------------------------\n",
      "%       FLUX  RXN ID    REACTION\n",
      "----  ------  --------  -----------------------------------------------\n",
      "100%   12     ACONTa    cit_c <=> acon_C_c + h2o_c\n",
      "None\n",
      "************************\n",
      "PRODUCING REACTIONS -- Citrate (cit_c)\n",
      "--------------------------------------\n",
      "%       FLUX  RXN ID    REACTION\n",
      "----  ------  --------  -----------------------------------------------\n",
      "84%    10     CITt7pp   cit_p + succ_c --> cit_c + succ_p\n",
      "16%     1.93  CS        accoa_c + h2o_c + oaa_c --> cit_c + coa_c + h_c\n",
      "\n",
      "CONSUMING REACTIONS -- Citrate (cit_c)\n",
      "--------------------------------------\n",
      "%       FLUX  RXN ID    REACTION\n",
      "----  ------  --------  -----------------------------------------------\n",
      "100%   11.9   ACONTa    cit_c <=> acon_C_c + h2o_c\n",
      "None\n"
     ]
    }
   ],
   "source": [
    "''' look at citrate in the models, after loopless solution'''\n",
    "print(new_cit_minus_model.metabolites.cit_c.summary())\n",
    "print('************************')\n",
    "print(new_DM25_cit_plus_model.metabolites.cit_c.summary())\n",
    "print('************************')\n",
    "print(new_DM0_cit_plus_model.metabolites.cit_c.summary())"
   ]
  },
  {
   "cell_type": "code",
   "execution_count": 41,
   "metadata": {},
   "outputs": [
    {
     "name": "stdout",
     "output_type": "stream",
     "text": [
      "PRODUCING REACTIONS -- L-Malate (mal__L_c)\n",
      "------------------------------------------\n",
      "%       FLUX  RXN ID    REACTION\n",
      "----  ------  --------  -----------------------------------------\n",
      "100%   0.712  FUM       fum_c + h2o_c <=> mal__L_c\n",
      "\n",
      "CONSUMING REACTIONS -- L-Malate (mal__L_c)\n",
      "------------------------------------------\n",
      "%       FLUX  RXN ID    REACTION\n",
      "----  ------  --------  -----------------------------------------\n",
      "73%    0.523  MDH       mal__L_c + nad_c <=> h_c + nadh_c + oaa_c\n",
      "27%    0.189  DMALRED   fad_c + mal__L_c --> fadh2_c + oaa_c\n",
      "None\n",
      "************************\n",
      "PRODUCING REACTIONS -- L-Malate (mal__L_c)\n",
      "------------------------------------------\n",
      "%      FLUX  RXN ID    REACTION\n",
      "---  ------  --------  --------------------------------------------------\n",
      "59%   12     FUM       fum_c + h2o_c <=> mal__L_c\n",
      "41%    8.26  MALS      accoa_c + glx_c + h2o_c --> coa_c + h_c + mal__L_c\n",
      "\n",
      "CONSUMING REACTIONS -- L-Malate (mal__L_c)\n",
      "------------------------------------------\n",
      "%      FLUX  RXN ID    REACTION\n",
      "---  ------  --------  --------------------------------------------------\n",
      "93%   18.7   MDH       mal__L_c + nad_c <=> h_c + nadh_c + oaa_c\n",
      "7%     1.5   DMALRED   fad_c + mal__L_c --> fadh2_c + oaa_c\n",
      "None\n",
      "************************\n",
      "PRODUCING REACTIONS -- L-Malate (mal__L_c)\n",
      "------------------------------------------\n",
      "%      FLUX  RXN ID    REACTION\n",
      "---  ------  --------  --------------------------------------------------\n",
      "51%   11.9   FUM       fum_c + h2o_c <=> mal__L_c\n",
      "49%   11.3   MALS      accoa_c + glx_c + h2o_c --> coa_c + h_c + mal__L_c\n",
      "\n",
      "CONSUMING REACTIONS -- L-Malate (mal__L_c)\n",
      "------------------------------------------\n",
      "%      FLUX  RXN ID    REACTION\n",
      "---  ------  --------  --------------------------------------------------\n",
      "95%   22     MDH       mal__L_c + nad_c <=> h_c + nadh_c + oaa_c\n",
      "5%     1.26  DMALRED   fad_c + mal__L_c --> fadh2_c + oaa_c\n",
      "None\n"
     ]
    }
   ],
   "source": [
    "''' look at malate in the models, after loopless solution'''\n",
    "print(new_cit_minus_model.metabolites.mal__L_c.summary())\n",
    "print('************************')\n",
    "print(new_DM25_cit_plus_model.metabolites.mal__L_c.summary())\n",
    "print('************************')\n",
    "print(new_DM0_cit_plus_model.metabolites.mal__L_c.summary())"
   ]
  },
  {
   "cell_type": "code",
   "execution_count": 42,
   "metadata": {},
   "outputs": [
    {
     "name": "stdout",
     "output_type": "stream",
     "text": [
      "PRODUCING REACTIONS -- Oxaloacetate (oaa_c)\n",
      "-------------------------------------------\n",
      "%      FLUX  RXN ID    REACTION\n",
      "---  ------  --------  -----------------------------------------------\n",
      "54%   0.523  MDH       mal__L_c + nad_c <=> h_c + nadh_c + oaa_c\n",
      "26%   0.256  PPC       co2_c + h2o_c + pep_c --> h_c + oaa_c + pi_c\n",
      "20%   0.189  DMALRED   fad_c + mal__L_c --> fadh2_c + oaa_c\n",
      "\n",
      "CONSUMING REACTIONS -- Oxaloacetate (oaa_c)\n",
      "-------------------------------------------\n",
      "%      FLUX  RXN ID    REACTION\n",
      "---  ------  --------  -----------------------------------------------\n",
      "74%   0.715  CS        accoa_c + h2o_c + oaa_c --> cit_c + coa_c + h_c\n",
      "26%   0.253  ASPTA     akg_c + asp__L_c <=> glu__L_c + oaa_c\n",
      "None\n",
      "************************\n",
      "PRODUCING REACTIONS -- Oxaloacetate (oaa_c)\n",
      "-------------------------------------------\n",
      "%      FLUX  RXN ID    REACTION\n",
      "---  ------  --------  -----------------------------------------------\n",
      "93%   18.7   MDH       mal__L_c + nad_c <=> h_c + nadh_c + oaa_c\n",
      "7%     1.5   DMALRED   fad_c + mal__L_c --> fadh2_c + oaa_c\n",
      "\n",
      "CONSUMING REACTIONS -- Oxaloacetate (oaa_c)\n",
      "-------------------------------------------\n",
      "%      FLUX  RXN ID    REACTION\n",
      "---  ------  --------  -----------------------------------------------\n",
      "80%   16.2   MAEA      oaa_c --> co2_e + pyr_c\n",
      "10%    2.01  ASPTA     akg_c + asp__L_c <=> glu__L_c + oaa_c\n",
      "10%    1.99  CS        accoa_c + h2o_c + oaa_c --> cit_c + coa_c + h_c\n",
      "None\n",
      "************************\n",
      "PRODUCING REACTIONS -- Oxaloacetate (oaa_c)\n",
      "-------------------------------------------\n",
      "%      FLUX  RXN ID    REACTION\n",
      "---  ------  --------  -----------------------------------------------\n",
      "95%   22     MDH       mal__L_c + nad_c <=> h_c + nadh_c + oaa_c\n",
      "5%     1.26  DMALRED   fad_c + mal__L_c --> fadh2_c + oaa_c\n",
      "\n",
      "CONSUMING REACTIONS -- Oxaloacetate (oaa_c)\n",
      "-------------------------------------------\n",
      "%      FLUX  RXN ID    REACTION\n",
      "---  ------  --------  -----------------------------------------------\n",
      "84%   19.6   MAEA      oaa_c --> co2_e + pyr_c\n",
      "8%     1.93  CS        accoa_c + h2o_c + oaa_c --> cit_c + coa_c + h_c\n",
      "7%     1.69  ASPTA     akg_c + asp__L_c <=> glu__L_c + oaa_c\n",
      "None\n"
     ]
    }
   ],
   "source": [
    "''' look at oxaloacetate in the models, after loopless solution'''\n",
    "print(new_cit_minus_model.metabolites.oaa_c.summary())\n",
    "print('************************')\n",
    "print(new_DM25_cit_plus_model.metabolites.oaa_c.summary())\n",
    "print('************************')\n",
    "print(new_DM0_cit_plus_model.metabolites.oaa_c.summary())"
   ]
  },
  {
   "cell_type": "code",
   "execution_count": 43,
   "metadata": {},
   "outputs": [
    {
     "name": "stdout",
     "output_type": "stream",
     "text": [
      "PRODUCING REACTIONS -- Nicotinamide adenine dinucleotide - reduced (nadh_c)\n",
      "---------------------------------------------------------------------------\n",
      "%      FLUX  RXN ID    REACTION\n",
      "---  ------  --------  --------------------------------------------------\n",
      "43%   1.72   GAPD      g3p_c + nad_c + pi_c <=> 13dpg_c + h_c + nadh_c\n",
      "24%   0.989  PDH       coa_c + nad_c + pyr_c --> accoa_c + co2_c + nadh_c\n",
      "15%   0.622  AKGDH     akg_c + coa_c + nad_c --> co2_c + nadh_c + succ...\n",
      "13%   0.523  MDH       mal__L_c + nad_c <=> h_c + nadh_c + oaa_c\n",
      "4%    0.149  PGCD      3pg_c + nad_c --> 3php_c + h_c + nadh_c\n",
      "1%    0.039  IPMD      3c2hmp_c + nad_c --> 3c4mop_c + h_c + nadh_c\n",
      "\n",
      "CONSUMING REACTIONS -- Nicotinamide adenine dinucleotide - reduced (nadh_c)\n",
      "---------------------------------------------------------------------------\n",
      "%      FLUX  RXN ID    REACTION\n",
      "---  ------  --------  --------------------------------------------------\n",
      "96%   3.88   NADH16pp  4.0 h_c + nadh_c + q8_c --> 3.0 h_p + nad_c + q...\n",
      "None\n",
      "************************\n",
      "PRODUCING REACTIONS -- Nicotinamide adenine dinucleotide - reduced (nadh_c)\n",
      "---------------------------------------------------------------------------\n",
      "%      FLUX  RXN ID    REACTION\n",
      "---  ------  --------  --------------------------------------------------\n",
      "67%  18.7    MDH       mal__L_c + nad_c <=> h_c + nadh_c + oaa_c\n",
      "17%   4.89   PDH       coa_c + nad_c + pyr_c --> accoa_c + co2_c + nadh_c\n",
      "11%   2.99   AKGDH     akg_c + coa_c + nad_c --> co2_c + nadh_c + succ...\n",
      "4%    1.14   PGCD      3pg_c + nad_c --> 3php_c + h_c + nadh_c\n",
      "1%    0.31   IPMD      3c2hmp_c + nad_c --> 3c4mop_c + h_c + nadh_c\n",
      "\n",
      "CONSUMING REACTIONS -- Nicotinamide adenine dinucleotide - reduced (nadh_c)\n",
      "---------------------------------------------------------------------------\n",
      "%      FLUX  RXN ID    REACTION\n",
      "---  ------  --------  --------------------------------------------------\n",
      "84%  23.7    NADH16pp  4.0 h_c + nadh_c + q8_c --> 3.0 h_p + nad_c + q...\n",
      "11%   3.02   THD2pp    2.0 h_p + nadh_c + nadp_c --> 2.0 h_c + nad_c +...\n",
      "1%    0.245  HACD1     aacoa_c + h_c + nadh_c <=> 3hbcoa_c + nad_c\n",
      "1%    0.245  HACD2     3ohcoa_c + h_c + nadh_c <=> 3hhcoa_c + nad_c\n",
      "1%    0.245  HACD3     3oocoa_c + h_c + nadh_c <=> 3hocoa_c + nad_c\n",
      "1%    0.245  HACD4     3odcoa_c + h_c + nadh_c <=> 3hdcoa_c + nad_c\n",
      "1%    0.245  HACD5     3oddcoa_c + h_c + nadh_c <=> 3hddcoa_c + nad_c\n",
      "None\n",
      "************************\n",
      "PRODUCING REACTIONS -- Nicotinamide adenine dinucleotide - reduced (nadh_c)\n",
      "---------------------------------------------------------------------------\n",
      "%      FLUX  RXN ID    REACTION\n",
      "---  ------  --------  --------------------------------------------------\n",
      "66%  22      MDH       mal__L_c + nad_c <=> h_c + nadh_c + oaa_c\n",
      "30%   9.91   PDH       coa_c + nad_c + pyr_c --> accoa_c + co2_c + nadh_c\n",
      "3%    0.961  PGCD      3pg_c + nad_c --> 3php_c + h_c + nadh_c\n",
      "1%    0.26   IPMD      3c2hmp_c + nad_c --> 3c4mop_c + h_c + nadh_c\n",
      "\n",
      "CONSUMING REACTIONS -- Nicotinamide adenine dinucleotide - reduced (nadh_c)\n",
      "---------------------------------------------------------------------------\n",
      "%      FLUX  RXN ID    REACTION\n",
      "---  ------  --------  --------------------------------------------------\n",
      "71%  23.5    NADH16pp  4.0 h_c + nadh_c + q8_c --> 3.0 h_p + nad_c + q...\n",
      "21%   7.07   THD2pp    2.0 h_p + nadh_c + nadp_c --> 2.0 h_c + nad_c +...\n",
      "4%    1.39   GAPD      g3p_c + nad_c + pi_c <=> 13dpg_c + h_c + nadh_c\n",
      "None\n"
     ]
    }
   ],
   "source": [
    "''' look at NADH in the models, after loopless solution'''\n",
    "print(new_cit_minus_model.metabolites.nadh_c.summary())\n",
    "print('************************')\n",
    "print(new_DM25_cit_plus_model.metabolites.nadh_c.summary())\n",
    "print('************************')\n",
    "print(new_DM0_cit_plus_model.metabolites.nadh_c.summary())\n"
   ]
  }
 ],
 "metadata": {
  "kernelspec": {
   "display_name": "Python 3",
   "language": "python",
   "name": "python3"
  },
  "language_info": {
   "codemirror_mode": {
    "name": "ipython",
    "version": 3
   },
   "file_extension": ".py",
   "mimetype": "text/x-python",
   "name": "python",
   "nbconvert_exporter": "python",
   "pygments_lexer": "ipython3",
   "version": "3.6.7"
  }
 },
 "nbformat": 4,
 "nbformat_minor": 2
}
