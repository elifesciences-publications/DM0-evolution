{
 "cells": [
  {
   "cell_type": "code",
   "execution_count": 30,
   "metadata": {
    "collapsed": true
   },
   "outputs": [],
   "source": [
    "'''\n",
    "plot-growth-Fig2.py by Rohan Maddamsetti.\n",
    "\n",
    "This script loads the well labels, and the raw time series data\n",
    "from the plate reader.\n",
    "\n",
    "It then puts these data into 'tidy' format in a data frame.\n",
    "'tidy' is the format that Hadley Wickham uses.\n",
    "\n",
    "The analysis follows what Zack has done:\n",
    "1) average blank measurement at every time point.\n",
    "2) subtract average blank measurement from each time point.\n",
    "3) log2 transform the data.\n",
    "4) plot the mean of the log-transformed data.\n",
    "5) plot facets using seaborn.\n",
    "'''\n",
    "\n",
    "%matplotlib inline\n",
    "\n",
    "from math import log2\n",
    "from os.path import join\n",
    "import numpy as np\n",
    "import pandas as pd\n",
    "import seaborn as sns\n",
    "import matplotlib as mpl\n",
    "import matplotlib.pyplot as plt\n"
   ]
  },
  {
   "cell_type": "code",
   "execution_count": 2,
   "metadata": {
    "collapsed": true
   },
   "outputs": [],
   "source": [
    "def read_plate_labels(f):\n",
    "    ''' return a tidy pandas dataframe with the well layout.'''\n",
    "    fh = open(f)\n",
    "    cols = { 'Name':[], 'Well':[] }\n",
    "    for i,l in enumerate(fh):\n",
    "        l = l.strip()\n",
    "        if i == 0:\n",
    "            continue\n",
    "        data = l.split(',')\n",
    "        row = data[0]\n",
    "        names = data[1:]\n",
    "        column = [str(i) for i in [1,2,3,4,5,6,7,8,9,10,11,12]]\n",
    "        well = [row+x for x in column]\n",
    "        assert len(well) == len(names)\n",
    "        for i in range(len(well)):\n",
    "            cols['Well'].append(well[i])\n",
    "            cols['Name'].append(names[i])\n",
    "    return pd.DataFrame(cols)"
   ]
  },
  {
   "cell_type": "code",
   "execution_count": 3,
   "metadata": {
    "collapsed": true
   },
   "outputs": [],
   "source": [
    "def read_growth_data(f):\n",
    "    ''' return a tidy pandas dataframe of the growth curve time series.'''\n",
    "    cols = {'Time':[], 'Temperature':[],'Well':[],'OD420':[]}\n",
    "    fh = open(f)\n",
    "    well = []\n",
    "    for i,l in enumerate(fh):\n",
    "        l = l.strip()\n",
    "        if i == 0:\n",
    "            well = l.split(',')[2:]\n",
    "            continue\n",
    "        data = l.split(',')\n",
    "        time = data[0]\n",
    "        temp = data[1]\n",
    "        OD420 = data[2:]\n",
    "        assert len(well) == len(OD420)\n",
    "        for i in range(len(well)):            \n",
    "            cols['Time'].append(pd.to_datetime(time))\n",
    "            cols['Temperature'].append(temp)\n",
    "            cols['Well'].append(well[i])\n",
    "            cols['OD420'].append(float(OD420[i]))\n",
    "    return pd.DataFrame(cols)"
   ]
  },
  {
   "cell_type": "code",
   "execution_count": 56,
   "metadata": {
    "collapsed": true
   },
   "outputs": [],
   "source": [
    "def process_data(df):\n",
    "    '''\n",
    "    1) average blank at each time point.\n",
    "    2) subtract blank.\n",
    "    3) log2 transform OD420.\n",
    "    4) get average log2(OD420) for each strain\n",
    "    then return the dataframe.\n",
    "    '''\n",
    "\n",
    "    blank_data = df[df.Name=='Blank']\n",
    "    blank_time_avg = blank_data.groupby('Time').mean()\n",
    "    ##print(blank_time_avg)\n",
    "    ##print(blank_time_avg.dtypes)\n",
    "    ##df = df.sort_values('Time')\n",
    "    ##blank_subtract = pd.concat([blank_time_avg]*96)#.sort('Time')\n",
    "    ##print(blank_subtract.dtypes)\n",
    "    ##quit()\n",
    "    ## This next line is really slow (~7 seconds).\n",
    "    df['subtracted_OD420'] = df.apply(lambda x: x['OD420'] - blank_time_avg.loc[x['Time']],axis=1)\n",
    "    ##df['subtracted_OD420'] = df.apply(lambda x: x['OD420'] - blank_time_avg.loc[x['Time']] + 1,axis=1)\n",
    "    ## This next line is not too slow.\n",
    "    df['log2_OD420'] = df['subtracted_OD420'].apply(lambda x: log2(x) if x > 0 else -np.inf)\n",
    "    df2 = df.groupby(['Time','Name']).mean().reset_index()\n",
    "    ## filter out Blank rows.\n",
    "    df2 = df2[df2.Name != 'Blank']\n",
    "    return df2"
   ]
  },
  {
   "cell_type": "code",
   "execution_count": 57,
   "metadata": {
    "collapsed": false
   },
   "outputs": [
    {
     "ename": "TypeError",
     "evalue": "mean() got an unexpected keyword argument 'skipna'",
     "output_type": "error",
     "traceback": [
      "\u001b[0;31m---------------------------------------------------------------------------\u001b[0m",
      "\u001b[0;31mTypeError\u001b[0m                                 Traceback (most recent call last)",
      "\u001b[0;32m<ipython-input-57-41aa52eb3288>\u001b[0m in \u001b[0;36m<module>\u001b[0;34m()\u001b[0m\n\u001b[1;32m     15\u001b[0m \u001b[0mfull_DM25_data\u001b[0m \u001b[0;34m=\u001b[0m \u001b[0mpd\u001b[0m\u001b[0;34m.\u001b[0m\u001b[0mmerge\u001b[0m\u001b[0;34m(\u001b[0m\u001b[0mtidy_DM25_data\u001b[0m\u001b[0;34m,\u001b[0m\u001b[0mplate_labels\u001b[0m\u001b[0;34m,\u001b[0m\u001b[0mhow\u001b[0m\u001b[0;34m=\u001b[0m\u001b[0;34m'outer'\u001b[0m\u001b[0;34m,\u001b[0m\u001b[0mon\u001b[0m\u001b[0;34m=\u001b[0m\u001b[0;34m'Well'\u001b[0m\u001b[0;34m)\u001b[0m\u001b[0;34m\u001b[0m\u001b[0m\n\u001b[1;32m     16\u001b[0m \u001b[0;34m\u001b[0m\u001b[0m\n\u001b[0;32m---> 17\u001b[0;31m \u001b[0mavgDM0values\u001b[0m \u001b[0;34m=\u001b[0m \u001b[0mprocess_data\u001b[0m\u001b[0;34m(\u001b[0m\u001b[0mfull_DM0_data\u001b[0m\u001b[0;34m)\u001b[0m\u001b[0;34m\u001b[0m\u001b[0m\n\u001b[0m\u001b[1;32m     18\u001b[0m \u001b[0mlabeled_avgDM0values\u001b[0m \u001b[0;34m=\u001b[0m \u001b[0mpd\u001b[0m\u001b[0;34m.\u001b[0m\u001b[0mmerge\u001b[0m\u001b[0;34m(\u001b[0m\u001b[0mavgDM0values\u001b[0m\u001b[0;34m,\u001b[0m\u001b[0mpop_labels\u001b[0m\u001b[0;34m,\u001b[0m\u001b[0mhow\u001b[0m\u001b[0;34m=\u001b[0m\u001b[0;34m'left'\u001b[0m\u001b[0;34m,\u001b[0m\u001b[0mon\u001b[0m\u001b[0;34m=\u001b[0m\u001b[0;34m'Name'\u001b[0m\u001b[0;34m)\u001b[0m\u001b[0;34m\u001b[0m\u001b[0m\n\u001b[1;32m     19\u001b[0m \u001b[0;34m\u001b[0m\u001b[0m\n",
      "\u001b[0;32m<ipython-input-56-416615304df1>\u001b[0m in \u001b[0;36mprocess_data\u001b[0;34m(df)\u001b[0m\n\u001b[1;32m     21\u001b[0m     \u001b[0;31m## This next line is not too slow.\u001b[0m\u001b[0;34m\u001b[0m\u001b[0;34m\u001b[0m\u001b[0m\n\u001b[1;32m     22\u001b[0m     \u001b[0mdf\u001b[0m\u001b[0;34m[\u001b[0m\u001b[0;34m'log2_OD420'\u001b[0m\u001b[0;34m]\u001b[0m \u001b[0;34m=\u001b[0m \u001b[0mdf\u001b[0m\u001b[0;34m[\u001b[0m\u001b[0;34m'subtracted_OD420'\u001b[0m\u001b[0;34m]\u001b[0m\u001b[0;34m.\u001b[0m\u001b[0mapply\u001b[0m\u001b[0;34m(\u001b[0m\u001b[0;32mlambda\u001b[0m \u001b[0mx\u001b[0m\u001b[0;34m:\u001b[0m \u001b[0mlog2\u001b[0m\u001b[0;34m(\u001b[0m\u001b[0mx\u001b[0m\u001b[0;34m)\u001b[0m \u001b[0;32mif\u001b[0m \u001b[0mx\u001b[0m \u001b[0;34m>\u001b[0m \u001b[0;36m0\u001b[0m \u001b[0;32melse\u001b[0m \u001b[0;34m-\u001b[0m\u001b[0mnp\u001b[0m\u001b[0;34m.\u001b[0m\u001b[0minf\u001b[0m\u001b[0;34m)\u001b[0m\u001b[0;34m\u001b[0m\u001b[0m\n\u001b[0;32m---> 23\u001b[0;31m     \u001b[0mdf2\u001b[0m \u001b[0;34m=\u001b[0m \u001b[0mdf\u001b[0m\u001b[0;34m.\u001b[0m\u001b[0mgroupby\u001b[0m\u001b[0;34m(\u001b[0m\u001b[0;34m[\u001b[0m\u001b[0;34m'Time'\u001b[0m\u001b[0;34m,\u001b[0m\u001b[0;34m'Name'\u001b[0m\u001b[0;34m]\u001b[0m\u001b[0;34m)\u001b[0m\u001b[0;34m.\u001b[0m\u001b[0mmean\u001b[0m\u001b[0;34m(\u001b[0m\u001b[0mskipna\u001b[0m\u001b[0;34m=\u001b[0m\u001b[0;32mTrue\u001b[0m\u001b[0;34m)\u001b[0m\u001b[0;34m.\u001b[0m\u001b[0mreset_index\u001b[0m\u001b[0;34m(\u001b[0m\u001b[0;34m)\u001b[0m\u001b[0;34m\u001b[0m\u001b[0m\n\u001b[0m\u001b[1;32m     24\u001b[0m     \u001b[0;31m## filter out Blank rows.\u001b[0m\u001b[0;34m\u001b[0m\u001b[0;34m\u001b[0m\u001b[0m\n\u001b[1;32m     25\u001b[0m     \u001b[0mdf2\u001b[0m \u001b[0;34m=\u001b[0m \u001b[0mdf2\u001b[0m\u001b[0;34m[\u001b[0m\u001b[0mdf2\u001b[0m\u001b[0;34m.\u001b[0m\u001b[0mName\u001b[0m \u001b[0;34m!=\u001b[0m \u001b[0;34m'Blank'\u001b[0m\u001b[0;34m]\u001b[0m\u001b[0;34m\u001b[0m\u001b[0m\n",
      "\u001b[0;31mTypeError\u001b[0m: mean() got an unexpected keyword argument 'skipna'"
     ]
    }
   ],
   "source": [
    "proj_dir = \"/Users/Rohandinho/Dropbox (HMS)/DM-zero-evolution/\"\n",
    "data_dir = \"data/rohan-formatted/\"\n",
    "\n",
    "wellfile = join(proj_dir,data_dir,\"growth-plate-layout.csv\")\n",
    "plate_labels = read_plate_labels(wellfile)\n",
    "popfile = join(proj_dir,data_dir,\"populations-and-clones.csv\")\n",
    "pop_labels = pd.read_csv(popfile)\n",
    "\n",
    "raw_DM0data = join(proj_dir,data_dir,\"DM0-evolved-DM0-growth-4-18-13.csv\")\n",
    "tidy_DM0_data = read_growth_data(raw_DM0data)\n",
    "full_DM0_data = pd.merge(tidy_DM0_data,plate_labels,how='outer',on='Well')\n",
    "\n",
    "raw_DM25data = join(proj_dir,data_dir,\"DM0-evolved-DM25-growth-4-15-13.csv\")\n",
    "tidy_DM25_data = read_growth_data(raw_DM25data)\n",
    "full_DM25_data = pd.merge(tidy_DM25_data,plate_labels,how='outer',on='Well')\n",
    "    \n",
    "avgDM0values = process_data(full_DM0_data)\n",
    "labeled_avgDM0values = pd.merge(avgDM0values,pop_labels,how='left',on='Name')\n",
    "\n",
    "avgDM25values = process_data(full_DM25_data)\n",
    "labeled_avgDM25values = pd.merge(avgDM25values,pop_labels,how='left',on='Name')"
   ]
  },
  {
   "cell_type": "code",
   "execution_count": null,
   "metadata": {
    "collapsed": false
   },
   "outputs": [],
   "source": [
    "''' now make Figure 2.'''\n",
    "outfile=\"/Users/Rohandinho/Desktop/test1.pdf\"\n",
    "sns.set(style=\"ticks\")\n",
    "\n",
    "#ax = sns.tsplot(data=labeled_avgDM0values, time=\"Time\", unit=\"Name\",condition=\"Name\", value=\"log2_OD420\")\n",
    "ax.set(ylim=(10, 40))\n",
    "g = sns.FacetGrid(labeled_avgDM0values, col=\"Founder\")\n",
    "## datetime does not play nicely with scatterplot!\n",
    "#g.map_dataframe(plt.scatter,\"Time\",\"log2_OD420\", c=\"Name\") \n",
    "g.map_dataframe(sns.tsplot, time=\"Time\",unit=\"Name\",\n",
    "                condition=\"Name\",value=\"log2_OD420\") \n",
    "g.savefig(outfile)\n",
    "print(set(labeled_avgDM0values.Name))"
   ]
  },
  {
   "cell_type": "code",
   "execution_count": null,
   "metadata": {
    "collapsed": false
   },
   "outputs": [],
   "source": [
    "outfile=\"/Users/Rohandinho/Desktop/test2.pdf\"\n",
    "sns.set(style=\"ticks\")\n",
    "\n",
    "#ax = sns.tsplot(data=labeled_avgDM0values, time=\"Time\", unit=\"Name\",condition=\"Name\", value=\"log2_OD420\")\n",
    "ax.set(ylim=(10, 40))\n",
    "g = sns.FacetGrid(labeled_avgDM25values, col=\"Founder\")\n",
    "## datetime does not play nicely with scatterplot!\n",
    "#g.map_dataframe(plt.scatter,\"Time\",\"log2_OD420\", c=\"Name\") \n",
    "g.map_dataframe(sns.tsplot, time=\"Time\",unit=\"Name\",\n",
    "                condition=\"Name\",value=\"log2_OD420\") \n",
    "g.savefig(outfile)"
   ]
  },
  {
   "cell_type": "code",
   "execution_count": null,
   "metadata": {
    "collapsed": true
   },
   "outputs": [],
   "source": []
  },
  {
   "cell_type": "code",
   "execution_count": null,
   "metadata": {
    "collapsed": true
   },
   "outputs": [],
   "source": []
  }
 ],
 "metadata": {
  "anaconda-cloud": {},
  "kernelspec": {
   "display_name": "Python [conda root]",
   "language": "python",
   "name": "conda-root-py"
  },
  "language_info": {
   "codemirror_mode": {
    "name": "ipython",
    "version": 3
   },
   "file_extension": ".py",
   "mimetype": "text/x-python",
   "name": "python",
   "nbconvert_exporter": "python",
   "pygments_lexer": "ipython3",
   "version": "3.5.2"
  }
 },
 "nbformat": 4,
 "nbformat_minor": 0
}
