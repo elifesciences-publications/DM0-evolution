{
 "cells": [
  {
   "cell_type": "code",
   "execution_count": 1,
   "metadata": {},
   "outputs": [],
   "source": [
    "import cobra\n",
    "from cobra.medium import minimal_medium\n",
    "from cobra.flux_analysis import (\n",
    "    single_gene_deletion, single_reaction_deletion, double_gene_deletion,\n",
    "    double_reaction_deletion)\n",
    "\n",
    "import numpy as np\n",
    "import pandas as pd"
   ]
  },
  {
   "cell_type": "code",
   "execution_count": 2,
   "metadata": {},
   "outputs": [],
   "source": [
    "'''load the base model for REL606.'''\n",
    "base_model = cobra.io.read_sbml_model('../metabolic-modeling/iECB_1328.xml.gz')\n",
    "\n",
    "max_growth = base_model.slim_optimize()\n",
    "base_model.medium = minimal_medium(base_model, max_growth)"
   ]
  },
  {
   "cell_type": "code",
   "execution_count": 3,
   "metadata": {},
   "outputs": [],
   "source": [
    "glucose_model = base_model.copy()\n",
    "citrate_model = base_model.copy()\n",
    "## set glucose to zero, and citrate to 10.0.\n",
    "DM0 = citrate_model.medium\n",
    "DM0['EX_glc__D_e'] = 0.0\n",
    "DM0['EX_cit_e'] = 10.0\n",
    "citrate_model.medium = DM0\n",
    "\n",
    "assert 'EX_cit_e' in citrate_model.medium\n",
    "assert 'EX_glc__D_e' not in citrate_model.medium\n",
    "assert 'EX_cit_e' not in glucose_model.medium\n",
    "assert 'EX_glc__D_e' in glucose_model.medium"
   ]
  },
  {
   "cell_type": "code",
   "execution_count": 4,
   "metadata": {},
   "outputs": [],
   "source": [
    "''' consider comparing ATPM objective against biomass objective. '''\n",
    "##glucose_model.objective = \"ATPM\"\n",
    "##citrate_model.objective = \"ATPM\"\n",
    "\n",
    "glucose_fba_solution = glucose_model.optimize()\n",
    "citrate_fba_solution = citrate_model.optimize()"
   ]
  },
  {
   "cell_type": "code",
   "execution_count": 5,
   "metadata": {},
   "outputs": [
    {
     "data": {
      "text/html": [
       "<strong><em>Optimal</em> solution with objective value 0.482</strong><br><div>\n",
       "<style scoped>\n",
       "    .dataframe tbody tr th:only-of-type {\n",
       "        vertical-align: middle;\n",
       "    }\n",
       "\n",
       "    .dataframe tbody tr th {\n",
       "        vertical-align: top;\n",
       "    }\n",
       "\n",
       "    .dataframe thead th {\n",
       "        text-align: right;\n",
       "    }\n",
       "</style>\n",
       "<table border=\"1\" class=\"dataframe\">\n",
       "  <thead>\n",
       "    <tr style=\"text-align: right;\">\n",
       "      <th></th>\n",
       "      <th>fluxes</th>\n",
       "      <th>reduced_costs</th>\n",
       "    </tr>\n",
       "  </thead>\n",
       "  <tbody>\n",
       "    <tr>\n",
       "      <th>DM_4crsol_c</th>\n",
       "      <td>1.074086e-04</td>\n",
       "      <td>0.000000e+00</td>\n",
       "    </tr>\n",
       "    <tr>\n",
       "      <th>DM_5drib_c</th>\n",
       "      <td>1.083720e-04</td>\n",
       "      <td>0.000000e+00</td>\n",
       "    </tr>\n",
       "    <tr>\n",
       "      <th>DM_aacald_c</th>\n",
       "      <td>0.000000e+00</td>\n",
       "      <td>0.000000e+00</td>\n",
       "    </tr>\n",
       "    <tr>\n",
       "      <th>DM_amob_c</th>\n",
       "      <td>9.633062e-07</td>\n",
       "      <td>0.000000e+00</td>\n",
       "    </tr>\n",
       "    <tr>\n",
       "      <th>DM_mththf_c</th>\n",
       "      <td>2.157806e-04</td>\n",
       "      <td>0.000000e+00</td>\n",
       "    </tr>\n",
       "    <tr>\n",
       "      <th>...</th>\n",
       "      <td>...</td>\n",
       "      <td>...</td>\n",
       "    </tr>\n",
       "    <tr>\n",
       "      <th>URFGTT</th>\n",
       "      <td>0.000000e+00</td>\n",
       "      <td>-2.809823e-01</td>\n",
       "    </tr>\n",
       "    <tr>\n",
       "      <th>3HBCOAHL</th>\n",
       "      <td>0.000000e+00</td>\n",
       "      <td>0.000000e+00</td>\n",
       "    </tr>\n",
       "    <tr>\n",
       "      <th>DMALRED</th>\n",
       "      <td>1.052841e+00</td>\n",
       "      <td>4.857226e-17</td>\n",
       "    </tr>\n",
       "    <tr>\n",
       "      <th>AMMQT8_2</th>\n",
       "      <td>0.000000e+00</td>\n",
       "      <td>0.000000e+00</td>\n",
       "    </tr>\n",
       "    <tr>\n",
       "      <th>PPOR</th>\n",
       "      <td>0.000000e+00</td>\n",
       "      <td>0.000000e+00</td>\n",
       "    </tr>\n",
       "  </tbody>\n",
       "</table>\n",
       "<p>2748 rows × 2 columns</p>\n",
       "</div>"
      ],
      "text/plain": [
       "<Solution 0.482 at 0x1095a17f0>"
      ]
     },
     "execution_count": 5,
     "metadata": {},
     "output_type": "execute_result"
    }
   ],
   "source": [
    "citrate_fba_solution"
   ]
  },
  {
   "cell_type": "code",
   "execution_count": 6,
   "metadata": {},
   "outputs": [
    {
     "name": "stdout",
     "output_type": "stream",
     "text": [
      "IN FLUXES          OUT FLUXES    OBJECTIVES\n",
      "-----------------  ------------  ----------------------\n",
      "o2_e    11.4       for_e  25.6   BIOMASS_Ec_i...  0.482\n",
      "cit_e   10         co2_e  14.7\n",
      "nh4_e    5.2       h2o_e   7.37\n",
      "pi_e     0.465\n",
      "so4_e    0.121\n",
      "k_e      0.094\n",
      "fe2_e    0.00774\n",
      "mg2_e    0.00418\n",
      "cl_e     0.00251\n",
      "ca2_e    0.00251\n",
      "cu2_e    0.000341\n",
      "mn2_e    0.000333\n",
      "zn2_e    0.000164\n",
      "ni2_e    0.000156\n",
      "mobd_e   6.21e-05\n"
     ]
    }
   ],
   "source": [
    "citrate_model.summary()"
   ]
  },
  {
   "cell_type": "code",
   "execution_count": 7,
   "metadata": {},
   "outputs": [],
   "source": [
    "DM0_pfba_solution = cobra.flux_analysis.pfba(citrate_model)\n",
    "DM25_pfba_solution = cobra.flux_analysis.pfba(glucose_model)"
   ]
  },
  {
   "cell_type": "code",
   "execution_count": 8,
   "metadata": {},
   "outputs": [
    {
     "data": {
      "text/plain": [
       "'nad_c + oaa_c --> nadh_c + pyr_c'"
      ]
     },
     "execution_count": 8,
     "metadata": {},
     "output_type": "execute_result"
    }
   ],
   "source": [
    "''' add this reaction to maeA: nad[c] + oaa[c] ->pyr[c] + nadh[c].\n",
    "    This model is the difference between citrate_model2 and citrate_model.'''\n",
    "\n",
    "\n",
    "maeA_side_reaction = cobra.Reaction('MAEA')\n",
    "maeA_side_reaction.name = 'maeA_side_rxn '\n",
    "maeA_side_reaction.subsystem = 'Anaplerotic Reactions'\n",
    "maeA_side_reaction.lower_bound = 0.  # This is the default\n",
    "maeA_side_reaction.upper_bound = 1000.  # This is the default\n",
    "\n",
    "citrate_model2 = citrate_model.copy()\n",
    "citrate_model2.add_reaction(maeA_side_reaction)\n",
    "\n",
    "maeA_side_reaction.add_metabolites({\n",
    "    'nad_c': -1.0,\n",
    "    'oaa_c': -1.0,\n",
    "    'pyr_c': 1.0,\n",
    "    'nadh_c': 1.0,\n",
    "})\n",
    "\n",
    "maeA_side_reaction.reaction\n",
    "\n"
   ]
  },
  {
   "cell_type": "code",
   "execution_count": 26,
   "metadata": {},
   "outputs": [],
   "source": [
    "DM25_citrate_model = citrate_model2.copy()\n",
    "DM25 = DM25_citrate_model.medium\n",
    "DM25['EX_glc__D_e'] = 1.0\n",
    "DM25['EX_cit_e'] = 10.0\n",
    "DM25_citrate_model.medium = DM0\n"
   ]
  },
  {
   "cell_type": "code",
   "execution_count": 27,
   "metadata": {},
   "outputs": [],
   "source": [
    "\n",
    "citrate_fba_solution2 = citrate_model2.optimize()\n",
    "DM0_pfba_solution2 = cobra.flux_analysis.pfba(citrate_model2)\n",
    "DM25_citrate_fba_solution = DM25_citrate_model.optimize()"
   ]
  },
  {
   "cell_type": "code",
   "execution_count": 10,
   "metadata": {},
   "outputs": [
    {
     "name": "stdout",
     "output_type": "stream",
     "text": [
      "IN FLUXES          OUT FLUXES    OBJECTIVES\n",
      "-----------------  ------------  ----------------------\n",
      "o2_e    15.8       for_e  25.1   BIOMASS_Ec_i...  0.536\n",
      "cit_e   10         h2o_e  20\n",
      "nh4_e    5.79\n",
      "pi_e     0.517\n",
      "so4_e    0.135\n",
      "k_e      0.105\n",
      "fe2_e    0.00861\n",
      "mg2_e    0.00465\n",
      "cl_e     0.00279\n",
      "ca2_e    0.00279\n",
      "cu2_e    0.00038\n",
      "mn2_e    0.00037\n",
      "zn2_e    0.000183\n",
      "ni2_e    0.000173\n",
      "mobd_e   6.91e-05\n"
     ]
    }
   ],
   "source": [
    "citrate_model2.summary()"
   ]
  },
  {
   "cell_type": "code",
   "execution_count": 11,
   "metadata": {},
   "outputs": [
    {
     "name": "stdout",
     "output_type": "stream",
     "text": [
      "PRODUCING REACTIONS -- Pyruvate (pyr_c)\n",
      "---------------------------------------\n",
      "%      FLUX  RXN ID    REACTION\n",
      "---  ------  --------  --------------------------------------------------\n",
      "77%  20.8    POR5      coa_c + 2.0 flxso_c + pyr_c <=> accoa_c + co2_c...\n",
      "23%   6.19   ME2       mal__L_c + nadp_c --> co2_c + nadph_c + pyr_c\n",
      "\n",
      "CONSUMING REACTIONS -- Pyruvate (pyr_c)\n",
      "---------------------------------------\n",
      "%      FLUX  RXN ID    REACTION\n",
      "---  ------  --------  --------------------------------------------------\n",
      "95%  25.6    PFL       coa_c + pyr_c --> accoa_c + for_c\n",
      "3%    0.842  ACLS      h_c + 2.0 pyr_c --> alac__S_c + co2_c\n",
      "1%    0.28   ALATA_L   akg_c + ala__L_c <=> glu__L_c + pyr_c\n",
      "PRODUCING REACTIONS -- L-Malate (mal__L_c)\n",
      "------------------------------------------\n",
      "%       FLUX  RXN ID    REACTION\n",
      "----  ------  --------  ---------------------------------------------\n",
      "100%   13.2   FUM       fum_c + h2o_c <=> mal__L_c\n",
      "\n",
      "CONSUMING REACTIONS -- L-Malate (mal__L_c)\n",
      "------------------------------------------\n",
      "%       FLUX  RXN ID    REACTION\n",
      "----  ------  --------  ---------------------------------------------\n",
      "47%     6.19  ME2       mal__L_c + nadp_c --> co2_c + nadph_c + pyr_c\n",
      "45%     5.99  MDH       mal__L_c + nad_c <=> h_c + nadh_c + oaa_c\n",
      "8%      1.05  DMALRED   fad_c + mal__L_c --> fadh2_c + oaa_c\n",
      "PRODUCING REACTIONS -- Oxaloacetate (oaa_c)\n",
      "-------------------------------------------\n",
      "%      FLUX  RXN ID    REACTION\n",
      "---  ------  --------  -----------------------------------------------\n",
      "85%    5.99  MDH       mal__L_c + nad_c <=> h_c + nadh_c + oaa_c\n",
      "15%    1.05  DMALRED   fad_c + mal__L_c --> fadh2_c + oaa_c\n",
      "\n",
      "CONSUMING REACTIONS -- Oxaloacetate (oaa_c)\n",
      "-------------------------------------------\n",
      "%      FLUX  RXN ID    REACTION\n",
      "---  ------  --------  -----------------------------------------------\n",
      "46%    3.24  CS        accoa_c + h2o_c + oaa_c --> cit_c + coa_c + h_c\n",
      "34%    2.39  PPCK      atp_c + oaa_c --> adp_c + co2_c + pep_c\n",
      "20%    1.41  ASPTA     akg_c + asp__L_c <=> glu__L_c + oaa_c\n"
     ]
    }
   ],
   "source": [
    "citrate_model.metabolites.pyr_c.summary()\n",
    "citrate_model.metabolites.mal__L_c.summary()\n",
    "citrate_model.metabolites.oaa_c.summary()"
   ]
  },
  {
   "cell_type": "code",
   "execution_count": 12,
   "metadata": {},
   "outputs": [
    {
     "name": "stdout",
     "output_type": "stream",
     "text": [
      "PRODUCING REACTIONS -- Pyruvate (pyr_c)\n",
      "---------------------------------------\n",
      "%      FLUX  RXN ID    REACTION\n",
      "---  ------  --------  --------------------------------------------------\n",
      "51%  13.7    POR5      coa_c + 2.0 flxso_c + pyr_c <=> accoa_c + co2_c...\n",
      "49%  12.9    MAEA      nad_c + oaa_c --> nadh_c + pyr_c\n",
      "\n",
      "CONSUMING REACTIONS -- Pyruvate (pyr_c)\n",
      "---------------------------------------\n",
      "%      FLUX  RXN ID    REACTION\n",
      "---  ------  --------  --------------------------------------------------\n",
      "94%  25.1    PFL       coa_c + pyr_c --> accoa_c + for_c\n",
      "4%    0.937  ACLS      h_c + 2.0 pyr_c --> alac__S_c + co2_c\n",
      "2%    0.538  ALATA_L   akg_c + ala__L_c <=> glu__L_c + pyr_c\n",
      "PRODUCING REACTIONS -- L-Malate (mal__L_c)\n",
      "------------------------------------------\n",
      "%      FLUX  RXN ID    REACTION\n",
      "---  ------  --------  --------------------------------------------------\n",
      "63%   12.5   FUM       fum_c + h2o_c <=> mal__L_c\n",
      "37%    7.17  MALS      accoa_c + glx_c + h2o_c --> coa_c + h_c + mal__L_c\n",
      "\n",
      "CONSUMING REACTIONS -- L-Malate (mal__L_c)\n",
      "------------------------------------------\n",
      "%      FLUX  RXN ID    REACTION\n",
      "---  ------  --------  --------------------------------------------------\n",
      "94%   18.5   MDH       mal__L_c + nad_c <=> h_c + nadh_c + oaa_c\n",
      "6%     1.17  DMALRED   fad_c + mal__L_c --> fadh2_c + oaa_c\n",
      "PRODUCING REACTIONS -- Oxaloacetate (oaa_c)\n",
      "-------------------------------------------\n",
      "%      FLUX  RXN ID    REACTION\n",
      "---  ------  --------  -----------------------------------------------\n",
      "94%   18.5   MDH       mal__L_c + nad_c <=> h_c + nadh_c + oaa_c\n",
      "6%     1.17  DMALRED   fad_c + mal__L_c --> fadh2_c + oaa_c\n",
      "\n",
      "CONSUMING REACTIONS -- Oxaloacetate (oaa_c)\n",
      "-------------------------------------------\n",
      "%      FLUX  RXN ID    REACTION\n",
      "---  ------  --------  -----------------------------------------------\n",
      "66%   12.9   MAEA      nad_c + oaa_c --> nadh_c + pyr_c\n",
      "14%    2.66  PPCK      atp_c + oaa_c --> adp_c + co2_c + pep_c\n",
      "13%    2.48  CS        accoa_c + h2o_c + oaa_c --> cit_c + coa_c + h_c\n",
      "8%     1.57  ASPTA     akg_c + asp__L_c <=> glu__L_c + oaa_c\n"
     ]
    }
   ],
   "source": [
    "citrate_model2.metabolites.pyr_c.summary()\n",
    "citrate_model2.metabolites.mal__L_c.summary()\n",
    "citrate_model2.metabolites.oaa_c.summary()"
   ]
  },
  {
   "cell_type": "code",
   "execution_count": 13,
   "metadata": {},
   "outputs": [
    {
     "name": "stdout",
     "output_type": "stream",
     "text": [
      "PRODUCING REACTIONS -- Citrate (cit_c)\n",
      "--------------------------------------\n",
      "%       FLUX  RXN ID    REACTION\n",
      "----  ------  --------  -----------------------------------------------\n",
      "80%    10     CITt7pp   cit_p + succ_c --> cit_c + succ_p\n",
      "20%     2.48  CS        accoa_c + h2o_c + oaa_c --> cit_c + coa_c + h_c\n",
      "\n",
      "CONSUMING REACTIONS -- Citrate (cit_c)\n",
      "--------------------------------------\n",
      "%       FLUX  RXN ID    REACTION\n",
      "----  ------  --------  -----------------------------------------------\n",
      "100%   12.5   ACONTa    cit_c <=> acon_C_c + h2o_c\n",
      "PRODUCING REACTIONS -- Cis-Aconitate (acon_C_c)\n",
      "-----------------------------------------------\n",
      "%       FLUX  RXN ID    REACTION\n",
      "----  ------  --------  ---------------------------\n",
      "100%    12.5  ACONTa    cit_c <=> acon_C_c + h2o_c\n",
      "\n",
      "CONSUMING REACTIONS -- Cis-Aconitate (acon_C_c)\n",
      "-----------------------------------------------\n",
      "%       FLUX  RXN ID    REACTION\n",
      "----  ------  --------  ---------------------------\n",
      "100%    12.5  ACONTb    acon_C_c + h2o_c <=> icit_c\n",
      "PRODUCING REACTIONS -- Isocitrate (icit_c)\n",
      "------------------------------------------\n",
      "%       FLUX  RXN ID    REACTION\n",
      "----  ------  --------  -------------------------------------------\n",
      "100%   12.5   ACONTb    acon_C_c + h2o_c <=> icit_c\n",
      "\n",
      "CONSUMING REACTIONS -- Isocitrate (icit_c)\n",
      "------------------------------------------\n",
      "%       FLUX  RXN ID    REACTION\n",
      "----  ------  --------  -------------------------------------------\n",
      "57%     7.17  ICL       icit_c --> glx_c + succ_c\n",
      "43%     5.31  ICDHyr    icit_c + nadp_c <=> akg_c + co2_c + nadph_c\n",
      "PRODUCING REACTIONS -- Acetyl-CoA (accoa_c)\n",
      "-------------------------------------------\n",
      "%      FLUX  RXN ID    REACTION\n",
      "---  ------  --------  --------------------------------------------------\n",
      "99%  25.1    PFL       coa_c + pyr_c --> accoa_c + for_c\n",
      "1%    0.312  PTAr      accoa_c + pi_c <=> actp_c + coa_c\n",
      "\n",
      "CONSUMING REACTIONS -- Acetyl-CoA (accoa_c)\n",
      "-------------------------------------------\n",
      "%      FLUX  RXN ID    REACTION\n",
      "---  ------  --------  --------------------------------------------------\n",
      "54%  13.7    POR5      coa_c + 2.0 flxso_c + pyr_c <=> accoa_c + co2_c...\n",
      "28%   7.17   MALS      accoa_c + glx_c + h2o_c --> coa_c + h_c + mal__L_c\n",
      "10%   2.48   CS        accoa_c + h2o_c + oaa_c --> cit_c + coa_c + h_c\n",
      "2%    0.381  ACACT1r   2.0 accoa_c <=> aacoa_c + coa_c\n"
     ]
    }
   ],
   "source": [
    "citrate_model2.metabolites.cit_c.summary()\n",
    "citrate_model2.metabolites.acon_C_c.summary()\n",
    "citrate_model2.metabolites.icit_c.summary()\n",
    "citrate_model2.metabolites.accoa_c.summary()"
   ]
  },
  {
   "cell_type": "code",
   "execution_count": 32,
   "metadata": {},
   "outputs": [
    {
     "data": {
      "text/html": [
       "\n",
       "        <table>\n",
       "            <tr>\n",
       "                <td><strong>Reaction identifier</strong></td><td>CITL</td>\n",
       "            </tr><tr>\n",
       "                <td><strong>Name</strong></td><td>Citrate lyase</td>\n",
       "            </tr><tr>\n",
       "                <td><strong>Memory address</strong></td>\n",
       "                <td>0x013167ec8d0</td>\n",
       "            </tr><tr>\n",
       "                <td><strong>Stoichiometry</strong></td>\n",
       "                <td>\n",
       "                    <p style='text-align:right'>cit_c --> ac_c + oaa_c</p>\n",
       "                    <p style='text-align:right'>Citrate --> Acetate + Oxaloacetate</p>\n",
       "                </td>\n",
       "            </tr><tr>\n",
       "                <td><strong>GPR</strong></td><td>ECB_00585 and ECB_00583 and ECB_00584 and ECB_00582</td>\n",
       "            </tr><tr>\n",
       "                <td><strong>Lower bound</strong></td><td>0.0</td>\n",
       "            </tr><tr>\n",
       "                <td><strong>Upper bound</strong></td><td>1000.0</td>\n",
       "            </tr>\n",
       "        </table>\n",
       "        "
      ],
      "text/plain": [
       "<Reaction CITL at 0x13167ec8d0>"
      ]
     },
     "execution_count": 32,
     "metadata": {},
     "output_type": "execute_result"
    }
   ],
   "source": [
    "citrate_model2.reactions.CITL"
   ]
  },
  {
   "cell_type": "code",
   "execution_count": 34,
   "metadata": {},
   "outputs": [
    {
     "data": {
      "text/plain": [
       "0.0"
      ]
     },
     "execution_count": 34,
     "metadata": {},
     "output_type": "execute_result"
    }
   ],
   "source": [
    "print(citrate_fba_solution2['CITL'])\n",
    "print(citrate_)"
   ]
  },
  {
   "cell_type": "code",
   "execution_count": 29,
   "metadata": {},
   "outputs": [
    {
     "name": "stdout",
     "output_type": "stream",
     "text": [
      "PRODUCING REACTIONS -- Citrate (cit_c)\n",
      "--------------------------------------\n",
      "%       FLUX  RXN ID    REACTION\n",
      "----  ------  --------  -----------------------------------------------\n",
      "80%    10     CITt7pp   cit_p + succ_c --> cit_c + succ_p\n",
      "20%     2.48  CS        accoa_c + h2o_c + oaa_c --> cit_c + coa_c + h_c\n",
      "\n",
      "CONSUMING REACTIONS -- Citrate (cit_c)\n",
      "--------------------------------------\n",
      "%       FLUX  RXN ID    REACTION\n",
      "----  ------  --------  -----------------------------------------------\n",
      "100%   12.5   ACONTa    cit_c <=> acon_C_c + h2o_c\n",
      "PRODUCING REACTIONS -- Cis-Aconitate (acon_C_c)\n",
      "-----------------------------------------------\n",
      "%       FLUX  RXN ID    REACTION\n",
      "----  ------  --------  ---------------------------\n",
      "100%    12.5  ACONTa    cit_c <=> acon_C_c + h2o_c\n",
      "\n",
      "CONSUMING REACTIONS -- Cis-Aconitate (acon_C_c)\n",
      "-----------------------------------------------\n",
      "%       FLUX  RXN ID    REACTION\n",
      "----  ------  --------  ---------------------------\n",
      "100%    12.5  ACONTb    acon_C_c + h2o_c <=> icit_c\n",
      "PRODUCING REACTIONS -- Isocitrate (icit_c)\n",
      "------------------------------------------\n",
      "%       FLUX  RXN ID    REACTION\n",
      "----  ------  --------  -------------------------------------------\n",
      "100%   12.5   ACONTb    acon_C_c + h2o_c <=> icit_c\n",
      "\n",
      "CONSUMING REACTIONS -- Isocitrate (icit_c)\n",
      "------------------------------------------\n",
      "%       FLUX  RXN ID    REACTION\n",
      "----  ------  --------  -------------------------------------------\n",
      "57%     7.17  ICL       icit_c --> glx_c + succ_c\n",
      "43%     5.31  ICDHyr    icit_c + nadp_c <=> akg_c + co2_c + nadph_c\n",
      "PRODUCING REACTIONS -- Acetyl-CoA (accoa_c)\n",
      "-------------------------------------------\n",
      "%      FLUX  RXN ID    REACTION\n",
      "---  ------  --------  --------------------------------------------------\n",
      "99%  25.1    PFL       coa_c + pyr_c --> accoa_c + for_c\n",
      "1%    0.312  PTAr      accoa_c + pi_c <=> actp_c + coa_c\n",
      "\n",
      "CONSUMING REACTIONS -- Acetyl-CoA (accoa_c)\n",
      "-------------------------------------------\n",
      "%      FLUX  RXN ID    REACTION\n",
      "---  ------  --------  --------------------------------------------------\n",
      "54%  13.7    POR5      coa_c + 2.0 flxso_c + pyr_c <=> accoa_c + co2_c...\n",
      "28%   7.17   MALS      accoa_c + glx_c + h2o_c --> coa_c + h_c + mal__L_c\n",
      "10%   2.48   CS        accoa_c + h2o_c + oaa_c --> cit_c + coa_c + h_c\n",
      "2%    0.381  ACACT1r   2.0 accoa_c <=> aacoa_c + coa_c\n",
      "PRODUCING REACTIONS -- Oxaloacetate (oaa_c)\n",
      "-------------------------------------------\n",
      "%      FLUX  RXN ID    REACTION\n",
      "---  ------  --------  -----------------------------------------------\n",
      "94%   18.5   MDH       mal__L_c + nad_c <=> h_c + nadh_c + oaa_c\n",
      "6%     1.17  DMALRED   fad_c + mal__L_c --> fadh2_c + oaa_c\n",
      "\n",
      "CONSUMING REACTIONS -- Oxaloacetate (oaa_c)\n",
      "-------------------------------------------\n",
      "%      FLUX  RXN ID    REACTION\n",
      "---  ------  --------  -----------------------------------------------\n",
      "66%   12.9   MAEA      nad_c + oaa_c --> nadh_c + pyr_c\n",
      "14%    2.66  PPCK      atp_c + oaa_c --> adp_c + co2_c + pep_c\n",
      "13%    2.48  CS        accoa_c + h2o_c + oaa_c --> cit_c + coa_c + h_c\n",
      "8%     1.57  ASPTA     akg_c + asp__L_c <=> glu__L_c + oaa_c\n"
     ]
    }
   ],
   "source": [
    "DM25_citrate_model.metabolites.cit_c.summary()\n",
    "DM25_citrate_model.metabolites.acon_C_c.summary()\n",
    "DM25_citrate_model.metabolites.icit_c.summary()\n",
    "DM25_citrate_model.metabolites.accoa_c.summary()\n",
    "DM25_citrate_model.metabolites.oaa_c.summary()"
   ]
  },
  {
   "cell_type": "code",
   "execution_count": 14,
   "metadata": {},
   "outputs": [
    {
     "name": "stdout",
     "output_type": "stream",
     "text": [
      "PRODUCING REACTIONS -- L-Malate (mal__L_c)\n",
      "------------------------------------------\n",
      "%       FLUX  RXN ID    REACTION\n",
      "----  ------  --------  ---------------------------------------------\n",
      "100%   13.2   FUM       fum_c + h2o_c <=> mal__L_c\n",
      "\n",
      "CONSUMING REACTIONS -- L-Malate (mal__L_c)\n",
      "------------------------------------------\n",
      "%       FLUX  RXN ID    REACTION\n",
      "----  ------  --------  ---------------------------------------------\n",
      "47%     6.19  ME2       mal__L_c + nadp_c --> co2_c + nadph_c + pyr_c\n",
      "45%     5.99  MDH       mal__L_c + nad_c <=> h_c + nadh_c + oaa_c\n",
      "8%      1.05  DMALRED   fad_c + mal__L_c --> fadh2_c + oaa_c\n",
      "PRODUCING REACTIONS -- Oxaloacetate (oaa_c)\n",
      "-------------------------------------------\n",
      "%      FLUX  RXN ID    REACTION\n",
      "---  ------  --------  -----------------------------------------------\n",
      "85%    5.99  MDH       mal__L_c + nad_c <=> h_c + nadh_c + oaa_c\n",
      "15%    1.05  DMALRED   fad_c + mal__L_c --> fadh2_c + oaa_c\n",
      "\n",
      "CONSUMING REACTIONS -- Oxaloacetate (oaa_c)\n",
      "-------------------------------------------\n",
      "%      FLUX  RXN ID    REACTION\n",
      "---  ------  --------  -----------------------------------------------\n",
      "46%    3.24  CS        accoa_c + h2o_c + oaa_c --> cit_c + coa_c + h_c\n",
      "34%    2.39  PPCK      atp_c + oaa_c --> adp_c + co2_c + pep_c\n",
      "20%    1.41  ASPTA     akg_c + asp__L_c <=> glu__L_c + oaa_c\n",
      "PRODUCING REACTIONS -- Pyruvate (pyr_c)\n",
      "---------------------------------------\n",
      "%      FLUX  RXN ID    REACTION\n",
      "---  ------  --------  --------------------------------------------------\n",
      "77%  20.8    POR5      coa_c + 2.0 flxso_c + pyr_c <=> accoa_c + co2_c...\n",
      "23%   6.19   ME2       mal__L_c + nadp_c --> co2_c + nadph_c + pyr_c\n",
      "\n",
      "CONSUMING REACTIONS -- Pyruvate (pyr_c)\n",
      "---------------------------------------\n",
      "%      FLUX  RXN ID    REACTION\n",
      "---  ------  --------  --------------------------------------------------\n",
      "95%  25.6    PFL       coa_c + pyr_c --> accoa_c + for_c\n",
      "3%    0.842  ACLS      h_c + 2.0 pyr_c --> alac__S_c + co2_c\n",
      "1%    0.28   ALATA_L   akg_c + ala__L_c <=> glu__L_c + pyr_c\n",
      "PRODUCING REACTIONS -- Citrate (cit_c)\n",
      "--------------------------------------\n",
      "%       FLUX  RXN ID    REACTION\n",
      "----  ------  --------  -----------------------------------------------\n",
      "76%    10     CITt7pp   cit_p + succ_c --> cit_c + succ_p\n",
      "24%     3.24  CS        accoa_c + h2o_c + oaa_c --> cit_c + coa_c + h_c\n",
      "\n",
      "CONSUMING REACTIONS -- Citrate (cit_c)\n",
      "--------------------------------------\n",
      "%       FLUX  RXN ID    REACTION\n",
      "----  ------  --------  -----------------------------------------------\n",
      "100%   13.2   ACONTa    cit_c <=> acon_C_c + h2o_c\n"
     ]
    }
   ],
   "source": [
    "citrate_model.metabolites.mal__L_c.summary()\n",
    "citrate_model.metabolites.oaa_c.summary()\n",
    "citrate_model.metabolites.pyr_c.summary()\n",
    "citrate_model.metabolites.cit_c.summary()"
   ]
  },
  {
   "cell_type": "code",
   "execution_count": 15,
   "metadata": {},
   "outputs": [
    {
     "name": "stdout",
     "output_type": "stream",
     "text": [
      "PRODUCING REACTIONS -- L-Malate (mal__L_c)\n",
      "------------------------------------------\n",
      "%       FLUX  RXN ID    REACTION\n",
      "----  ------  --------  -----------------------------------------\n",
      "100%    4.82  FUM       fum_c + h2o_c <=> mal__L_c\n",
      "\n",
      "CONSUMING REACTIONS -- L-Malate (mal__L_c)\n",
      "------------------------------------------\n",
      "%       FLUX  RXN ID    REACTION\n",
      "----  ------  --------  -----------------------------------------\n",
      "55%     2.68  MDH       mal__L_c + nad_c <=> h_c + nadh_c + oaa_c\n",
      "45%     2.15  DMALRED   fad_c + mal__L_c --> fadh2_c + oaa_c\n",
      "PRODUCING REACTIONS -- Oxaloacetate (oaa_c)\n",
      "-------------------------------------------\n",
      "%      FLUX  RXN ID    REACTION\n",
      "---  ------  --------  -----------------------------------------------\n",
      "38%    2.91  PPC       co2_c + h2o_c + pep_c --> h_c + oaa_c + pi_c\n",
      "35%    2.68  MDH       mal__L_c + nad_c <=> h_c + nadh_c + oaa_c\n",
      "28%    2.15  DMALRED   fad_c + mal__L_c --> fadh2_c + oaa_c\n",
      "\n",
      "CONSUMING REACTIONS -- Oxaloacetate (oaa_c)\n",
      "-------------------------------------------\n",
      "%      FLUX  RXN ID    REACTION\n",
      "---  ------  --------  -----------------------------------------------\n",
      "63%    4.86  CS        accoa_c + h2o_c + oaa_c --> cit_c + coa_c + h_c\n",
      "37%    2.88  ASPTA     akg_c + asp__L_c <=> glu__L_c + oaa_c\n",
      "PRODUCING REACTIONS -- Pyruvate (pyr_c)\n",
      "---------------------------------------\n",
      "%      FLUX  RXN ID    REACTION\n",
      "---  ------  --------  --------------------------------------------------\n",
      "91%  10      GLCptspp  glc__D_p + pep_c --> g6p_c + pyr_c\n",
      "8%    0.864  PYK       adp_c + h_c + pep_c --> atp_c + pyr_c\n",
      "1%    0.151  CYSTL     cyst__L_c + h2o_c --> hcys__L_c + nh4_c + pyr_c\n",
      "\n",
      "CONSUMING REACTIONS -- Pyruvate (pyr_c)\n",
      "---------------------------------------\n",
      "%      FLUX  RXN ID    REACTION\n",
      "---  ------  --------  --------------------------------------------------\n",
      "72%   7.97   PDH       coa_c + nad_c + pyr_c --> accoa_c + co2_c + nadh_c\n",
      "16%   1.72   ACLS      h_c + 2.0 pyr_c --> alac__S_c + co2_c\n",
      "5%    0.571  ALATA_L   akg_c + ala__L_c <=> glu__L_c + pyr_c\n",
      "3%    0.364  DHDPS     aspsa_c + pyr_c --> 23dhdp_c + 2.0 h2o_c + h_c\n",
      "3%    0.285  ACHBS     2obut_c + h_c + pyr_c --> 2ahbut_c + co2_c\n",
      "1%    0.107  POR5      coa_c + 2.0 flxso_c + pyr_c <=> accoa_c + co2_c...\n",
      "PRODUCING REACTIONS -- Acetyl-CoA (accoa_c)\n",
      "-------------------------------------------\n",
      "%      FLUX  RXN ID    REACTION\n",
      "---  ------  --------  --------------------------------------------------\n",
      "92%  7.97    PDH       coa_c + nad_c + pyr_c --> accoa_c + co2_c + nadh_c\n",
      "7%   0.572   ACS       ac_c + atp_c + coa_c --> accoa_c + amp_c + ppi_c\n",
      "1%   0.107   POR5      coa_c + 2.0 flxso_c + pyr_c <=> accoa_c + co2_c...\n",
      "\n",
      "CONSUMING REACTIONS -- Acetyl-CoA (accoa_c)\n",
      "-------------------------------------------\n",
      "%      FLUX  RXN ID    REACTION\n",
      "---  ------  --------  --------------------------------------------------\n",
      "56%  4.86    CS        accoa_c + h2o_c + oaa_c --> cit_c + coa_c + h_c\n",
      "8%   0.699   ACACT1r   2.0 accoa_c <=> aacoa_c + coa_c\n",
      "5%   0.443   IPPS      3mob_c + accoa_c + h2o_c --> 3c3hmp_c + coa_c +...\n",
      "4%   0.35    ACACT2r   accoa_c + btcoa_c <=> 3ohcoa_c + coa_c\n",
      "4%   0.35    ACACT3r   accoa_c + hxcoa_c <=> 3oocoa_c + coa_c\n",
      "4%   0.35    ACACT4r   accoa_c + occoa_c <=> 3odcoa_c + coa_c\n",
      "4%   0.35    ACACT5r   accoa_c + dcacoa_c <=> 3oddcoa_c + coa_c\n",
      "3%   0.291   ACGS      accoa_c + glu__L_c --> acglu_c + coa_c + h_c\n",
      "3%   0.273   ACACT6r   accoa_c + ddcacoa_c <=> 3otdcoa_c + coa_c\n",
      "3%   0.273   ACACT7r   accoa_c + tdcoa_c <=> 3ohdcoa_c + coa_c\n",
      "3%   0.244   SERAT     accoa_c + ser__L_c <=> acser_c + coa_c\n",
      "1%   0.0928  G1PACT    accoa_c + gam1p_c --> acgam1p_c + coa_c + h_c\n"
     ]
    }
   ],
   "source": [
    "glucose_model.metabolites.mal__L_c.summary()\n",
    "glucose_model.metabolites.oaa_c.summary()\n",
    "glucose_model.metabolites.pyr_c.summary()\n",
    "glucose_model.metabolites.accoa_c.summary()"
   ]
  },
  {
   "cell_type": "code",
   "execution_count": 16,
   "metadata": {},
   "outputs": [],
   "source": [
    "''' look at effects of single and double gene and reaction knockouts.'''\n",
    "single_gene_KO_results = single_gene_deletion(citrate_model2, return_frame=True)\n",
    "single_rxn_KO_results = single_reaction_deletion(citrate_model2, return_frame=True)"
   ]
  },
  {
   "cell_type": "code",
   "execution_count": 17,
   "metadata": {},
   "outputs": [],
   "source": [
    "##double_gene_KO_results = double_gene_deletion(citrate_model2, return_frame=True)"
   ]
  },
  {
   "cell_type": "code",
   "execution_count": 18,
   "metadata": {},
   "outputs": [],
   "source": [
    "##double_rxn_KO_results = double_reactions_deletion(citrate_model2, return_frame=True)"
   ]
  },
  {
   "cell_type": "code",
   "execution_count": 19,
   "metadata": {},
   "outputs": [
    {
     "data": {
      "text/html": [
       "<strong><em>Optimal</em> solution with objective value 0.536</strong><br><div>\n",
       "<style scoped>\n",
       "    .dataframe tbody tr th:only-of-type {\n",
       "        vertical-align: middle;\n",
       "    }\n",
       "\n",
       "    .dataframe tbody tr th {\n",
       "        vertical-align: top;\n",
       "    }\n",
       "\n",
       "    .dataframe thead th {\n",
       "        text-align: right;\n",
       "    }\n",
       "</style>\n",
       "<table border=\"1\" class=\"dataframe\">\n",
       "  <thead>\n",
       "    <tr style=\"text-align: right;\">\n",
       "      <th></th>\n",
       "      <th>fluxes</th>\n",
       "      <th>reduced_costs</th>\n",
       "    </tr>\n",
       "  </thead>\n",
       "  <tbody>\n",
       "    <tr>\n",
       "      <th>DM_4crsol_c</th>\n",
       "      <td>0.000119</td>\n",
       "      <td>0.000000e+00</td>\n",
       "    </tr>\n",
       "    <tr>\n",
       "      <th>DM_5drib_c</th>\n",
       "      <td>0.000121</td>\n",
       "      <td>0.000000e+00</td>\n",
       "    </tr>\n",
       "    <tr>\n",
       "      <th>DM_aacald_c</th>\n",
       "      <td>0.000000</td>\n",
       "      <td>0.000000e+00</td>\n",
       "    </tr>\n",
       "    <tr>\n",
       "      <th>DM_amob_c</th>\n",
       "      <td>0.000001</td>\n",
       "      <td>0.000000e+00</td>\n",
       "    </tr>\n",
       "    <tr>\n",
       "      <th>DM_mththf_c</th>\n",
       "      <td>0.000240</td>\n",
       "      <td>0.000000e+00</td>\n",
       "    </tr>\n",
       "    <tr>\n",
       "      <th>...</th>\n",
       "      <td>...</td>\n",
       "      <td>...</td>\n",
       "    </tr>\n",
       "    <tr>\n",
       "      <th>3HBCOAHL</th>\n",
       "      <td>0.000000</td>\n",
       "      <td>0.000000e+00</td>\n",
       "    </tr>\n",
       "    <tr>\n",
       "      <th>DMALRED</th>\n",
       "      <td>1.171222</td>\n",
       "      <td>-8.326673e-17</td>\n",
       "    </tr>\n",
       "    <tr>\n",
       "      <th>AMMQT8_2</th>\n",
       "      <td>0.000000</td>\n",
       "      <td>-2.938272e-01</td>\n",
       "    </tr>\n",
       "    <tr>\n",
       "      <th>PPOR</th>\n",
       "      <td>0.000000</td>\n",
       "      <td>2.775558e-17</td>\n",
       "    </tr>\n",
       "    <tr>\n",
       "      <th>MAEA</th>\n",
       "      <td>12.929011</td>\n",
       "      <td>0.000000e+00</td>\n",
       "    </tr>\n",
       "  </tbody>\n",
       "</table>\n",
       "<p>2749 rows × 2 columns</p>\n",
       "</div>"
      ],
      "text/plain": [
       "<Solution 0.536 at 0x131574d240>"
      ]
     },
     "execution_count": 19,
     "metadata": {},
     "output_type": "execute_result"
    }
   ],
   "source": [
    "citrate_fba_solution2"
   ]
  },
  {
   "cell_type": "code",
   "execution_count": 20,
   "metadata": {},
   "outputs": [],
   "source": [
    "glucose_model2 = glucose_model.copy()\n",
    "glucose_model2.add_reaction(maeA_side_reaction)\n",
    "glucose_fba_solution2 = glucose_model2.optimize()"
   ]
  },
  {
   "cell_type": "code",
   "execution_count": 21,
   "metadata": {},
   "outputs": [
    {
     "data": {
      "text/html": [
       "<strong><em>Optimal</em> solution with objective value 0.982</strong><br><div>\n",
       "<style scoped>\n",
       "    .dataframe tbody tr th:only-of-type {\n",
       "        vertical-align: middle;\n",
       "    }\n",
       "\n",
       "    .dataframe tbody tr th {\n",
       "        vertical-align: top;\n",
       "    }\n",
       "\n",
       "    .dataframe thead th {\n",
       "        text-align: right;\n",
       "    }\n",
       "</style>\n",
       "<table border=\"1\" class=\"dataframe\">\n",
       "  <thead>\n",
       "    <tr style=\"text-align: right;\">\n",
       "      <th></th>\n",
       "      <th>fluxes</th>\n",
       "      <th>reduced_costs</th>\n",
       "    </tr>\n",
       "  </thead>\n",
       "  <tbody>\n",
       "    <tr>\n",
       "      <th>DM_4crsol_c</th>\n",
       "      <td>0.000219</td>\n",
       "      <td>0.000000e+00</td>\n",
       "    </tr>\n",
       "    <tr>\n",
       "      <th>DM_5drib_c</th>\n",
       "      <td>0.000221</td>\n",
       "      <td>0.000000e+00</td>\n",
       "    </tr>\n",
       "    <tr>\n",
       "      <th>DM_aacald_c</th>\n",
       "      <td>0.000000</td>\n",
       "      <td>0.000000e+00</td>\n",
       "    </tr>\n",
       "    <tr>\n",
       "      <th>DM_amob_c</th>\n",
       "      <td>0.000002</td>\n",
       "      <td>0.000000e+00</td>\n",
       "    </tr>\n",
       "    <tr>\n",
       "      <th>DM_mththf_c</th>\n",
       "      <td>0.000440</td>\n",
       "      <td>0.000000e+00</td>\n",
       "    </tr>\n",
       "    <tr>\n",
       "      <th>...</th>\n",
       "      <td>...</td>\n",
       "      <td>...</td>\n",
       "    </tr>\n",
       "    <tr>\n",
       "      <th>3HBCOAHL</th>\n",
       "      <td>0.000000</td>\n",
       "      <td>0.000000e+00</td>\n",
       "    </tr>\n",
       "    <tr>\n",
       "      <th>DMALRED</th>\n",
       "      <td>2.147590</td>\n",
       "      <td>6.937330e-17</td>\n",
       "    </tr>\n",
       "    <tr>\n",
       "      <th>AMMQT8_2</th>\n",
       "      <td>0.000000</td>\n",
       "      <td>-1.110223e-16</td>\n",
       "    </tr>\n",
       "    <tr>\n",
       "      <th>PPOR</th>\n",
       "      <td>0.000000</td>\n",
       "      <td>-5.923989e-13</td>\n",
       "    </tr>\n",
       "    <tr>\n",
       "      <th>MAEA</th>\n",
       "      <td>0.000000</td>\n",
       "      <td>-3.530509e-14</td>\n",
       "    </tr>\n",
       "  </tbody>\n",
       "</table>\n",
       "<p>2749 rows × 2 columns</p>\n",
       "</div>"
      ],
      "text/plain": [
       "<Solution 0.982 at 0x13201be278>"
      ]
     },
     "execution_count": 21,
     "metadata": {},
     "output_type": "execute_result"
    }
   ],
   "source": [
    "glucose_fba_solution2"
   ]
  },
  {
   "cell_type": "code",
   "execution_count": 22,
   "metadata": {},
   "outputs": [
    {
     "data": {
      "text/html": [
       "<strong><em>Optimal</em> solution with objective value 0.982</strong><br><div>\n",
       "<style scoped>\n",
       "    .dataframe tbody tr th:only-of-type {\n",
       "        vertical-align: middle;\n",
       "    }\n",
       "\n",
       "    .dataframe tbody tr th {\n",
       "        vertical-align: top;\n",
       "    }\n",
       "\n",
       "    .dataframe thead th {\n",
       "        text-align: right;\n",
       "    }\n",
       "</style>\n",
       "<table border=\"1\" class=\"dataframe\">\n",
       "  <thead>\n",
       "    <tr style=\"text-align: right;\">\n",
       "      <th></th>\n",
       "      <th>fluxes</th>\n",
       "      <th>reduced_costs</th>\n",
       "    </tr>\n",
       "  </thead>\n",
       "  <tbody>\n",
       "    <tr>\n",
       "      <th>DM_4crsol_c</th>\n",
       "      <td>0.000219</td>\n",
       "      <td>0.000000e+00</td>\n",
       "    </tr>\n",
       "    <tr>\n",
       "      <th>DM_5drib_c</th>\n",
       "      <td>0.000221</td>\n",
       "      <td>0.000000e+00</td>\n",
       "    </tr>\n",
       "    <tr>\n",
       "      <th>DM_aacald_c</th>\n",
       "      <td>0.000000</td>\n",
       "      <td>0.000000e+00</td>\n",
       "    </tr>\n",
       "    <tr>\n",
       "      <th>DM_amob_c</th>\n",
       "      <td>0.000002</td>\n",
       "      <td>0.000000e+00</td>\n",
       "    </tr>\n",
       "    <tr>\n",
       "      <th>DM_mththf_c</th>\n",
       "      <td>0.000440</td>\n",
       "      <td>0.000000e+00</td>\n",
       "    </tr>\n",
       "    <tr>\n",
       "      <th>...</th>\n",
       "      <td>...</td>\n",
       "      <td>...</td>\n",
       "    </tr>\n",
       "    <tr>\n",
       "      <th>URFGTT</th>\n",
       "      <td>0.000000</td>\n",
       "      <td>-1.935384e-13</td>\n",
       "    </tr>\n",
       "    <tr>\n",
       "      <th>3HBCOAHL</th>\n",
       "      <td>0.000000</td>\n",
       "      <td>1.110223e-16</td>\n",
       "    </tr>\n",
       "    <tr>\n",
       "      <th>DMALRED</th>\n",
       "      <td>2.147590</td>\n",
       "      <td>3.739075e-18</td>\n",
       "    </tr>\n",
       "    <tr>\n",
       "      <th>AMMQT8_2</th>\n",
       "      <td>0.000000</td>\n",
       "      <td>-1.110223e-16</td>\n",
       "    </tr>\n",
       "    <tr>\n",
       "      <th>PPOR</th>\n",
       "      <td>0.000000</td>\n",
       "      <td>-3.164226e-13</td>\n",
       "    </tr>\n",
       "  </tbody>\n",
       "</table>\n",
       "<p>2748 rows × 2 columns</p>\n",
       "</div>"
      ],
      "text/plain": [
       "<Solution 0.982 at 0x1136cb630>"
      ]
     },
     "execution_count": 22,
     "metadata": {},
     "output_type": "execute_result"
    }
   ],
   "source": [
    "glucose_fba_solution"
   ]
  },
  {
   "cell_type": "code",
   "execution_count": 23,
   "metadata": {},
   "outputs": [],
   "source": [
    "g_flux = glucose_fba_solution2.fluxes\n",
    "c_flux = citrate_fba_solution2.fluxes\n",
    "\n",
    "g_flux_norm = np.sqrt(np.square(g_flux).sum())\n",
    "c_flux_norm = np.sqrt(np.square(c_flux).sum())"
   ]
  },
  {
   "cell_type": "code",
   "execution_count": 24,
   "metadata": {},
   "outputs": [
    {
     "name": "stdout",
     "output_type": "stream",
     "text": [
      "40\n"
     ]
    },
    {
     "data": {
      "text/plain": [
       "EX_h2o_e       -25.609232\n",
       "FORtex         -25.076853\n",
       "EX_co2_e       -19.670846\n",
       "GAPD           -17.563637\n",
       "ATPS4rpp       -17.556249\n",
       "ENO            -16.796841\n",
       "POR5           -16.429884\n",
       "NADH16pp       -11.526452\n",
       "TARTRt7pp      -10.000000\n",
       "GLCtex_copy1   -10.000000\n",
       "GLCptspp       -10.000000\n",
       "EX_cit_e       -10.000000\n",
       "EX_h_e          -9.027240\n",
       "TPI             -8.186825\n",
       "PDH             -7.967447\n",
       "FBA             -7.082600\n",
       "PFK             -6.616169\n",
       "PGI             -5.916320\n",
       "ACONTb           7.626828\n",
       "ACONTa           7.626828\n",
       "FUM              7.641277\n",
       "SUCDi            7.781785\n",
       "Htex             9.027240\n",
       "CITtex          10.000000\n",
       "CITt7pp         10.000000\n",
       "TARTRtpp        10.000000\n",
       "EX_glc__D_e     10.000000\n",
       "MAEA            12.929011\n",
       "MDH             13.132857\n",
       "THD2pp          15.513836\n",
       "FLDR2           16.337511\n",
       "PGM             16.796841\n",
       "PGK             17.563637\n",
       "CO2tex          19.670846\n",
       "CO2tpp          19.670846\n",
       "PFL             25.075539\n",
       "FORtppi         25.076853\n",
       "EX_for_e        25.076853\n",
       "H2Otpp          25.609232\n",
       "H2Otex          25.609232\n",
       "Name: fluxes, dtype: float64"
      ]
     },
     "execution_count": 24,
     "metadata": {},
     "output_type": "execute_result"
    }
   ],
   "source": [
    "flux_diff = c_flux - g_flux\n",
    "flux_diff2 = flux_diff[np.abs(flux_diff) > 5]\n",
    "print(len(flux_diff2))\n",
    "flux_diff2.sort_values()"
   ]
  },
  {
   "cell_type": "code",
   "execution_count": 25,
   "metadata": {},
   "outputs": [
    {
     "ename": "SyntaxError",
     "evalue": "invalid syntax (<ipython-input-25-19eab681b898>, line 5)",
     "output_type": "error",
     "traceback": [
      "\u001b[0;36m  File \u001b[0;32m\"<ipython-input-25-19eab681b898>\"\u001b[0;36m, line \u001b[0;32m5\u001b[0m\n\u001b[0;31m    c_perp2 = c_perp[c_perp != 0].\u001b[0m\n\u001b[0m                                  ^\u001b[0m\n\u001b[0;31mSyntaxError\u001b[0m\u001b[0;31m:\u001b[0m invalid syntax\n"
     ]
    }
   ],
   "source": [
    "g_flux.dot(c_flux)/(g_flux_norm*c_flux_norm)\n",
    "\n",
    "c_proj_on_g = (c_flux.dot(g_flux)/c_flux_norm) * c_flux\n",
    "c_perp = c_flux - c_proj_on_g\n",
    "c_perp2 = c_perp[c_perp != 0]."
   ]
  },
  {
   "cell_type": "code",
   "execution_count": null,
   "metadata": {},
   "outputs": [],
   "source": [
    "c_perp2.sort_values()"
   ]
  },
  {
   "cell_type": "code",
   "execution_count": null,
   "metadata": {},
   "outputs": [],
   "source": [
    "''' knock out only those reactions with no flow under glucose.'''\n",
    "\n",
    "c_perp_rxns = list(c_perp2.index)\n",
    "KO_reactions = [x for x in citrate_model2.reactions if x._id in c_perp_rxns]\n",
    "\n",
    "single_rxn_perp_KO_results = single_reaction_deletion(citrate_model2, KO_reactions)\n",
    "singleKO_results2 = single_rxn_perp_KO_results.copy()\n",
    "singleKO_results2['comp'] = 0.536 - singleKO_results2['growth']\n",
    "singleKO_results2['comp'].sort_values()"
   ]
  },
  {
   "cell_type": "code",
   "execution_count": null,
   "metadata": {},
   "outputs": [],
   "source": [
    "''' let us look for reactions which increase flux in response to higher glucose input,\n",
    "    but decrease flux in response to higher citrate input, or vice-versa.\n",
    "    These would be candidate reactions for antagonistic pleiotropy.'''\n",
    "\n",
    "## increment glucose or citrate influx from 10.0 to 11.0.\n",
    "## note that result is somewhat sensitive to +/- epsilon: MAEA is pleiotropic for -e but not +e.\n",
    "epsilon = 0.5\n",
    "\n",
    "glucose_model_dx = glucose_model2.copy()\n",
    "citrate_model_dy = citrate_model2.copy()\n",
    "DM25_dx = glucose_model2.medium\n",
    "DM0_dy = citrate_model2.medium\n",
    "DM25_dx['EX_glc__D_e'] = DM25_dx['EX_glc__D_e'] - epsilon\n",
    "DM0_dy['EX_cit_e'] = DM0_dy['EX_cit_e'] - epsilon\n",
    "glucose_model_dx.medium = DM25_dx\n",
    "citrate_model_dy.medium = DM0_dy\n",
    "glucose_dx_solution = glucose_model_dx.optimize()\n",
    "citrate_dy_solution = citrate_model_dy.optimize()\n",
    "\n",
    "dCdy = citrate_dy_solution.fluxes - citrate_fba_solution2.fluxes\n",
    "dGdx = glucose_dx_solution.fluxes - glucose_fba_solution2.fluxes\n",
    "\n",
    "flux_derivative = pd.DataFrame({'dCdy':dCdy,'dGdx':dGdx})\n",
    "flux_derivative['vec_norm'] = np.sqrt(np.square(flux_derivative).sum(axis=1))\n",
    "flux_derivative['product'] = flux_derivative['dCdy']*flux_derivative['dGdx']"
   ]
  },
  {
   "cell_type": "code",
   "execution_count": null,
   "metadata": {},
   "outputs": [],
   "source": [
    "flux_derivative2 = flux_derivative[flux_derivative['vec_norm'] > epsilon]"
   ]
  },
  {
   "cell_type": "code",
   "execution_count": null,
   "metadata": {},
   "outputs": [],
   "source": [
    "''' this result shows no tradeoff between glucose and citrate, neglecting the costs of gene expression.\n",
    "    what if I fix oxaloacetate decarboxylation at some value? Perhaps some tradeoff. But gene regulation could\n",
    "    alleviate the tradeoff.'''\n",
    "dGdx_norm = np.sqrt(np.square(flux_derivative['dGdx']).sum())\n",
    "dCdy_norm = np.sqrt(np.square(flux_derivative['dCdy']).sum())\n",
    "theta = np.arccos(flux_derivative2['dCdy'].dot(flux_derivative2['dGdx'])/(dGdx_norm*dCdy_norm))\n",
    "print(theta)\n",
    "flux_derivative2.sort_values('vec_norm').round(2)\n",
    "flux_derivative2.sort_values('product').round(2)\n",
    "flux_derivative2.sort_values('dCdy').round(2)"
   ]
  },
  {
   "cell_type": "code",
   "execution_count": null,
   "metadata": {},
   "outputs": [],
   "source": [
    "''' save FBA model in JSON and write to file. Then play with escher.github.io.'''\n",
    "cobra.io.save_json_model(citrate_model2, \"../metabolic-modeling/citrate2.json\")"
   ]
  },
  {
   "cell_type": "code",
   "execution_count": null,
   "metadata": {},
   "outputs": [],
   "source": [
    "''' measure the cost of maeA flux if fixed to the same value as in DM0.'''\n",
    "glucose_model3 = glucose_model2.copy()\n",
    "glucose_model3.reactions.MAEA.lower_bound = 10\n",
    "test = glucose_model3.optimize()\n",
    "test"
   ]
  },
  {
   "cell_type": "code",
   "execution_count": null,
   "metadata": {},
   "outputs": [],
   "source": []
  }
 ],
 "metadata": {
  "kernelspec": {
   "display_name": "Python 3",
   "language": "python",
   "name": "python3"
  },
  "language_info": {
   "codemirror_mode": {
    "name": "ipython",
    "version": 3
   },
   "file_extension": ".py",
   "mimetype": "text/x-python",
   "name": "python",
   "nbconvert_exporter": "python",
   "pygments_lexer": "ipython3",
   "version": "3.6.8"
  }
 },
 "nbformat": 4,
 "nbformat_minor": 2
}
